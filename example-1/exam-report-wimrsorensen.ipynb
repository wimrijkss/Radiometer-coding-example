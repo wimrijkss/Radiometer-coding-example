{
 "cells": [
  {
   "cell_type": "markdown",
   "metadata": {},
   "source": [
    "# Data Intelligence - [BBDAINT1KU]\n",
    "|Wim Rijk Sørensen|wiso@itu.dk|26.05.2021|\n",
    "|-----------|-----------|-----------|"
   ]
  },
  {
   "cell_type": "markdown",
   "metadata": {},
   "source": [
    "## Introduction\n",
    "For this exam, I have chosen to work with the “rentals.csv” data set, which has information about apartments that are being rented out in New York. An analysis of this data is interesting to look at to get a better understanding of the housing market in America’s largest city.\n",
    "\n",
    "To accomplish this, an initial inception alongside some cleaning of the data will be conducted. Based on this inception of data, a hypothesis will be created to have a direction for the analysis. From the results of the analysis, I will conduct an evaluation which will lead to a discussion about the impact of the findings. Lastly, a conclusion will be made to tie together the knowledge that was gained from the report."
   ]
  },
  {
   "cell_type": "markdown",
   "metadata": {},
   "source": [
    "## Libraries\n",
    "A Python library is a collection of blocks of code that can be used in one’s project. So instead of writing the code from scratch each time a specific function is needed, a library containing the desired functionalities can be imported. It is an easy way to simplify and streamline the way one’ code is written (Advani, 2020).\n",
    "\n",
    "In the following section, I will explain the libraries that will be used for this report."
   ]
  },
  {
   "cell_type": "markdown",
   "metadata": {},
   "source": [
    "### pandas & NumPy\n",
    "NumPy provide an efficient way of storing data and making operations on data as the arrays become larger in size. A NumPy array is a grid of values and it form a core of the ecosystem on which data science tools in Python are built (VanderPlas, 2016). pandas is a powerful open-source library built on top of NumPy. It is used for its ability to make working with data fast and easy. It utilizes two main data structures, which are Series and DataFrames. A Series is a one-dimensional object, which contains an array whereas a DataFrame is a two-dimensional object, which has a tabular data structure, much like a spreadsheet (McKinney, 2012). A DataFrame offers a convenient structure of data, where the rows and columns are labeled and easily manipulated. \n",
    "\n",
    "For this report, the pandas library will be used to structure, clean, manipulate and analyze the given data set.\n",
    "\n",
    "\n",
    "### matplotlib & seaborn\n",
    "matplotlib, as the name suggests, is a library used for plotting and visualizing data in 2D. It is multi-platform data visualization library built on NumPy arrays (VanderPlas, 2016). Over the years, it has shown its age, why newer packages have been built on top of its powerful internals. Among these, are Seaborn, which provides simple high-level functions for common statistical plot types (VanderPlas, 2016).\n",
    "\n",
    "For this report, a combination of these two libraries will be used to visualize the given data set. \n",
    "\n",
    "##### note: scikit-learn will be explained in the analysis part"
   ]
  },
  {
   "cell_type": "code",
   "execution_count": 1,
   "metadata": {},
   "outputs": [],
   "source": [
    "import pandas as pd\n",
    "import numpy as np\n",
    "\n",
    "import matplotlib.pyplot as plt\n",
    "import seaborn as sns\n",
    "\n",
    "import sklearn.preprocessing\n",
    "import sklearn.linear_model\n",
    "import sklearn.ensemble\n",
    "import sklearn.metrics\n",
    "from sklearn.preprocessing import LabelEncoder, OneHotEncoder"
   ]
  },
  {
   "cell_type": "markdown",
   "metadata": {},
   "source": [
    "## Data \n",
    "By using the function load_data, the data coming from the argument \"path\" will be read by the pandas method \"read_csv\". Because the file \"rentals.csv\" is placed in a folder called “exam-data”, the file path is called “exam-data/rentals.csv”, so it can be linked to the notebook."
   ]
  },
  {
   "cell_type": "code",
   "execution_count": 2,
   "metadata": {},
   "outputs": [],
   "source": [
    "def load_data(path):\n",
    "    return pd.read_csv (path)"
   ]
  },
  {
   "cell_type": "markdown",
   "metadata": {},
   "source": [
    "## Description of the data"
   ]
  },
  {
   "cell_type": "code",
   "execution_count": 3,
   "metadata": {},
   "outputs": [
    {
     "data": {
      "text/html": [
       "<div>\n",
       "<style scoped>\n",
       "    .dataframe tbody tr th:only-of-type {\n",
       "        vertical-align: middle;\n",
       "    }\n",
       "\n",
       "    .dataframe tbody tr th {\n",
       "        vertical-align: top;\n",
       "    }\n",
       "\n",
       "    .dataframe thead th {\n",
       "        text-align: right;\n",
       "    }\n",
       "</style>\n",
       "<table border=\"1\" class=\"dataframe\">\n",
       "  <thead>\n",
       "    <tr style=\"text-align: right;\">\n",
       "      <th></th>\n",
       "      <th>id</th>\n",
       "      <th>name</th>\n",
       "      <th>host_id</th>\n",
       "      <th>host_name</th>\n",
       "      <th>neighbourhood_group</th>\n",
       "      <th>neighbourhood</th>\n",
       "      <th>latitude</th>\n",
       "      <th>longitude</th>\n",
       "      <th>room_type</th>\n",
       "      <th>price</th>\n",
       "      <th>minimum_nights</th>\n",
       "      <th>number_of_reviews</th>\n",
       "      <th>last_review</th>\n",
       "      <th>reviews_per_month</th>\n",
       "      <th>calculated_host_listings_count</th>\n",
       "      <th>availability_365</th>\n",
       "    </tr>\n",
       "  </thead>\n",
       "  <tbody>\n",
       "    <tr>\n",
       "      <th>0</th>\n",
       "      <td>2539</td>\n",
       "      <td>Clean &amp; quiet apt home by the park</td>\n",
       "      <td>2787</td>\n",
       "      <td>John</td>\n",
       "      <td>Brooklyn</td>\n",
       "      <td>Kensington</td>\n",
       "      <td>40.64749</td>\n",
       "      <td>-73.97237</td>\n",
       "      <td>Private room</td>\n",
       "      <td>149</td>\n",
       "      <td>1</td>\n",
       "      <td>9</td>\n",
       "      <td>2018-10-19</td>\n",
       "      <td>0.21</td>\n",
       "      <td>6</td>\n",
       "      <td>365</td>\n",
       "    </tr>\n",
       "    <tr>\n",
       "      <th>1</th>\n",
       "      <td>2595</td>\n",
       "      <td>Skylit Midtown Castle</td>\n",
       "      <td>2845</td>\n",
       "      <td>Jennifer</td>\n",
       "      <td>Manhattan</td>\n",
       "      <td>Midtown</td>\n",
       "      <td>40.75362</td>\n",
       "      <td>-73.98377</td>\n",
       "      <td>Entire home/apt</td>\n",
       "      <td>225</td>\n",
       "      <td>1</td>\n",
       "      <td>45</td>\n",
       "      <td>2019-05-21</td>\n",
       "      <td>0.38</td>\n",
       "      <td>2</td>\n",
       "      <td>355</td>\n",
       "    </tr>\n",
       "    <tr>\n",
       "      <th>2</th>\n",
       "      <td>3647</td>\n",
       "      <td>THE VILLAGE OF HARLEM....NEW YORK !</td>\n",
       "      <td>4632</td>\n",
       "      <td>Elisabeth</td>\n",
       "      <td>Manhattan</td>\n",
       "      <td>Harlem</td>\n",
       "      <td>40.80902</td>\n",
       "      <td>-73.94190</td>\n",
       "      <td>Private room</td>\n",
       "      <td>150</td>\n",
       "      <td>3</td>\n",
       "      <td>0</td>\n",
       "      <td>NaN</td>\n",
       "      <td>NaN</td>\n",
       "      <td>1</td>\n",
       "      <td>365</td>\n",
       "    </tr>\n",
       "    <tr>\n",
       "      <th>3</th>\n",
       "      <td>3831</td>\n",
       "      <td>Cozy Entire Floor of Brownstone</td>\n",
       "      <td>4869</td>\n",
       "      <td>LisaRoxanne</td>\n",
       "      <td>Brooklyn</td>\n",
       "      <td>Clinton Hill</td>\n",
       "      <td>40.68514</td>\n",
       "      <td>-73.95976</td>\n",
       "      <td>Entire home/apt</td>\n",
       "      <td>89</td>\n",
       "      <td>1</td>\n",
       "      <td>270</td>\n",
       "      <td>2019-07-05</td>\n",
       "      <td>4.64</td>\n",
       "      <td>1</td>\n",
       "      <td>194</td>\n",
       "    </tr>\n",
       "    <tr>\n",
       "      <th>4</th>\n",
       "      <td>5022</td>\n",
       "      <td>Entire Apt: Spacious Studio/Loft by central park</td>\n",
       "      <td>7192</td>\n",
       "      <td>Laura</td>\n",
       "      <td>Manhattan</td>\n",
       "      <td>East Harlem</td>\n",
       "      <td>40.79851</td>\n",
       "      <td>-73.94399</td>\n",
       "      <td>Entire home/apt</td>\n",
       "      <td>80</td>\n",
       "      <td>10</td>\n",
       "      <td>9</td>\n",
       "      <td>2018-11-19</td>\n",
       "      <td>0.10</td>\n",
       "      <td>1</td>\n",
       "      <td>0</td>\n",
       "    </tr>\n",
       "  </tbody>\n",
       "</table>\n",
       "</div>"
      ],
      "text/plain": [
       "     id                                              name  host_id  \\\n",
       "0  2539                Clean & quiet apt home by the park     2787   \n",
       "1  2595                             Skylit Midtown Castle     2845   \n",
       "2  3647               THE VILLAGE OF HARLEM....NEW YORK !     4632   \n",
       "3  3831                   Cozy Entire Floor of Brownstone     4869   \n",
       "4  5022  Entire Apt: Spacious Studio/Loft by central park     7192   \n",
       "\n",
       "     host_name neighbourhood_group neighbourhood  latitude  longitude  \\\n",
       "0         John            Brooklyn    Kensington  40.64749  -73.97237   \n",
       "1     Jennifer           Manhattan       Midtown  40.75362  -73.98377   \n",
       "2    Elisabeth           Manhattan        Harlem  40.80902  -73.94190   \n",
       "3  LisaRoxanne            Brooklyn  Clinton Hill  40.68514  -73.95976   \n",
       "4        Laura           Manhattan   East Harlem  40.79851  -73.94399   \n",
       "\n",
       "         room_type  price  minimum_nights  number_of_reviews last_review  \\\n",
       "0     Private room    149               1                  9  2018-10-19   \n",
       "1  Entire home/apt    225               1                 45  2019-05-21   \n",
       "2     Private room    150               3                  0         NaN   \n",
       "3  Entire home/apt     89               1                270  2019-07-05   \n",
       "4  Entire home/apt     80              10                  9  2018-11-19   \n",
       "\n",
       "   reviews_per_month  calculated_host_listings_count  availability_365  \n",
       "0               0.21                               6               365  \n",
       "1               0.38                               2               355  \n",
       "2                NaN                               1               365  \n",
       "3               4.64                               1               194  \n",
       "4               0.10                               1                 0  "
      ]
     },
     "execution_count": 3,
     "metadata": {},
     "output_type": "execute_result"
    }
   ],
   "source": [
    "df = load_data(\"exam-data/rentals.csv\")\n",
    "original_df = df.copy()\n",
    "df.head()"
   ]
  },
  {
   "cell_type": "markdown",
   "metadata": {},
   "source": [
    "### Initial description of the data\n",
    "From this data set, we see information about apartment rentals, whether it be an entire apartment, a shared room, or a private room. With the combination of host_names seen, I assume this data comes from a apartment rental company that caters to private house owners, like AirBnB. This also ties in with the fact, that some apartments or rooms are not being rented out the entire 365 days a year. The rows under the feature “name” lists examples such as “Clean & quiet apt home by the park” and “Cozy Entire Floor of Brownstone”, which further indicates that this data is taken from a place like AirBnB, since I have seen titles like these on sites like AirBnB. \n",
    "\n",
    "We see that the data set is taken from the city of New York, since the placements of the apartments are set in New York’s boroughs, Manhattan, Queens, Brooklyn, and so on. The price of the apartments varies, which at first glance seems to be affected by whether it is a room or an entire apartment as well as their placements. I will assume that the prices are set per day and are not affected by the number of minimum days it is required to be rented. \n",
    "\n",
    "Underneath is a table of some of the features of the data set. These are of particular interest, so they will additionally be explained.\n",
    "\n",
    "||Name|Definition|\n",
    "|---:| :- | :- |\n",
    "|1|neighbourhood_group|The boroughs in New York |\n",
    "|2|room_type |The type of place that is being rented out|\n",
    "|3|price|The price of af place per night represented in dollars|\n",
    "|4|minimum_nights|The minimum nights one needs to rent a place | \n",
    "|5|number_of_reviews|The number of reviews per place | \n",
    "|6|last_review|The date of the last time a review was made| \n",
    "|7|reviews_per_month|The average amount of reviews a place has gotten per month|\n",
    "|8|calculated_host_listings_count|How many places each host have|\n",
    "|9|availability_365|How many days a year the place is available for renting out|\n",
    "\n",
    "\n",
    "\n",
    "I will now explore the data set further with the help of descriptive statistics."
   ]
  },
  {
   "cell_type": "markdown",
   "metadata": {},
   "source": [
    "### Descriptive statistics & cleaning\n",
    "Alongside describing the data set, it is convenient also to clean it, so to minimize confusion about what should be cleaned. Doing it this way bundles the descriptive findings together with the cleaning of the data, so it will be ready for analysis, "
   ]
  },
  {
   "cell_type": "code",
   "execution_count": 4,
   "metadata": {},
   "outputs": [
    {
     "name": "stdout",
     "output_type": "stream",
     "text": [
      "<class 'pandas.core.frame.DataFrame'>\n",
      "RangeIndex: 48895 entries, 0 to 48894\n",
      "Data columns (total 16 columns):\n",
      " #   Column                          Non-Null Count  Dtype  \n",
      "---  ------                          --------------  -----  \n",
      " 0   id                              48895 non-null  int64  \n",
      " 1   name                            48879 non-null  object \n",
      " 2   host_id                         48895 non-null  int64  \n",
      " 3   host_name                       48874 non-null  object \n",
      " 4   neighbourhood_group             48895 non-null  object \n",
      " 5   neighbourhood                   48895 non-null  object \n",
      " 6   latitude                        48895 non-null  float64\n",
      " 7   longitude                       48895 non-null  float64\n",
      " 8   room_type                       48895 non-null  object \n",
      " 9   price                           48895 non-null  int64  \n",
      " 10  minimum_nights                  48895 non-null  int64  \n",
      " 11  number_of_reviews               48895 non-null  int64  \n",
      " 12  last_review                     38843 non-null  object \n",
      " 13  reviews_per_month               38843 non-null  float64\n",
      " 14  calculated_host_listings_count  48895 non-null  int64  \n",
      " 15  availability_365                48895 non-null  int64  \n",
      "dtypes: float64(3), int64(7), object(6)\n",
      "memory usage: 6.0+ MB\n"
     ]
    }
   ],
   "source": [
    "df.info()"
   ]
  },
  {
   "cell_type": "markdown",
   "metadata": {
    "scrolled": true
   },
   "source": [
    "By using the .info() method, I get an overview of the data. Here we see that the data set consists of 48895 rows and 16 columns. We see under Non-Null that most of the columns consists of filled data, but with the exceptions of ”last_review” and “reviews_per_month”. This will further be explored in with the .isnull() method."
   ]
  },
  {
   "cell_type": "code",
   "execution_count": 5,
   "metadata": {},
   "outputs": [
    {
     "data": {
      "text/plain": [
       "id                                    0\n",
       "name                                 16\n",
       "host_id                               0\n",
       "host_name                            21\n",
       "neighbourhood_group                   0\n",
       "neighbourhood                         0\n",
       "latitude                              0\n",
       "longitude                             0\n",
       "room_type                             0\n",
       "price                                 0\n",
       "minimum_nights                        0\n",
       "number_of_reviews                     0\n",
       "last_review                       10052\n",
       "reviews_per_month                 10052\n",
       "calculated_host_listings_count        0\n",
       "availability_365                      0\n",
       "dtype: int64"
      ]
     },
     "execution_count": 5,
     "metadata": {},
     "output_type": "execute_result"
    }
   ],
   "source": [
    "df.isnull().sum()"
   ]
  },
  {
   "cell_type": "markdown",
   "metadata": {},
   "source": [
    "With this method we get a better glance at where we are missing data. For the mentioned features, we are missing around a fifth of the data. It is also seen that there are some missing names and host_names, which for the sake of this report won’t be necessary to deal with."
   ]
  },
  {
   "cell_type": "markdown",
   "metadata": {},
   "source": [
    "#### Dropping features"
   ]
  },
  {
   "cell_type": "code",
   "execution_count": 6,
   "metadata": {},
   "outputs": [
    {
     "data": {
      "text/html": [
       "<div>\n",
       "<style scoped>\n",
       "    .dataframe tbody tr th:only-of-type {\n",
       "        vertical-align: middle;\n",
       "    }\n",
       "\n",
       "    .dataframe tbody tr th {\n",
       "        vertical-align: top;\n",
       "    }\n",
       "\n",
       "    .dataframe thead th {\n",
       "        text-align: right;\n",
       "    }\n",
       "</style>\n",
       "<table border=\"1\" class=\"dataframe\">\n",
       "  <thead>\n",
       "    <tr style=\"text-align: right;\">\n",
       "      <th></th>\n",
       "      <th>neighbourhood_group</th>\n",
       "      <th>neighbourhood</th>\n",
       "      <th>latitude</th>\n",
       "      <th>longitude</th>\n",
       "      <th>room_type</th>\n",
       "      <th>price</th>\n",
       "      <th>minimum_nights</th>\n",
       "      <th>number_of_reviews</th>\n",
       "      <th>last_review</th>\n",
       "      <th>reviews_per_month</th>\n",
       "      <th>calculated_host_listings_count</th>\n",
       "      <th>availability_365</th>\n",
       "    </tr>\n",
       "  </thead>\n",
       "  <tbody>\n",
       "    <tr>\n",
       "      <th>0</th>\n",
       "      <td>Brooklyn</td>\n",
       "      <td>Kensington</td>\n",
       "      <td>40.64749</td>\n",
       "      <td>-73.97237</td>\n",
       "      <td>Private room</td>\n",
       "      <td>149</td>\n",
       "      <td>1</td>\n",
       "      <td>9</td>\n",
       "      <td>2018-10-19</td>\n",
       "      <td>0.21</td>\n",
       "      <td>6</td>\n",
       "      <td>365</td>\n",
       "    </tr>\n",
       "    <tr>\n",
       "      <th>1</th>\n",
       "      <td>Manhattan</td>\n",
       "      <td>Midtown</td>\n",
       "      <td>40.75362</td>\n",
       "      <td>-73.98377</td>\n",
       "      <td>Entire home/apt</td>\n",
       "      <td>225</td>\n",
       "      <td>1</td>\n",
       "      <td>45</td>\n",
       "      <td>2019-05-21</td>\n",
       "      <td>0.38</td>\n",
       "      <td>2</td>\n",
       "      <td>355</td>\n",
       "    </tr>\n",
       "    <tr>\n",
       "      <th>2</th>\n",
       "      <td>Manhattan</td>\n",
       "      <td>Harlem</td>\n",
       "      <td>40.80902</td>\n",
       "      <td>-73.94190</td>\n",
       "      <td>Private room</td>\n",
       "      <td>150</td>\n",
       "      <td>3</td>\n",
       "      <td>0</td>\n",
       "      <td>NaN</td>\n",
       "      <td>NaN</td>\n",
       "      <td>1</td>\n",
       "      <td>365</td>\n",
       "    </tr>\n",
       "    <tr>\n",
       "      <th>3</th>\n",
       "      <td>Brooklyn</td>\n",
       "      <td>Clinton Hill</td>\n",
       "      <td>40.68514</td>\n",
       "      <td>-73.95976</td>\n",
       "      <td>Entire home/apt</td>\n",
       "      <td>89</td>\n",
       "      <td>1</td>\n",
       "      <td>270</td>\n",
       "      <td>2019-07-05</td>\n",
       "      <td>4.64</td>\n",
       "      <td>1</td>\n",
       "      <td>194</td>\n",
       "    </tr>\n",
       "    <tr>\n",
       "      <th>4</th>\n",
       "      <td>Manhattan</td>\n",
       "      <td>East Harlem</td>\n",
       "      <td>40.79851</td>\n",
       "      <td>-73.94399</td>\n",
       "      <td>Entire home/apt</td>\n",
       "      <td>80</td>\n",
       "      <td>10</td>\n",
       "      <td>9</td>\n",
       "      <td>2018-11-19</td>\n",
       "      <td>0.10</td>\n",
       "      <td>1</td>\n",
       "      <td>0</td>\n",
       "    </tr>\n",
       "    <tr>\n",
       "      <th>...</th>\n",
       "      <td>...</td>\n",
       "      <td>...</td>\n",
       "      <td>...</td>\n",
       "      <td>...</td>\n",
       "      <td>...</td>\n",
       "      <td>...</td>\n",
       "      <td>...</td>\n",
       "      <td>...</td>\n",
       "      <td>...</td>\n",
       "      <td>...</td>\n",
       "      <td>...</td>\n",
       "      <td>...</td>\n",
       "    </tr>\n",
       "    <tr>\n",
       "      <th>48890</th>\n",
       "      <td>Brooklyn</td>\n",
       "      <td>Bedford-Stuyvesant</td>\n",
       "      <td>40.67853</td>\n",
       "      <td>-73.94995</td>\n",
       "      <td>Private room</td>\n",
       "      <td>70</td>\n",
       "      <td>2</td>\n",
       "      <td>0</td>\n",
       "      <td>NaN</td>\n",
       "      <td>NaN</td>\n",
       "      <td>2</td>\n",
       "      <td>9</td>\n",
       "    </tr>\n",
       "    <tr>\n",
       "      <th>48891</th>\n",
       "      <td>Brooklyn</td>\n",
       "      <td>Bushwick</td>\n",
       "      <td>40.70184</td>\n",
       "      <td>-73.93317</td>\n",
       "      <td>Private room</td>\n",
       "      <td>40</td>\n",
       "      <td>4</td>\n",
       "      <td>0</td>\n",
       "      <td>NaN</td>\n",
       "      <td>NaN</td>\n",
       "      <td>2</td>\n",
       "      <td>36</td>\n",
       "    </tr>\n",
       "    <tr>\n",
       "      <th>48892</th>\n",
       "      <td>Manhattan</td>\n",
       "      <td>Harlem</td>\n",
       "      <td>40.81475</td>\n",
       "      <td>-73.94867</td>\n",
       "      <td>Entire home/apt</td>\n",
       "      <td>115</td>\n",
       "      <td>10</td>\n",
       "      <td>0</td>\n",
       "      <td>NaN</td>\n",
       "      <td>NaN</td>\n",
       "      <td>1</td>\n",
       "      <td>27</td>\n",
       "    </tr>\n",
       "    <tr>\n",
       "      <th>48893</th>\n",
       "      <td>Manhattan</td>\n",
       "      <td>Hell's Kitchen</td>\n",
       "      <td>40.75751</td>\n",
       "      <td>-73.99112</td>\n",
       "      <td>Shared room</td>\n",
       "      <td>55</td>\n",
       "      <td>1</td>\n",
       "      <td>0</td>\n",
       "      <td>NaN</td>\n",
       "      <td>NaN</td>\n",
       "      <td>6</td>\n",
       "      <td>2</td>\n",
       "    </tr>\n",
       "    <tr>\n",
       "      <th>48894</th>\n",
       "      <td>Manhattan</td>\n",
       "      <td>Hell's Kitchen</td>\n",
       "      <td>40.76404</td>\n",
       "      <td>-73.98933</td>\n",
       "      <td>Private room</td>\n",
       "      <td>90</td>\n",
       "      <td>7</td>\n",
       "      <td>0</td>\n",
       "      <td>NaN</td>\n",
       "      <td>NaN</td>\n",
       "      <td>1</td>\n",
       "      <td>23</td>\n",
       "    </tr>\n",
       "  </tbody>\n",
       "</table>\n",
       "<p>48895 rows × 12 columns</p>\n",
       "</div>"
      ],
      "text/plain": [
       "      neighbourhood_group       neighbourhood  latitude  longitude  \\\n",
       "0                Brooklyn          Kensington  40.64749  -73.97237   \n",
       "1               Manhattan             Midtown  40.75362  -73.98377   \n",
       "2               Manhattan              Harlem  40.80902  -73.94190   \n",
       "3                Brooklyn        Clinton Hill  40.68514  -73.95976   \n",
       "4               Manhattan         East Harlem  40.79851  -73.94399   \n",
       "...                   ...                 ...       ...        ...   \n",
       "48890            Brooklyn  Bedford-Stuyvesant  40.67853  -73.94995   \n",
       "48891            Brooklyn            Bushwick  40.70184  -73.93317   \n",
       "48892           Manhattan              Harlem  40.81475  -73.94867   \n",
       "48893           Manhattan      Hell's Kitchen  40.75751  -73.99112   \n",
       "48894           Manhattan      Hell's Kitchen  40.76404  -73.98933   \n",
       "\n",
       "             room_type  price  minimum_nights  number_of_reviews last_review  \\\n",
       "0         Private room    149               1                  9  2018-10-19   \n",
       "1      Entire home/apt    225               1                 45  2019-05-21   \n",
       "2         Private room    150               3                  0         NaN   \n",
       "3      Entire home/apt     89               1                270  2019-07-05   \n",
       "4      Entire home/apt     80              10                  9  2018-11-19   \n",
       "...                ...    ...             ...                ...         ...   \n",
       "48890     Private room     70               2                  0         NaN   \n",
       "48891     Private room     40               4                  0         NaN   \n",
       "48892  Entire home/apt    115              10                  0         NaN   \n",
       "48893      Shared room     55               1                  0         NaN   \n",
       "48894     Private room     90               7                  0         NaN   \n",
       "\n",
       "       reviews_per_month  calculated_host_listings_count  availability_365  \n",
       "0                   0.21                               6               365  \n",
       "1                   0.38                               2               355  \n",
       "2                    NaN                               1               365  \n",
       "3                   4.64                               1               194  \n",
       "4                   0.10                               1                 0  \n",
       "...                  ...                             ...               ...  \n",
       "48890                NaN                               2                 9  \n",
       "48891                NaN                               2                36  \n",
       "48892                NaN                               1                27  \n",
       "48893                NaN                               6                 2  \n",
       "48894                NaN                               1                23  \n",
       "\n",
       "[48895 rows x 12 columns]"
      ]
     },
     "execution_count": 6,
     "metadata": {},
     "output_type": "execute_result"
    }
   ],
   "source": [
    "columnsToDrop = [\"id\", \"name\", \"host_id\", \"host_name\"]\n",
    "df.drop(columnsToDrop, axis=1, inplace=True)\n",
    "df"
   ]
  },
  {
   "cell_type": "markdown",
   "metadata": {},
   "source": [
    "For this report, the features of \"id\", \"name\", \"host_id\", \"host_name\" will be considered irrelevant, since there will be no statistical relevance gained from these features. On that reasoning, these features will be dropped from the DataFrame. This is done to get a clearer overview of the remaining features and to not confuse the reader or myself with irrelevant data."
   ]
  },
  {
   "cell_type": "markdown",
   "metadata": {},
   "source": [
    "#### \"reviews_per_month\" & \"last_review\""
   ]
  },
  {
   "cell_type": "code",
   "execution_count": 7,
   "metadata": {},
   "outputs": [
    {
     "data": {
      "text/plain": [
       "count    38843.000000\n",
       "mean         1.373221\n",
       "std          1.680442\n",
       "min          0.010000\n",
       "25%          0.190000\n",
       "50%          0.720000\n",
       "75%          2.020000\n",
       "max         58.500000\n",
       "Name: reviews_per_month, dtype: float64"
      ]
     },
     "execution_count": 7,
     "metadata": {},
     "output_type": "execute_result"
    }
   ],
   "source": [
    "df[\"reviews_per_month\"].describe()"
   ]
  },
  {
   "cell_type": "markdown",
   "metadata": {},
   "source": [
    "A .describe() method is being used to further look at the data within “reviews_per_month” to better examine what to do. Here we see a max value of 58, which would indicate that there are written over around 2 reviews per day for this apartment. Another inspection of this will be made by plotting the data."
   ]
  },
  {
   "cell_type": "code",
   "execution_count": 8,
   "metadata": {},
   "outputs": [
    {
     "data": {
      "text/plain": [
       "<matplotlib.axes._subplots.AxesSubplot at 0x7feb9f13a430>"
      ]
     },
     "execution_count": 8,
     "metadata": {},
     "output_type": "execute_result"
    },
    {
     "data": {
      "image/png": "[encoded data removed]",
      "text/plain": [
       "<Figure size 432x288 with 1 Axes>"
      ]
     },
     "metadata": {
      "needs_background": "light"
     },
     "output_type": "display_data"
    }
   ],
   "source": [
    "df[\"reviews_per_month\"].plot()"
   ]
  },
  {
   "cell_type": "markdown",
   "metadata": {},
   "source": [
    "With the plotting, an outlier can be seen, which will be delt with, by removing any data that has a higher average of reviews than 30 per month, since it is not plausible that a place has been occupied more than once a day for a whole month in average."
   ]
  },
  {
   "cell_type": "code",
   "execution_count": 9,
   "metadata": {},
   "outputs": [
    {
     "data": {
      "text/plain": [
       "<matplotlib.axes._subplots.AxesSubplot at 0x7feb9ee38520>"
      ]
     },
     "execution_count": 9,
     "metadata": {},
     "output_type": "execute_result"
    },
    {
     "data": {
      "image/png": "[encoded data removed]",
      "text/plain": [
       "<Figure size 432x288 with 1 Axes>"
      ]
     },
     "metadata": {
      "needs_background": "light"
     },
     "output_type": "display_data"
    }
   ],
   "source": [
    "def indexToDropHigher(column, number):\n",
    "    indexesToDrop = df[(df[column] > number)].index\n",
    "    df.drop(indexesToDrop , inplace=True)\n",
    "\n",
    "indexToDropHigher(\"reviews_per_month\", 30)\n",
    "\n",
    "df[\"reviews_per_month\"].plot()"
   ]
  },
  {
   "cell_type": "markdown",
   "metadata": {},
   "source": [
    "To remove all rows with an average of above 30 reviews, the function “indexToDropHigher” is being used. It takes two arguments, a column and a number, which indicates the which column it should affect and above which number it should remove the rows. It gets all the indexes of the values over 30 and drops their entire rows.\n",
    "\n",
    "The new DataFrame is then being plotted to confirm the action. Here we see the highest average review number is slightly under 30, which is plausible, but perhaps not usual. But for this report, this will be granted as valid data.\n",
    "\n",
    "Now that the outlier is removed the missing values can be filled. Since we saw that the missing data here made up for a fifth of the data set, any action taken to fix it will impact the data set in some extensive way. I will be filling these data out with their mean, so to get an average distribution of this data. These data could have been removed, but it would lose a large part of the data."
   ]
  },
  {
   "cell_type": "code",
   "execution_count": 10,
   "metadata": {},
   "outputs": [],
   "source": [
    "df[\"reviews_per_month\"] = df[\"reviews_per_month\"].fillna(df[\"reviews_per_month\"].mean())"
   ]
  },
  {
   "cell_type": "code",
   "execution_count": 11,
   "metadata": {},
   "outputs": [
    {
     "data": {
      "text/plain": [
       "0    2018-10-19\n",
       "1    2019-05-21\n",
       "2           NaN\n",
       "3    2019-07-05\n",
       "4    2018-11-19\n",
       "Name: last_review, dtype: object"
      ]
     },
     "execution_count": 11,
     "metadata": {},
     "output_type": "execute_result"
    }
   ],
   "source": [
    "df[\"last_review\"].head()"
   ]
  },
  {
   "cell_type": "markdown",
   "metadata": {},
   "source": [
    "With the method .head() we see that “last_review” are dates, so the missing data can’t be filled with the average, but it can be filled with the method .mode(). This method finds the most common occurrences, which I then use to fill the missing data. The most occurring date is firstly found to see which date the missing values will be filled with."
   ]
  },
  {
   "cell_type": "code",
   "execution_count": 12,
   "metadata": {},
   "outputs": [
    {
     "data": {
      "text/plain": [
       "'2019-06-23'"
      ]
     },
     "execution_count": 12,
     "metadata": {},
     "output_type": "execute_result"
    }
   ],
   "source": [
    "df[\"last_review\"].mode()[0]"
   ]
  },
  {
   "cell_type": "code",
   "execution_count": 13,
   "metadata": {},
   "outputs": [],
   "source": [
    "df[\"last_review\"] = df[\"last_review\"].fillna(df[\"last_review\"].mode()[0])"
   ]
  },
  {
   "cell_type": "code",
   "execution_count": 14,
   "metadata": {},
   "outputs": [
    {
     "data": {
      "text/plain": [
       "neighbourhood_group               0\n",
       "neighbourhood                     0\n",
       "latitude                          0\n",
       "longitude                         0\n",
       "room_type                         0\n",
       "price                             0\n",
       "minimum_nights                    0\n",
       "number_of_reviews                 0\n",
       "last_review                       0\n",
       "reviews_per_month                 0\n",
       "calculated_host_listings_count    0\n",
       "availability_365                  0\n",
       "dtype: int64"
      ]
     },
     "execution_count": 14,
     "metadata": {},
     "output_type": "execute_result"
    }
   ],
   "source": [
    "df.isnull().sum()"
   ]
  },
  {
   "cell_type": "markdown",
   "metadata": {},
   "source": [
    "By running the .isnull() again, we see that all features are filled and there are no more missing values.\n",
    "\n",
    "We can now begin to look at and clean up the data."
   ]
  },
  {
   "cell_type": "markdown",
   "metadata": {},
   "source": [
    "#### \"price\""
   ]
  },
  {
   "cell_type": "code",
   "execution_count": 15,
   "metadata": {},
   "outputs": [
    {
     "data": {
      "image/png": "[encoded data removed]",
      "text/plain": [
       "<Figure size 432x288 with 1 Axes>"
      ]
     },
     "metadata": {
      "needs_background": "light"
     },
     "output_type": "display_data"
    }
   ],
   "source": [
    "ax = sns.boxplot(x=df[\"price\"])"
   ]
  },
  {
   "cell_type": "markdown",
   "metadata": {},
   "source": [
    "By making a box plot, it is possible to see where they outliers are. Since it can be seen from this box plot, that the whole data set is skewed towards the left, most of the outliers that are at the right will be removed. The right dots in the box plot represents the expensive apartments in New York. Some of these tops at 10.000 dollars, which might be an error or just extremely expensive apartment, but they will be removed for the sake of this report. There are also dots on the left, but since the whole box plot is skewed to the left, there are harder to see.\n",
    "\n",
    "To do remove the outliers, I create a top 10% and a bottom 10% of the prices, these values will be used for quantile-based flooring and capping (Singh, 2019). By doing this the extreme outliers will be selected. Then an index of all these values will be created whereafter they will be dropped from the DataFrame."
   ]
  },
  {
   "cell_type": "code",
   "execution_count": 16,
   "metadata": {},
   "outputs": [
    {
     "name": "stdout",
     "output_type": "stream",
     "text": [
      "269.0\n"
     ]
    },
    {
     "data": {
      "text/plain": [
       "count    38956.000000\n",
       "mean       121.607634\n",
       "std         55.457773\n",
       "min         50.000000\n",
       "25%         75.000000\n",
       "50%        107.000000\n",
       "75%        155.000000\n",
       "max        268.000000\n",
       "Name: price, dtype: float64"
      ]
     },
     "execution_count": 16,
     "metadata": {},
     "output_type": "execute_result"
    }
   ],
   "source": [
    "low_10 = df[\"price\"].quantile(0.10)\n",
    "high_10 = df[\"price\"].quantile(0.90)\n",
    "print(high_10)\n",
    "\n",
    "index = df[(df['price'] >= high_10)|(df['price'] <= low_10)].index\n",
    "df.drop(index, inplace=True)\n",
    "df['price'].describe()"
   ]
  },
  {
   "cell_type": "markdown",
   "metadata": {},
   "source": [
    "The .describe() method is used to check the new top and bottom values, which are 50 dollars and 268 dollars. These will be represented in the new box plot underneath. "
   ]
  },
  {
   "cell_type": "code",
   "execution_count": 17,
   "metadata": {},
   "outputs": [
    {
     "data": {
      "image/png": "[encoded data removed]",
      "text/plain": [
       "<Figure size 432x288 with 1 Axes>"
      ]
     },
     "metadata": {
      "needs_background": "light"
     },
     "output_type": "display_data"
    }
   ],
   "source": [
    "ax = sns.boxplot(x=df[\"price\"])"
   ]
  },
  {
   "cell_type": "markdown",
   "metadata": {},
   "source": [
    "#### Price, neighbourhood_group & room type"
   ]
  },
  {
   "cell_type": "markdown",
   "metadata": {},
   "source": [
    "Now we will visualize the price differences between the room types in the different boroughs. This is done by firstly using the .groupby() metod to group “room_type” and “neighbourhood_group” and looking at the mean price they have. Hereafter the specific rooms are selected and plotted to show three graphs with the price differences compared. "
   ]
  },
  {
   "cell_type": "code",
   "execution_count": 18,
   "metadata": {},
   "outputs": [
    {
     "data": {
      "image/png": "[encoded data removed]",
      "text/plain": [
       "<Figure size 432x288 with 1 Axes>"
      ]
     },
     "metadata": {
      "needs_background": "light"
     },
     "output_type": "display_data"
    },
    {
     "data": {
      "image/png": "[encoded data removed]",
      "text/plain": [
       "<Figure size 432x288 with 1 Axes>"
      ]
     },
     "metadata": {
      "needs_background": "light"
     },
     "output_type": "display_data"
    },
    {
     "data": {
      "image/png": "[encoded data removed]",
      "text/plain": [
       "<Figure size 432x288 with 1 Axes>"
      ]
     },
     "metadata": {
      "needs_background": "light"
     },
     "output_type": "display_data"
    }
   ],
   "source": [
    "plot1 = plt.figure(1)\n",
    "plt.ylabel('Average Price')\n",
    "plt.title(\"Entire home/apt\")\n",
    "plt.plot(df.groupby([\"room_type\", \"neighbourhood_group\"])[\"price\"].mean()[\"Entire home/apt\"])\n",
    "\n",
    "\n",
    "plot2 = plt.figure(2)\n",
    "plt.ylabel('Average Price')\n",
    "plt.title(\"Private room\")\n",
    "plt.plot(df.groupby([\"room_type\", \"neighbourhood_group\"])[\"price\"].mean()[\"Private room\"])\n",
    "\n",
    "plot3 = plt.figure(3)\n",
    "plt.plot(df.groupby([\"room_type\", \"neighbourhood_group\"])[\"price\"].mean()[\"Shared room\"])\n",
    "plt.ylabel('Average Price')\n",
    "plt.title(\"Shared room\")\n",
    "\n",
    "plt.show()"
   ]
  },
  {
   "cell_type": "markdown",
   "metadata": {},
   "source": [
    "Here we see that Manhattan is the most expensive borough, when it comes to renting an entire home or a private room, but Brooklyn is more expensive in the shared room. Bronx is the overall cheapest place to rent any type."
   ]
  },
  {
   "cell_type": "markdown",
   "metadata": {},
   "source": [
    "#### \"neighbourhood_group\""
   ]
  },
  {
   "cell_type": "code",
   "execution_count": 19,
   "metadata": {},
   "outputs": [
    {
     "data": {
      "text/plain": [
       "<matplotlib.axes._subplots.AxesSubplot at 0x7feba253bac0>"
      ]
     },
     "execution_count": 19,
     "metadata": {},
     "output_type": "execute_result"
    },
    {
     "data": {
      "image/png": "[encoded data removed]",
      "text/plain": [
       "<Figure size 432x288 with 1 Axes>"
      ]
     },
     "metadata": {
      "needs_background": "light"
     },
     "output_type": "display_data"
    }
   ],
   "source": [
    "df[\"neighbourhood_group\"].value_counts().plot.bar()"
   ]
  },
  {
   "cell_type": "markdown",
   "metadata": {},
   "source": [
    "In the “neighbourhood_group” feature we see a rather uneven distribution of apartments, where the majority of places are either in Manhattan or Brooklyn. For now, this will stay untouched, but this knowledge is nice to have, when the analysis is starting "
   ]
  },
  {
   "cell_type": "markdown",
   "metadata": {},
   "source": [
    "#### \"room_type\""
   ]
  },
  {
   "cell_type": "code",
   "execution_count": 20,
   "metadata": {},
   "outputs": [
    {
     "data": {
      "text/plain": [
       "<matplotlib.axes._subplots.AxesSubplot at 0x7feba2860130>"
      ]
     },
     "execution_count": 20,
     "metadata": {},
     "output_type": "execute_result"
    },
    {
     "data": {
      "image/png": "[encoded data removed]",
      "text/plain": [
       "<Figure size 432x288 with 1 Axes>"
      ]
     },
     "metadata": {
      "needs_background": "light"
     },
     "output_type": "display_data"
    }
   ],
   "source": [
    "df[\"room_type\"].value_counts().plot.bar()"
   ]
  },
  {
   "cell_type": "markdown",
   "metadata": {},
   "source": [
    "Here we also see an uneven distribution, with a small amount of “Shared Rooms”."
   ]
  },
  {
   "cell_type": "markdown",
   "metadata": {},
   "source": [
    "#### \"longitude\" and \"latitude\""
   ]
  },
  {
   "cell_type": "code",
   "execution_count": 21,
   "metadata": {},
   "outputs": [
    {
     "data": {
      "text/plain": [
       "count    38956.000000\n",
       "mean       -73.952843\n",
       "std          0.044771\n",
       "min        -74.244420\n",
       "25%        -73.982670\n",
       "50%        -73.955700\n",
       "75%        -73.938290\n",
       "max        -73.712990\n",
       "Name: longitude, dtype: float64"
      ]
     },
     "execution_count": 21,
     "metadata": {},
     "output_type": "execute_result"
    }
   ],
   "source": [
    "df[\"longitude\"].describe()"
   ]
  },
  {
   "cell_type": "code",
   "execution_count": 22,
   "metadata": {},
   "outputs": [
    {
     "data": {
      "text/plain": [
       "count    38956.000000\n",
       "mean        40.729541\n",
       "std          0.054187\n",
       "min         40.499790\n",
       "25%         40.690370\n",
       "50%         40.723075\n",
       "75%         40.764030\n",
       "max         40.911690\n",
       "Name: latitude, dtype: float64"
      ]
     },
     "execution_count": 22,
     "metadata": {},
     "output_type": "execute_result"
    }
   ],
   "source": [
    "df[\"latitude\"].describe()"
   ]
  },
  {
   "cell_type": "markdown",
   "metadata": {},
   "source": [
    "These two might be useful later in the analysis also, so by giving them an inception, we see that their standard divination is not that high, meaning they don’t differ that much from each other. This can also be inferred from a look at the quartiles, which are all placed around the same. There should be no real outliers in these two features. The overall meaning of this is to show, that the places are all bundled together in the same city, as we are looking at coordinates. This shows us, that there are most likely no apartment from other cities in this data set. \n",
    "\n",
    "Underneath, we see the coordinates being plotted, which then represents New York. This is done to confirm, that none of the listings are placed outside New York by a mistake."
   ]
  },
  {
   "cell_type": "code",
   "execution_count": 23,
   "metadata": {},
   "outputs": [
    {
     "data": {
      "text/plain": [
       "<matplotlib.axes._subplots.AxesSubplot at 0x7feba2872340>"
      ]
     },
     "execution_count": 23,
     "metadata": {},
     "output_type": "execute_result"
    },
    {
     "data": {
      "image/png": "[encoded data removed]",
      "text/plain": [
       "<Figure size 432x288 with 1 Axes>"
      ]
     },
     "metadata": {
      "needs_background": "light"
     },
     "output_type": "display_data"
    }
   ],
   "source": [
    "df.plot(x='longitude', y='latitude', style='o')"
   ]
  },
  {
   "cell_type": "markdown",
   "metadata": {},
   "source": [
    "#### \"minimum_nights\""
   ]
  },
  {
   "cell_type": "code",
   "execution_count": 24,
   "metadata": {},
   "outputs": [
    {
     "data": {
      "text/html": [
       "<div>\n",
       "<style scoped>\n",
       "    .dataframe tbody tr th:only-of-type {\n",
       "        vertical-align: middle;\n",
       "    }\n",
       "\n",
       "    .dataframe tbody tr th {\n",
       "        vertical-align: top;\n",
       "    }\n",
       "\n",
       "    .dataframe thead th {\n",
       "        text-align: right;\n",
       "    }\n",
       "</style>\n",
       "<table border=\"1\" class=\"dataframe\">\n",
       "  <thead>\n",
       "    <tr style=\"text-align: right;\">\n",
       "      <th></th>\n",
       "      <th>neighbourhood_group</th>\n",
       "      <th>neighbourhood</th>\n",
       "      <th>latitude</th>\n",
       "      <th>longitude</th>\n",
       "      <th>room_type</th>\n",
       "      <th>price</th>\n",
       "      <th>minimum_nights</th>\n",
       "      <th>number_of_reviews</th>\n",
       "      <th>last_review</th>\n",
       "      <th>reviews_per_month</th>\n",
       "      <th>calculated_host_listings_count</th>\n",
       "      <th>availability_365</th>\n",
       "    </tr>\n",
       "  </thead>\n",
       "  <tbody>\n",
       "    <tr>\n",
       "      <th>1305</th>\n",
       "      <td>Brooklyn</td>\n",
       "      <td>Bushwick</td>\n",
       "      <td>40.70202</td>\n",
       "      <td>-73.92402</td>\n",
       "      <td>Entire home/apt</td>\n",
       "      <td>115</td>\n",
       "      <td>370</td>\n",
       "      <td>6</td>\n",
       "      <td>2018-04-15</td>\n",
       "      <td>0.090000</td>\n",
       "      <td>1</td>\n",
       "      <td>365</td>\n",
       "    </tr>\n",
       "    <tr>\n",
       "      <th>5767</th>\n",
       "      <td>Manhattan</td>\n",
       "      <td>Greenwich Village</td>\n",
       "      <td>40.73293</td>\n",
       "      <td>-73.99782</td>\n",
       "      <td>Entire home/apt</td>\n",
       "      <td>180</td>\n",
       "      <td>1250</td>\n",
       "      <td>2</td>\n",
       "      <td>2014-11-09</td>\n",
       "      <td>0.030000</td>\n",
       "      <td>1</td>\n",
       "      <td>365</td>\n",
       "    </tr>\n",
       "    <tr>\n",
       "      <th>7355</th>\n",
       "      <td>Queens</td>\n",
       "      <td>Long Island City</td>\n",
       "      <td>40.75104</td>\n",
       "      <td>-73.93863</td>\n",
       "      <td>Entire home/apt</td>\n",
       "      <td>134</td>\n",
       "      <td>500</td>\n",
       "      <td>30</td>\n",
       "      <td>2018-06-24</td>\n",
       "      <td>0.570000</td>\n",
       "      <td>1</td>\n",
       "      <td>90</td>\n",
       "    </tr>\n",
       "    <tr>\n",
       "      <th>8014</th>\n",
       "      <td>Manhattan</td>\n",
       "      <td>Harlem</td>\n",
       "      <td>40.82135</td>\n",
       "      <td>-73.95521</td>\n",
       "      <td>Entire home/apt</td>\n",
       "      <td>75</td>\n",
       "      <td>500</td>\n",
       "      <td>0</td>\n",
       "      <td>2019-06-23</td>\n",
       "      <td>1.371751</td>\n",
       "      <td>1</td>\n",
       "      <td>362</td>\n",
       "    </tr>\n",
       "    <tr>\n",
       "      <th>10829</th>\n",
       "      <td>Queens</td>\n",
       "      <td>Long Island City</td>\n",
       "      <td>40.74654</td>\n",
       "      <td>-73.95778</td>\n",
       "      <td>Entire home/apt</td>\n",
       "      <td>199</td>\n",
       "      <td>480</td>\n",
       "      <td>0</td>\n",
       "      <td>2019-06-23</td>\n",
       "      <td>1.371751</td>\n",
       "      <td>1</td>\n",
       "      <td>365</td>\n",
       "    </tr>\n",
       "    <tr>\n",
       "      <th>11193</th>\n",
       "      <td>Brooklyn</td>\n",
       "      <td>Crown Heights</td>\n",
       "      <td>40.67255</td>\n",
       "      <td>-73.94914</td>\n",
       "      <td>Private room</td>\n",
       "      <td>50</td>\n",
       "      <td>500</td>\n",
       "      <td>10</td>\n",
       "      <td>2016-09-22</td>\n",
       "      <td>0.220000</td>\n",
       "      <td>1</td>\n",
       "      <td>365</td>\n",
       "    </tr>\n",
       "    <tr>\n",
       "      <th>13404</th>\n",
       "      <td>Manhattan</td>\n",
       "      <td>Harlem</td>\n",
       "      <td>40.82915</td>\n",
       "      <td>-73.94034</td>\n",
       "      <td>Entire home/apt</td>\n",
       "      <td>99</td>\n",
       "      <td>999</td>\n",
       "      <td>2</td>\n",
       "      <td>2018-01-04</td>\n",
       "      <td>0.070000</td>\n",
       "      <td>1</td>\n",
       "      <td>42</td>\n",
       "    </tr>\n",
       "    <tr>\n",
       "      <th>15946</th>\n",
       "      <td>Manhattan</td>\n",
       "      <td>Midtown</td>\n",
       "      <td>40.74513</td>\n",
       "      <td>-73.98475</td>\n",
       "      <td>Entire home/apt</td>\n",
       "      <td>250</td>\n",
       "      <td>366</td>\n",
       "      <td>0</td>\n",
       "      <td>2019-06-23</td>\n",
       "      <td>1.371751</td>\n",
       "      <td>1</td>\n",
       "      <td>365</td>\n",
       "    </tr>\n",
       "    <tr>\n",
       "      <th>26341</th>\n",
       "      <td>Brooklyn</td>\n",
       "      <td>Williamsburg</td>\n",
       "      <td>40.71772</td>\n",
       "      <td>-73.95059</td>\n",
       "      <td>Private room</td>\n",
       "      <td>79</td>\n",
       "      <td>999</td>\n",
       "      <td>24</td>\n",
       "      <td>2018-06-28</td>\n",
       "      <td>1.120000</td>\n",
       "      <td>6</td>\n",
       "      <td>249</td>\n",
       "    </tr>\n",
       "    <tr>\n",
       "      <th>34487</th>\n",
       "      <td>Brooklyn</td>\n",
       "      <td>Bedford-Stuyvesant</td>\n",
       "      <td>40.69974</td>\n",
       "      <td>-73.94658</td>\n",
       "      <td>Private room</td>\n",
       "      <td>50</td>\n",
       "      <td>400</td>\n",
       "      <td>0</td>\n",
       "      <td>2019-06-23</td>\n",
       "      <td>1.371751</td>\n",
       "      <td>1</td>\n",
       "      <td>90</td>\n",
       "    </tr>\n",
       "    <tr>\n",
       "      <th>38664</th>\n",
       "      <td>Manhattan</td>\n",
       "      <td>Greenwich Village</td>\n",
       "      <td>40.73094</td>\n",
       "      <td>-73.99900</td>\n",
       "      <td>Shared room</td>\n",
       "      <td>110</td>\n",
       "      <td>999</td>\n",
       "      <td>0</td>\n",
       "      <td>2019-06-23</td>\n",
       "      <td>1.371751</td>\n",
       "      <td>1</td>\n",
       "      <td>365</td>\n",
       "    </tr>\n",
       "    <tr>\n",
       "      <th>47620</th>\n",
       "      <td>Brooklyn</td>\n",
       "      <td>Williamsburg</td>\n",
       "      <td>40.70898</td>\n",
       "      <td>-73.94885</td>\n",
       "      <td>Entire home/apt</td>\n",
       "      <td>140</td>\n",
       "      <td>500</td>\n",
       "      <td>0</td>\n",
       "      <td>2019-06-23</td>\n",
       "      <td>1.371751</td>\n",
       "      <td>1</td>\n",
       "      <td>331</td>\n",
       "    </tr>\n",
       "  </tbody>\n",
       "</table>\n",
       "</div>"
      ],
      "text/plain": [
       "      neighbourhood_group       neighbourhood  latitude  longitude  \\\n",
       "1305             Brooklyn            Bushwick  40.70202  -73.92402   \n",
       "5767            Manhattan   Greenwich Village  40.73293  -73.99782   \n",
       "7355               Queens    Long Island City  40.75104  -73.93863   \n",
       "8014            Manhattan              Harlem  40.82135  -73.95521   \n",
       "10829              Queens    Long Island City  40.74654  -73.95778   \n",
       "11193            Brooklyn       Crown Heights  40.67255  -73.94914   \n",
       "13404           Manhattan              Harlem  40.82915  -73.94034   \n",
       "15946           Manhattan             Midtown  40.74513  -73.98475   \n",
       "26341            Brooklyn        Williamsburg  40.71772  -73.95059   \n",
       "34487            Brooklyn  Bedford-Stuyvesant  40.69974  -73.94658   \n",
       "38664           Manhattan   Greenwich Village  40.73094  -73.99900   \n",
       "47620            Brooklyn        Williamsburg  40.70898  -73.94885   \n",
       "\n",
       "             room_type  price  minimum_nights  number_of_reviews last_review  \\\n",
       "1305   Entire home/apt    115             370                  6  2018-04-15   \n",
       "5767   Entire home/apt    180            1250                  2  2014-11-09   \n",
       "7355   Entire home/apt    134             500                 30  2018-06-24   \n",
       "8014   Entire home/apt     75             500                  0  2019-06-23   \n",
       "10829  Entire home/apt    199             480                  0  2019-06-23   \n",
       "11193     Private room     50             500                 10  2016-09-22   \n",
       "13404  Entire home/apt     99             999                  2  2018-01-04   \n",
       "15946  Entire home/apt    250             366                  0  2019-06-23   \n",
       "26341     Private room     79             999                 24  2018-06-28   \n",
       "34487     Private room     50             400                  0  2019-06-23   \n",
       "38664      Shared room    110             999                  0  2019-06-23   \n",
       "47620  Entire home/apt    140             500                  0  2019-06-23   \n",
       "\n",
       "       reviews_per_month  calculated_host_listings_count  availability_365  \n",
       "1305            0.090000                               1               365  \n",
       "5767            0.030000                               1               365  \n",
       "7355            0.570000                               1                90  \n",
       "8014            1.371751                               1               362  \n",
       "10829           1.371751                               1               365  \n",
       "11193           0.220000                               1               365  \n",
       "13404           0.070000                               1                42  \n",
       "15946           1.371751                               1               365  \n",
       "26341           1.120000                               6               249  \n",
       "34487           1.371751                               1                90  \n",
       "38664           1.371751                               1               365  \n",
       "47620           1.371751                               1               331  "
      ]
     },
     "execution_count": 24,
     "metadata": {},
     "output_type": "execute_result"
    }
   ],
   "source": [
    "df.loc[df['minimum_nights'] > 365]"
   ]
  },
  {
   "cell_type": "markdown",
   "metadata": {},
   "source": [
    "Here we look at how many places have a requirement of more than a year’s rent. This might not be wrong, but since I have concluded that these are listings on a site like AirBnB, I think renting a house for more than a year should be done through a proper rental company. Also, many of these places have a requirement of more than 500 days, which Is more than 1,3 years, and some are at a 1000 days, which is around 3 years. That is why these are being removed from the data set.\n",
    "\n",
    "These are being removed with the same function as mentioned earlier “indexToDropHigher”"
   ]
  },
  {
   "cell_type": "code",
   "execution_count": 25,
   "metadata": {},
   "outputs": [],
   "source": [
    "indexToDropHigher(\"minimum_nights\", 365)"
   ]
  },
  {
   "cell_type": "code",
   "execution_count": 26,
   "metadata": {},
   "outputs": [
    {
     "data": {
      "text/html": [
       "<div>\n",
       "<style scoped>\n",
       "    .dataframe tbody tr th:only-of-type {\n",
       "        vertical-align: middle;\n",
       "    }\n",
       "\n",
       "    .dataframe tbody tr th {\n",
       "        vertical-align: top;\n",
       "    }\n",
       "\n",
       "    .dataframe thead th {\n",
       "        text-align: right;\n",
       "    }\n",
       "</style>\n",
       "<table border=\"1\" class=\"dataframe\">\n",
       "  <thead>\n",
       "    <tr style=\"text-align: right;\">\n",
       "      <th></th>\n",
       "      <th>neighbourhood_group</th>\n",
       "      <th>neighbourhood</th>\n",
       "      <th>latitude</th>\n",
       "      <th>longitude</th>\n",
       "      <th>room_type</th>\n",
       "      <th>price</th>\n",
       "      <th>minimum_nights</th>\n",
       "      <th>number_of_reviews</th>\n",
       "      <th>last_review</th>\n",
       "      <th>reviews_per_month</th>\n",
       "      <th>calculated_host_listings_count</th>\n",
       "      <th>availability_365</th>\n",
       "    </tr>\n",
       "  </thead>\n",
       "  <tbody>\n",
       "    <tr>\n",
       "      <th>0</th>\n",
       "      <td>Brooklyn</td>\n",
       "      <td>Kensington</td>\n",
       "      <td>40.64749</td>\n",
       "      <td>-73.97237</td>\n",
       "      <td>Private room</td>\n",
       "      <td>149</td>\n",
       "      <td>1</td>\n",
       "      <td>9</td>\n",
       "      <td>2018-10-19</td>\n",
       "      <td>0.210000</td>\n",
       "      <td>6</td>\n",
       "      <td>365</td>\n",
       "    </tr>\n",
       "    <tr>\n",
       "      <th>1</th>\n",
       "      <td>Manhattan</td>\n",
       "      <td>Midtown</td>\n",
       "      <td>40.75362</td>\n",
       "      <td>-73.98377</td>\n",
       "      <td>Entire home/apt</td>\n",
       "      <td>225</td>\n",
       "      <td>1</td>\n",
       "      <td>45</td>\n",
       "      <td>2019-05-21</td>\n",
       "      <td>0.380000</td>\n",
       "      <td>2</td>\n",
       "      <td>355</td>\n",
       "    </tr>\n",
       "    <tr>\n",
       "      <th>2</th>\n",
       "      <td>Manhattan</td>\n",
       "      <td>Harlem</td>\n",
       "      <td>40.80902</td>\n",
       "      <td>-73.94190</td>\n",
       "      <td>Private room</td>\n",
       "      <td>150</td>\n",
       "      <td>3</td>\n",
       "      <td>0</td>\n",
       "      <td>2019-06-23</td>\n",
       "      <td>1.371751</td>\n",
       "      <td>1</td>\n",
       "      <td>365</td>\n",
       "    </tr>\n",
       "    <tr>\n",
       "      <th>3</th>\n",
       "      <td>Brooklyn</td>\n",
       "      <td>Clinton Hill</td>\n",
       "      <td>40.68514</td>\n",
       "      <td>-73.95976</td>\n",
       "      <td>Entire home/apt</td>\n",
       "      <td>89</td>\n",
       "      <td>1</td>\n",
       "      <td>270</td>\n",
       "      <td>2019-07-05</td>\n",
       "      <td>4.640000</td>\n",
       "      <td>1</td>\n",
       "      <td>194</td>\n",
       "    </tr>\n",
       "    <tr>\n",
       "      <th>4</th>\n",
       "      <td>Manhattan</td>\n",
       "      <td>East Harlem</td>\n",
       "      <td>40.79851</td>\n",
       "      <td>-73.94399</td>\n",
       "      <td>Entire home/apt</td>\n",
       "      <td>80</td>\n",
       "      <td>10</td>\n",
       "      <td>9</td>\n",
       "      <td>2018-11-19</td>\n",
       "      <td>0.100000</td>\n",
       "      <td>1</td>\n",
       "      <td>0</td>\n",
       "    </tr>\n",
       "    <tr>\n",
       "      <th>...</th>\n",
       "      <td>...</td>\n",
       "      <td>...</td>\n",
       "      <td>...</td>\n",
       "      <td>...</td>\n",
       "      <td>...</td>\n",
       "      <td>...</td>\n",
       "      <td>...</td>\n",
       "      <td>...</td>\n",
       "      <td>...</td>\n",
       "      <td>...</td>\n",
       "      <td>...</td>\n",
       "      <td>...</td>\n",
       "    </tr>\n",
       "    <tr>\n",
       "      <th>48889</th>\n",
       "      <td>Queens</td>\n",
       "      <td>Jamaica</td>\n",
       "      <td>40.69137</td>\n",
       "      <td>-73.80844</td>\n",
       "      <td>Private room</td>\n",
       "      <td>65</td>\n",
       "      <td>1</td>\n",
       "      <td>0</td>\n",
       "      <td>2019-06-23</td>\n",
       "      <td>1.371751</td>\n",
       "      <td>2</td>\n",
       "      <td>163</td>\n",
       "    </tr>\n",
       "    <tr>\n",
       "      <th>48890</th>\n",
       "      <td>Brooklyn</td>\n",
       "      <td>Bedford-Stuyvesant</td>\n",
       "      <td>40.67853</td>\n",
       "      <td>-73.94995</td>\n",
       "      <td>Private room</td>\n",
       "      <td>70</td>\n",
       "      <td>2</td>\n",
       "      <td>0</td>\n",
       "      <td>2019-06-23</td>\n",
       "      <td>1.371751</td>\n",
       "      <td>2</td>\n",
       "      <td>9</td>\n",
       "    </tr>\n",
       "    <tr>\n",
       "      <th>48892</th>\n",
       "      <td>Manhattan</td>\n",
       "      <td>Harlem</td>\n",
       "      <td>40.81475</td>\n",
       "      <td>-73.94867</td>\n",
       "      <td>Entire home/apt</td>\n",
       "      <td>115</td>\n",
       "      <td>10</td>\n",
       "      <td>0</td>\n",
       "      <td>2019-06-23</td>\n",
       "      <td>1.371751</td>\n",
       "      <td>1</td>\n",
       "      <td>27</td>\n",
       "    </tr>\n",
       "    <tr>\n",
       "      <th>48893</th>\n",
       "      <td>Manhattan</td>\n",
       "      <td>Hell's Kitchen</td>\n",
       "      <td>40.75751</td>\n",
       "      <td>-73.99112</td>\n",
       "      <td>Shared room</td>\n",
       "      <td>55</td>\n",
       "      <td>1</td>\n",
       "      <td>0</td>\n",
       "      <td>2019-06-23</td>\n",
       "      <td>1.371751</td>\n",
       "      <td>6</td>\n",
       "      <td>2</td>\n",
       "    </tr>\n",
       "    <tr>\n",
       "      <th>48894</th>\n",
       "      <td>Manhattan</td>\n",
       "      <td>Hell's Kitchen</td>\n",
       "      <td>40.76404</td>\n",
       "      <td>-73.98933</td>\n",
       "      <td>Private room</td>\n",
       "      <td>90</td>\n",
       "      <td>7</td>\n",
       "      <td>0</td>\n",
       "      <td>2019-06-23</td>\n",
       "      <td>1.371751</td>\n",
       "      <td>1</td>\n",
       "      <td>23</td>\n",
       "    </tr>\n",
       "  </tbody>\n",
       "</table>\n",
       "<p>38944 rows × 12 columns</p>\n",
       "</div>"
      ],
      "text/plain": [
       "      neighbourhood_group       neighbourhood  latitude  longitude  \\\n",
       "0                Brooklyn          Kensington  40.64749  -73.97237   \n",
       "1               Manhattan             Midtown  40.75362  -73.98377   \n",
       "2               Manhattan              Harlem  40.80902  -73.94190   \n",
       "3                Brooklyn        Clinton Hill  40.68514  -73.95976   \n",
       "4               Manhattan         East Harlem  40.79851  -73.94399   \n",
       "...                   ...                 ...       ...        ...   \n",
       "48889              Queens             Jamaica  40.69137  -73.80844   \n",
       "48890            Brooklyn  Bedford-Stuyvesant  40.67853  -73.94995   \n",
       "48892           Manhattan              Harlem  40.81475  -73.94867   \n",
       "48893           Manhattan      Hell's Kitchen  40.75751  -73.99112   \n",
       "48894           Manhattan      Hell's Kitchen  40.76404  -73.98933   \n",
       "\n",
       "             room_type  price  minimum_nights  number_of_reviews last_review  \\\n",
       "0         Private room    149               1                  9  2018-10-19   \n",
       "1      Entire home/apt    225               1                 45  2019-05-21   \n",
       "2         Private room    150               3                  0  2019-06-23   \n",
       "3      Entire home/apt     89               1                270  2019-07-05   \n",
       "4      Entire home/apt     80              10                  9  2018-11-19   \n",
       "...                ...    ...             ...                ...         ...   \n",
       "48889     Private room     65               1                  0  2019-06-23   \n",
       "48890     Private room     70               2                  0  2019-06-23   \n",
       "48892  Entire home/apt    115              10                  0  2019-06-23   \n",
       "48893      Shared room     55               1                  0  2019-06-23   \n",
       "48894     Private room     90               7                  0  2019-06-23   \n",
       "\n",
       "       reviews_per_month  calculated_host_listings_count  availability_365  \n",
       "0               0.210000                               6               365  \n",
       "1               0.380000                               2               355  \n",
       "2               1.371751                               1               365  \n",
       "3               4.640000                               1               194  \n",
       "4               0.100000                               1                 0  \n",
       "...                  ...                             ...               ...  \n",
       "48889           1.371751                               2               163  \n",
       "48890           1.371751                               2                 9  \n",
       "48892           1.371751                               1                27  \n",
       "48893           1.371751                               6                 2  \n",
       "48894           1.371751                               1                23  \n",
       "\n",
       "[38944 rows x 12 columns]"
      ]
     },
     "execution_count": 26,
     "metadata": {},
     "output_type": "execute_result"
    }
   ],
   "source": [
    "df"
   ]
  },
  {
   "cell_type": "markdown",
   "metadata": {},
   "source": [
    "### Ending remarks on visualization and cleaning\n",
    "Based on the visualization and cleaning of the data set, we have seen some interesting parts, which are useful to keep in mind for the analysis. These are:\n",
    "-\tThere is a skewed amount of listings from the different boroughs, with the most apartments being in Manhattan and Brooklyn. This will have an effect on the machine learning model that will later be created\n",
    "-\tThere is a skewed amount of room types, with almost no Shared Rooms, but a roughly equal amount of entire apartments and private rooms\n",
    "\n",
    "Benefits from cleaning:\n",
    "-\tBy cleaning the data set, I have seen and removed outliers, which are done to further condense the data set and help create a better overall average of the rental listings in New York\n",
    "-\tPlaces with more than 1 review per day are removed, since that might be scammers creating fake reviews for their own place. \n"
   ]
  },
  {
   "cell_type": "markdown",
   "metadata": {},
   "source": [
    "# Hypothesis\n",
    "As observed in the sections above, this data set revolves around the rentals of apartment in a AirBnB type way. Based on the learnings, I wish to test the following hypothesis:\n",
    "\n",
    "> *The borough an apartment is placed within can be predicted based on its price, availability and reviews.*\n",
    "\n",
    "This hypothesis will be tested in the next section."
   ]
  },
  {
   "cell_type": "markdown",
   "metadata": {},
   "source": [
    "# Analysis\n",
    "For the analysis, I will be conducting machine learning using the scikit-learn library. scikit-learn or sklearn is a package with a wide range of algorithms used for machine learning. scikit-learn has a clean and straightforward API for easy use (VanderPlas, 2016). The data are represented in a table, which can be a pandas DataFrame. For this table, the rows are referred to as samples and the columns as features. The samples are the individual objects described in the data set, which can be any set of quantitative measurements. The features are the observations that describe each sample. This can be understood as the titles for the data (VanderPlas, 2016).\n",
    "\n",
    "Machine learning is used to create models, to make predictions that are based on the data set. From the data set, it will find the connection of the data and use that to make predictions of upon new unknown information. "
   ]
  },
  {
   "cell_type": "markdown",
   "metadata": {},
   "source": [
    "## Random Forest Classification\n",
    "To check the hypothesis, a random forest classifier will be used. A random forest classifier is a powerful machine learning algorithm that’s made up by an ensemble of randomized decision trees (VanderPlas, 2016: Yiu, 2019). This combination of decision trees creates an overall robust result. A random forest is used to classify objects, for example to predict which category a loan applicant falls in or to figure out which decease a patient have based on their symptoms. \n",
    "\n",
    "A random forest classifier is used over a linear regression model, since a linear regression is used when one wants to predict a value based upon another value. A linear regression model is able to predict values of a continues range (VanderPlas, 2016). But f\n",
    "\n",
    "For this report, a classificaton model will be used to predict within which borough an apartment is located, which can't be achieved by a linear regression.\n",
    "\n",
    "Firstly, a function to split the data set will be created. This is done so to test the model we will later insatiate. By splitting the data set, we are able to train the model on 80% of the data and then test it with adding the remaining 20%. If this split were not made, the model would make perfect predictions, since it knows every aspect of the data set. By leaving out 20%, we can, after its training, test the model and check it against the actual values. This way it is possible to know how well the model will perform when seeing unknown data in the future."
   ]
  },
  {
   "cell_type": "code",
   "execution_count": 27,
   "metadata": {},
   "outputs": [],
   "source": [
    "def split_data(dataframe, predictors, target, test_size=0.2):\n",
    "    X = dataframe[predictors]\n",
    "    y = dataframe[target]\n",
    "    X_train, X_test, y_train, y_test = sklearn.model_selection.train_test_split(X, y,\n",
    "        test_size=test_size, random_state=np.random.RandomState(0))\n",
    "    return X_train, X_test, y_train, y_test"
   ]
  },
  {
   "cell_type": "markdown",
   "metadata": {},
   "source": [
    "Now that the function to split the data set is created, it can be used in the following function. Here we put in the desired features, that we want to use to predict the “neighbourhood_group”. These are the input_features: [\"price\", \"number_of_reviews\", \"reviews_per_month\", \"availability_365\"]. The target for the model to predict is the categorial feature “neighbourhood_group”. The model will be fitted to the training data, which is seen by the “model.fit(X_train, y_train)”, whereafter the model predicts the unknown test data. In the test_report the actual values and the predicted values will be compared and a test report a will be created. "
   ]
  },
  {
   "cell_type": "code",
   "execution_count": 28,
   "metadata": {},
   "outputs": [
    {
     "name": "stdout",
     "output_type": "stream",
     "text": [
      "               precision    recall  f1-score   support\n",
      "\n",
      "        Bronx       0.09      0.02      0.03       145\n",
      "     Brooklyn       0.48      0.53      0.50      3235\n",
      "    Manhattan       0.54      0.60      0.57      3484\n",
      "       Queens       0.25      0.11      0.15       867\n",
      "Staten Island       0.00      0.00      0.00        58\n",
      "\n",
      "     accuracy                           0.50      7789\n",
      "    macro avg       0.27      0.25      0.25      7789\n",
      " weighted avg       0.47      0.50      0.48      7789\n",
      "\n",
      "Feature importances:\n",
      "\tprice: 0.26\n",
      "\tnumber_of_reviews: 0.21\n",
      "\treviews_per_month: 0.29\n",
      "\tavailability_365: 0.25\n"
     ]
    }
   ],
   "source": [
    "def random_forest_classification(dataframe, input_features):\n",
    "    rng = np.random.RandomState(0)\n",
    "    X_train, X_test, y_train, y_test = split_data(dataframe, input_features, \"neighbourhood_group\")\n",
    "\n",
    "    model = sklearn.ensemble.RandomForestClassifier(random_state=rng)\n",
    "    model.fit(X_train, y_train)\n",
    "    preds = model.predict(X_test)\n",
    "    \n",
    "    test_report = sklearn.metrics.classification_report(y_test, preds)\n",
    "    print(test_report)\n",
    "    feature_importances = \"\\n\\t\".join(f\"{feature}: {importance:.2f}\" for feature, importance in zip(input_features, model.feature_importances_))\n",
    "    print(f\"Feature importances:\\n\\t{feature_importances}\")\n",
    "    \n",
    "    return model, preds, y_test\n",
    "\n",
    "model, preds, y_test = random_forest_classification(df, [\"price\", \"number_of_reviews\", \"reviews_per_month\", \"availability_365\"])"
   ]
  },
  {
   "cell_type": "markdown",
   "metadata": {},
   "source": [
    "## Evaluation\n",
    "As touched upon earlier, there is an uneven distribution in the data set. We see from the test report, that Bronx and Staten Island scores some low numbers in both precision and recall. This is because they are not that represented in the data, which will lower the overall score of the model.\n",
    "\n",
    "\n",
    "### Precision \n",
    "Precision is calculated by the number of times a member of a class is correctly identified divided by the total times that member has been predicted (Kreiger, 2020). If we try to predict a type of fruit, let’s say an apple, the precision is the number of correctly identified apples divided by the number of total predictions on apples, even if the prediction were correct or incorrect. \n",
    "\n",
    "For this model we see the weighted average for the precision is: 0.47. This means that the “neighbourhood_group” or boroughs were correctly identified about half of the times they were predicted. \n",
    "\n",
    "### Recall\n",
    "Recall is calculated by the number of times a member of a class is correctly identified divided by the total number of members in that class (Kreiger, 2020). For the fruit example, the number of correctly identified apples are divided by the total number of apples. \n",
    "\n",
    "We see the weighted average for the recall is: 0.50. This means that half of the total number of boroughs were predicted correctly.\n",
    "\n",
    "### F1 score\n",
    "The F1 score is a weighted average of the precision and recall. 1 being the best score and 0 being the worst score. It is a quick way to tell if the model is good at making predictions. If both precision and recall are high, the F1-score will be high, and it will be low if one of them are low (Kreiger, 2020).\n",
    "\n",
    "With a weighted average F1 score of: 0.48, this model does not have the strongest classification abilities. It is said that the model can be evaluated by its ability to predict better than a random choice, so let’s check that. We have 5 boroughs, which would end up getting an equal 20% chance of each borough to be predicted. So, in that regard, a model to be 48% arcuate is not that bad. It certainly needs to be better, but it is superior to a random guess.\n",
    "\n",
    "Furthermore, we see, as expected, that Bronx and Staten Island have very low, even nonexistent, results. This is due to the uneven data set, as we saw in the visualizations.\n",
    "\n",
    "### Feature importances\n",
    "We see that the feature importance shows us that the features are roughly evenly important when predicting new data.\n",
    "\n"
   ]
  },
  {
   "cell_type": "markdown",
   "metadata": {},
   "source": [
    "### Further visualization of evaluation\n",
    "To see visualize the model’s prediction, a new DataFrame is made. Here the actual values are put into the first column and the predictions made by the model into the next column. A comparison column is created by using np.where, which returns True or False if the values are the same or not. This comparison list is then added to the new DataFrame. To limit the visualization, the DataFrame is narrowed to the first 30 rows. By using the function color_rows(), every row in the comparison column that are of the value True get colored green. "
   ]
  },
  {
   "cell_type": "code",
   "execution_count": 29,
   "metadata": {},
   "outputs": [
    {
     "data": {
      "text/html": [
       "<style  type=\"text/css\" >\n",
       "    #T_2c479e3a_be17_11eb_9d16_3c15c2c778aerow0_col0 {\n",
       "            background-color:  ;\n",
       "        }    #T_2c479e3a_be17_11eb_9d16_3c15c2c778aerow0_col1 {\n",
       "            background-color:  ;\n",
       "        }    #T_2c479e3a_be17_11eb_9d16_3c15c2c778aerow0_col2 {\n",
       "            background-color:  ;\n",
       "        }    #T_2c479e3a_be17_11eb_9d16_3c15c2c778aerow1_col0 {\n",
       "            background-color:  ;\n",
       "        }    #T_2c479e3a_be17_11eb_9d16_3c15c2c778aerow1_col1 {\n",
       "            background-color:  ;\n",
       "        }    #T_2c479e3a_be17_11eb_9d16_3c15c2c778aerow1_col2 {\n",
       "            background-color:  lightGreen;\n",
       "        }    #T_2c479e3a_be17_11eb_9d16_3c15c2c778aerow2_col0 {\n",
       "            background-color:  ;\n",
       "        }    #T_2c479e3a_be17_11eb_9d16_3c15c2c778aerow2_col1 {\n",
       "            background-color:  ;\n",
       "        }    #T_2c479e3a_be17_11eb_9d16_3c15c2c778aerow2_col2 {\n",
       "            background-color:  lightGreen;\n",
       "        }    #T_2c479e3a_be17_11eb_9d16_3c15c2c778aerow3_col0 {\n",
       "            background-color:  ;\n",
       "        }    #T_2c479e3a_be17_11eb_9d16_3c15c2c778aerow3_col1 {\n",
       "            background-color:  ;\n",
       "        }    #T_2c479e3a_be17_11eb_9d16_3c15c2c778aerow3_col2 {\n",
       "            background-color:  ;\n",
       "        }    #T_2c479e3a_be17_11eb_9d16_3c15c2c778aerow4_col0 {\n",
       "            background-color:  ;\n",
       "        }    #T_2c479e3a_be17_11eb_9d16_3c15c2c778aerow4_col1 {\n",
       "            background-color:  ;\n",
       "        }    #T_2c479e3a_be17_11eb_9d16_3c15c2c778aerow4_col2 {\n",
       "            background-color:  lightGreen;\n",
       "        }    #T_2c479e3a_be17_11eb_9d16_3c15c2c778aerow5_col0 {\n",
       "            background-color:  ;\n",
       "        }    #T_2c479e3a_be17_11eb_9d16_3c15c2c778aerow5_col1 {\n",
       "            background-color:  ;\n",
       "        }    #T_2c479e3a_be17_11eb_9d16_3c15c2c778aerow5_col2 {\n",
       "            background-color:  lightGreen;\n",
       "        }    #T_2c479e3a_be17_11eb_9d16_3c15c2c778aerow6_col0 {\n",
       "            background-color:  ;\n",
       "        }    #T_2c479e3a_be17_11eb_9d16_3c15c2c778aerow6_col1 {\n",
       "            background-color:  ;\n",
       "        }    #T_2c479e3a_be17_11eb_9d16_3c15c2c778aerow6_col2 {\n",
       "            background-color:  ;\n",
       "        }    #T_2c479e3a_be17_11eb_9d16_3c15c2c778aerow7_col0 {\n",
       "            background-color:  ;\n",
       "        }    #T_2c479e3a_be17_11eb_9d16_3c15c2c778aerow7_col1 {\n",
       "            background-color:  ;\n",
       "        }    #T_2c479e3a_be17_11eb_9d16_3c15c2c778aerow7_col2 {\n",
       "            background-color:  ;\n",
       "        }    #T_2c479e3a_be17_11eb_9d16_3c15c2c778aerow8_col0 {\n",
       "            background-color:  ;\n",
       "        }    #T_2c479e3a_be17_11eb_9d16_3c15c2c778aerow8_col1 {\n",
       "            background-color:  ;\n",
       "        }    #T_2c479e3a_be17_11eb_9d16_3c15c2c778aerow8_col2 {\n",
       "            background-color:  ;\n",
       "        }    #T_2c479e3a_be17_11eb_9d16_3c15c2c778aerow9_col0 {\n",
       "            background-color:  ;\n",
       "        }    #T_2c479e3a_be17_11eb_9d16_3c15c2c778aerow9_col1 {\n",
       "            background-color:  ;\n",
       "        }    #T_2c479e3a_be17_11eb_9d16_3c15c2c778aerow9_col2 {\n",
       "            background-color:  lightGreen;\n",
       "        }    #T_2c479e3a_be17_11eb_9d16_3c15c2c778aerow10_col0 {\n",
       "            background-color:  ;\n",
       "        }    #T_2c479e3a_be17_11eb_9d16_3c15c2c778aerow10_col1 {\n",
       "            background-color:  ;\n",
       "        }    #T_2c479e3a_be17_11eb_9d16_3c15c2c778aerow10_col2 {\n",
       "            background-color:  lightGreen;\n",
       "        }    #T_2c479e3a_be17_11eb_9d16_3c15c2c778aerow11_col0 {\n",
       "            background-color:  ;\n",
       "        }    #T_2c479e3a_be17_11eb_9d16_3c15c2c778aerow11_col1 {\n",
       "            background-color:  ;\n",
       "        }    #T_2c479e3a_be17_11eb_9d16_3c15c2c778aerow11_col2 {\n",
       "            background-color:  lightGreen;\n",
       "        }    #T_2c479e3a_be17_11eb_9d16_3c15c2c778aerow12_col0 {\n",
       "            background-color:  ;\n",
       "        }    #T_2c479e3a_be17_11eb_9d16_3c15c2c778aerow12_col1 {\n",
       "            background-color:  ;\n",
       "        }    #T_2c479e3a_be17_11eb_9d16_3c15c2c778aerow12_col2 {\n",
       "            background-color:  ;\n",
       "        }    #T_2c479e3a_be17_11eb_9d16_3c15c2c778aerow13_col0 {\n",
       "            background-color:  ;\n",
       "        }    #T_2c479e3a_be17_11eb_9d16_3c15c2c778aerow13_col1 {\n",
       "            background-color:  ;\n",
       "        }    #T_2c479e3a_be17_11eb_9d16_3c15c2c778aerow13_col2 {\n",
       "            background-color:  lightGreen;\n",
       "        }    #T_2c479e3a_be17_11eb_9d16_3c15c2c778aerow14_col0 {\n",
       "            background-color:  ;\n",
       "        }    #T_2c479e3a_be17_11eb_9d16_3c15c2c778aerow14_col1 {\n",
       "            background-color:  ;\n",
       "        }    #T_2c479e3a_be17_11eb_9d16_3c15c2c778aerow14_col2 {\n",
       "            background-color:  lightGreen;\n",
       "        }    #T_2c479e3a_be17_11eb_9d16_3c15c2c778aerow15_col0 {\n",
       "            background-color:  ;\n",
       "        }    #T_2c479e3a_be17_11eb_9d16_3c15c2c778aerow15_col1 {\n",
       "            background-color:  ;\n",
       "        }    #T_2c479e3a_be17_11eb_9d16_3c15c2c778aerow15_col2 {\n",
       "            background-color:  lightGreen;\n",
       "        }    #T_2c479e3a_be17_11eb_9d16_3c15c2c778aerow16_col0 {\n",
       "            background-color:  ;\n",
       "        }    #T_2c479e3a_be17_11eb_9d16_3c15c2c778aerow16_col1 {\n",
       "            background-color:  ;\n",
       "        }    #T_2c479e3a_be17_11eb_9d16_3c15c2c778aerow16_col2 {\n",
       "            background-color:  lightGreen;\n",
       "        }    #T_2c479e3a_be17_11eb_9d16_3c15c2c778aerow17_col0 {\n",
       "            background-color:  ;\n",
       "        }    #T_2c479e3a_be17_11eb_9d16_3c15c2c778aerow17_col1 {\n",
       "            background-color:  ;\n",
       "        }    #T_2c479e3a_be17_11eb_9d16_3c15c2c778aerow17_col2 {\n",
       "            background-color:  ;\n",
       "        }    #T_2c479e3a_be17_11eb_9d16_3c15c2c778aerow18_col0 {\n",
       "            background-color:  ;\n",
       "        }    #T_2c479e3a_be17_11eb_9d16_3c15c2c778aerow18_col1 {\n",
       "            background-color:  ;\n",
       "        }    #T_2c479e3a_be17_11eb_9d16_3c15c2c778aerow18_col2 {\n",
       "            background-color:  lightGreen;\n",
       "        }    #T_2c479e3a_be17_11eb_9d16_3c15c2c778aerow19_col0 {\n",
       "            background-color:  ;\n",
       "        }    #T_2c479e3a_be17_11eb_9d16_3c15c2c778aerow19_col1 {\n",
       "            background-color:  ;\n",
       "        }    #T_2c479e3a_be17_11eb_9d16_3c15c2c778aerow19_col2 {\n",
       "            background-color:  lightGreen;\n",
       "        }    #T_2c479e3a_be17_11eb_9d16_3c15c2c778aerow20_col0 {\n",
       "            background-color:  ;\n",
       "        }    #T_2c479e3a_be17_11eb_9d16_3c15c2c778aerow20_col1 {\n",
       "            background-color:  ;\n",
       "        }    #T_2c479e3a_be17_11eb_9d16_3c15c2c778aerow20_col2 {\n",
       "            background-color:  lightGreen;\n",
       "        }    #T_2c479e3a_be17_11eb_9d16_3c15c2c778aerow21_col0 {\n",
       "            background-color:  ;\n",
       "        }    #T_2c479e3a_be17_11eb_9d16_3c15c2c778aerow21_col1 {\n",
       "            background-color:  ;\n",
       "        }    #T_2c479e3a_be17_11eb_9d16_3c15c2c778aerow21_col2 {\n",
       "            background-color:  ;\n",
       "        }    #T_2c479e3a_be17_11eb_9d16_3c15c2c778aerow22_col0 {\n",
       "            background-color:  ;\n",
       "        }    #T_2c479e3a_be17_11eb_9d16_3c15c2c778aerow22_col1 {\n",
       "            background-color:  ;\n",
       "        }    #T_2c479e3a_be17_11eb_9d16_3c15c2c778aerow22_col2 {\n",
       "            background-color:  ;\n",
       "        }    #T_2c479e3a_be17_11eb_9d16_3c15c2c778aerow23_col0 {\n",
       "            background-color:  ;\n",
       "        }    #T_2c479e3a_be17_11eb_9d16_3c15c2c778aerow23_col1 {\n",
       "            background-color:  ;\n",
       "        }    #T_2c479e3a_be17_11eb_9d16_3c15c2c778aerow23_col2 {\n",
       "            background-color:  ;\n",
       "        }    #T_2c479e3a_be17_11eb_9d16_3c15c2c778aerow24_col0 {\n",
       "            background-color:  ;\n",
       "        }    #T_2c479e3a_be17_11eb_9d16_3c15c2c778aerow24_col1 {\n",
       "            background-color:  ;\n",
       "        }    #T_2c479e3a_be17_11eb_9d16_3c15c2c778aerow24_col2 {\n",
       "            background-color:  lightGreen;\n",
       "        }    #T_2c479e3a_be17_11eb_9d16_3c15c2c778aerow25_col0 {\n",
       "            background-color:  ;\n",
       "        }    #T_2c479e3a_be17_11eb_9d16_3c15c2c778aerow25_col1 {\n",
       "            background-color:  ;\n",
       "        }    #T_2c479e3a_be17_11eb_9d16_3c15c2c778aerow25_col2 {\n",
       "            background-color:  lightGreen;\n",
       "        }    #T_2c479e3a_be17_11eb_9d16_3c15c2c778aerow26_col0 {\n",
       "            background-color:  ;\n",
       "        }    #T_2c479e3a_be17_11eb_9d16_3c15c2c778aerow26_col1 {\n",
       "            background-color:  ;\n",
       "        }    #T_2c479e3a_be17_11eb_9d16_3c15c2c778aerow26_col2 {\n",
       "            background-color:  lightGreen;\n",
       "        }    #T_2c479e3a_be17_11eb_9d16_3c15c2c778aerow27_col0 {\n",
       "            background-color:  ;\n",
       "        }    #T_2c479e3a_be17_11eb_9d16_3c15c2c778aerow27_col1 {\n",
       "            background-color:  ;\n",
       "        }    #T_2c479e3a_be17_11eb_9d16_3c15c2c778aerow27_col2 {\n",
       "            background-color:  lightGreen;\n",
       "        }    #T_2c479e3a_be17_11eb_9d16_3c15c2c778aerow28_col0 {\n",
       "            background-color:  ;\n",
       "        }    #T_2c479e3a_be17_11eb_9d16_3c15c2c778aerow28_col1 {\n",
       "            background-color:  ;\n",
       "        }    #T_2c479e3a_be17_11eb_9d16_3c15c2c778aerow28_col2 {\n",
       "            background-color:  lightGreen;\n",
       "        }    #T_2c479e3a_be17_11eb_9d16_3c15c2c778aerow29_col0 {\n",
       "            background-color:  ;\n",
       "        }    #T_2c479e3a_be17_11eb_9d16_3c15c2c778aerow29_col1 {\n",
       "            background-color:  ;\n",
       "        }    #T_2c479e3a_be17_11eb_9d16_3c15c2c778aerow29_col2 {\n",
       "            background-color:  lightGreen;\n",
       "        }</style><table id=\"T_2c479e3a_be17_11eb_9d16_3c15c2c778ae\" ><thead>    <tr>        <th class=\"blank level0\" ></th>        <th class=\"col_heading level0 col0\" >Actual neighbourhood_group</th>        <th class=\"col_heading level0 col1\" >Predicted neighbourhood_group</th>        <th class=\"col_heading level0 col2\" >Comparison</th>    </tr></thead><tbody>\n",
       "                <tr>\n",
       "                        <th id=\"T_2c479e3a_be17_11eb_9d16_3c15c2c778aelevel0_row0\" class=\"row_heading level0 row0\" >30164</th>\n",
       "                        <td id=\"T_2c479e3a_be17_11eb_9d16_3c15c2c778aerow0_col0\" class=\"data row0 col0\" >Brooklyn</td>\n",
       "                        <td id=\"T_2c479e3a_be17_11eb_9d16_3c15c2c778aerow0_col1\" class=\"data row0 col1\" >Manhattan</td>\n",
       "                        <td id=\"T_2c479e3a_be17_11eb_9d16_3c15c2c778aerow0_col2\" class=\"data row0 col2\" >False</td>\n",
       "            </tr>\n",
       "            <tr>\n",
       "                        <th id=\"T_2c479e3a_be17_11eb_9d16_3c15c2c778aelevel0_row1\" class=\"row_heading level0 row1\" >3224</th>\n",
       "                        <td id=\"T_2c479e3a_be17_11eb_9d16_3c15c2c778aerow1_col0\" class=\"data row1 col0\" >Manhattan</td>\n",
       "                        <td id=\"T_2c479e3a_be17_11eb_9d16_3c15c2c778aerow1_col1\" class=\"data row1 col1\" >Manhattan</td>\n",
       "                        <td id=\"T_2c479e3a_be17_11eb_9d16_3c15c2c778aerow1_col2\" class=\"data row1 col2\" >True</td>\n",
       "            </tr>\n",
       "            <tr>\n",
       "                        <th id=\"T_2c479e3a_be17_11eb_9d16_3c15c2c778aelevel0_row2\" class=\"row_heading level0 row2\" >47149</th>\n",
       "                        <td id=\"T_2c479e3a_be17_11eb_9d16_3c15c2c778aerow2_col0\" class=\"data row2 col0\" >Manhattan</td>\n",
       "                        <td id=\"T_2c479e3a_be17_11eb_9d16_3c15c2c778aerow2_col1\" class=\"data row2 col1\" >Manhattan</td>\n",
       "                        <td id=\"T_2c479e3a_be17_11eb_9d16_3c15c2c778aerow2_col2\" class=\"data row2 col2\" >True</td>\n",
       "            </tr>\n",
       "            <tr>\n",
       "                        <th id=\"T_2c479e3a_be17_11eb_9d16_3c15c2c778aelevel0_row3\" class=\"row_heading level0 row3\" >41914</th>\n",
       "                        <td id=\"T_2c479e3a_be17_11eb_9d16_3c15c2c778aerow3_col0\" class=\"data row3 col0\" >Brooklyn</td>\n",
       "                        <td id=\"T_2c479e3a_be17_11eb_9d16_3c15c2c778aerow3_col1\" class=\"data row3 col1\" >Manhattan</td>\n",
       "                        <td id=\"T_2c479e3a_be17_11eb_9d16_3c15c2c778aerow3_col2\" class=\"data row3 col2\" >False</td>\n",
       "            </tr>\n",
       "            <tr>\n",
       "                        <th id=\"T_2c479e3a_be17_11eb_9d16_3c15c2c778aelevel0_row4\" class=\"row_heading level0 row4\" >48442</th>\n",
       "                        <td id=\"T_2c479e3a_be17_11eb_9d16_3c15c2c778aerow4_col0\" class=\"data row4 col0\" >Brooklyn</td>\n",
       "                        <td id=\"T_2c479e3a_be17_11eb_9d16_3c15c2c778aerow4_col1\" class=\"data row4 col1\" >Brooklyn</td>\n",
       "                        <td id=\"T_2c479e3a_be17_11eb_9d16_3c15c2c778aerow4_col2\" class=\"data row4 col2\" >True</td>\n",
       "            </tr>\n",
       "            <tr>\n",
       "                        <th id=\"T_2c479e3a_be17_11eb_9d16_3c15c2c778aelevel0_row5\" class=\"row_heading level0 row5\" >22196</th>\n",
       "                        <td id=\"T_2c479e3a_be17_11eb_9d16_3c15c2c778aerow5_col0\" class=\"data row5 col0\" >Brooklyn</td>\n",
       "                        <td id=\"T_2c479e3a_be17_11eb_9d16_3c15c2c778aerow5_col1\" class=\"data row5 col1\" >Brooklyn</td>\n",
       "                        <td id=\"T_2c479e3a_be17_11eb_9d16_3c15c2c778aerow5_col2\" class=\"data row5 col2\" >True</td>\n",
       "            </tr>\n",
       "            <tr>\n",
       "                        <th id=\"T_2c479e3a_be17_11eb_9d16_3c15c2c778aelevel0_row6\" class=\"row_heading level0 row6\" >3053</th>\n",
       "                        <td id=\"T_2c479e3a_be17_11eb_9d16_3c15c2c778aerow6_col0\" class=\"data row6 col0\" >Queens</td>\n",
       "                        <td id=\"T_2c479e3a_be17_11eb_9d16_3c15c2c778aerow6_col1\" class=\"data row6 col1\" >Manhattan</td>\n",
       "                        <td id=\"T_2c479e3a_be17_11eb_9d16_3c15c2c778aerow6_col2\" class=\"data row6 col2\" >False</td>\n",
       "            </tr>\n",
       "            <tr>\n",
       "                        <th id=\"T_2c479e3a_be17_11eb_9d16_3c15c2c778aelevel0_row7\" class=\"row_heading level0 row7\" >23574</th>\n",
       "                        <td id=\"T_2c479e3a_be17_11eb_9d16_3c15c2c778aerow7_col0\" class=\"data row7 col0\" >Brooklyn</td>\n",
       "                        <td id=\"T_2c479e3a_be17_11eb_9d16_3c15c2c778aerow7_col1\" class=\"data row7 col1\" >Manhattan</td>\n",
       "                        <td id=\"T_2c479e3a_be17_11eb_9d16_3c15c2c778aerow7_col2\" class=\"data row7 col2\" >False</td>\n",
       "            </tr>\n",
       "            <tr>\n",
       "                        <th id=\"T_2c479e3a_be17_11eb_9d16_3c15c2c778aelevel0_row8\" class=\"row_heading level0 row8\" >6754</th>\n",
       "                        <td id=\"T_2c479e3a_be17_11eb_9d16_3c15c2c778aerow8_col0\" class=\"data row8 col0\" >Manhattan</td>\n",
       "                        <td id=\"T_2c479e3a_be17_11eb_9d16_3c15c2c778aerow8_col1\" class=\"data row8 col1\" >Brooklyn</td>\n",
       "                        <td id=\"T_2c479e3a_be17_11eb_9d16_3c15c2c778aerow8_col2\" class=\"data row8 col2\" >False</td>\n",
       "            </tr>\n",
       "            <tr>\n",
       "                        <th id=\"T_2c479e3a_be17_11eb_9d16_3c15c2c778aelevel0_row9\" class=\"row_heading level0 row9\" >44156</th>\n",
       "                        <td id=\"T_2c479e3a_be17_11eb_9d16_3c15c2c778aerow9_col0\" class=\"data row9 col0\" >Manhattan</td>\n",
       "                        <td id=\"T_2c479e3a_be17_11eb_9d16_3c15c2c778aerow9_col1\" class=\"data row9 col1\" >Manhattan</td>\n",
       "                        <td id=\"T_2c479e3a_be17_11eb_9d16_3c15c2c778aerow9_col2\" class=\"data row9 col2\" >True</td>\n",
       "            </tr>\n",
       "            <tr>\n",
       "                        <th id=\"T_2c479e3a_be17_11eb_9d16_3c15c2c778aelevel0_row10\" class=\"row_heading level0 row10\" >11532</th>\n",
       "                        <td id=\"T_2c479e3a_be17_11eb_9d16_3c15c2c778aerow10_col0\" class=\"data row10 col0\" >Brooklyn</td>\n",
       "                        <td id=\"T_2c479e3a_be17_11eb_9d16_3c15c2c778aerow10_col1\" class=\"data row10 col1\" >Brooklyn</td>\n",
       "                        <td id=\"T_2c479e3a_be17_11eb_9d16_3c15c2c778aerow10_col2\" class=\"data row10 col2\" >True</td>\n",
       "            </tr>\n",
       "            <tr>\n",
       "                        <th id=\"T_2c479e3a_be17_11eb_9d16_3c15c2c778aelevel0_row11\" class=\"row_heading level0 row11\" >28147</th>\n",
       "                        <td id=\"T_2c479e3a_be17_11eb_9d16_3c15c2c778aerow11_col0\" class=\"data row11 col0\" >Brooklyn</td>\n",
       "                        <td id=\"T_2c479e3a_be17_11eb_9d16_3c15c2c778aerow11_col1\" class=\"data row11 col1\" >Brooklyn</td>\n",
       "                        <td id=\"T_2c479e3a_be17_11eb_9d16_3c15c2c778aerow11_col2\" class=\"data row11 col2\" >True</td>\n",
       "            </tr>\n",
       "            <tr>\n",
       "                        <th id=\"T_2c479e3a_be17_11eb_9d16_3c15c2c778aelevel0_row12\" class=\"row_heading level0 row12\" >47471</th>\n",
       "                        <td id=\"T_2c479e3a_be17_11eb_9d16_3c15c2c778aerow12_col0\" class=\"data row12 col0\" >Brooklyn</td>\n",
       "                        <td id=\"T_2c479e3a_be17_11eb_9d16_3c15c2c778aerow12_col1\" class=\"data row12 col1\" >Queens</td>\n",
       "                        <td id=\"T_2c479e3a_be17_11eb_9d16_3c15c2c778aerow12_col2\" class=\"data row12 col2\" >False</td>\n",
       "            </tr>\n",
       "            <tr>\n",
       "                        <th id=\"T_2c479e3a_be17_11eb_9d16_3c15c2c778aelevel0_row13\" class=\"row_heading level0 row13\" >44838</th>\n",
       "                        <td id=\"T_2c479e3a_be17_11eb_9d16_3c15c2c778aerow13_col0\" class=\"data row13 col0\" >Brooklyn</td>\n",
       "                        <td id=\"T_2c479e3a_be17_11eb_9d16_3c15c2c778aerow13_col1\" class=\"data row13 col1\" >Brooklyn</td>\n",
       "                        <td id=\"T_2c479e3a_be17_11eb_9d16_3c15c2c778aerow13_col2\" class=\"data row13 col2\" >True</td>\n",
       "            </tr>\n",
       "            <tr>\n",
       "                        <th id=\"T_2c479e3a_be17_11eb_9d16_3c15c2c778aelevel0_row14\" class=\"row_heading level0 row14\" >16659</th>\n",
       "                        <td id=\"T_2c479e3a_be17_11eb_9d16_3c15c2c778aerow14_col0\" class=\"data row14 col0\" >Brooklyn</td>\n",
       "                        <td id=\"T_2c479e3a_be17_11eb_9d16_3c15c2c778aerow14_col1\" class=\"data row14 col1\" >Brooklyn</td>\n",
       "                        <td id=\"T_2c479e3a_be17_11eb_9d16_3c15c2c778aerow14_col2\" class=\"data row14 col2\" >True</td>\n",
       "            </tr>\n",
       "            <tr>\n",
       "                        <th id=\"T_2c479e3a_be17_11eb_9d16_3c15c2c778aelevel0_row15\" class=\"row_heading level0 row15\" >46124</th>\n",
       "                        <td id=\"T_2c479e3a_be17_11eb_9d16_3c15c2c778aerow15_col0\" class=\"data row15 col0\" >Queens</td>\n",
       "                        <td id=\"T_2c479e3a_be17_11eb_9d16_3c15c2c778aerow15_col1\" class=\"data row15 col1\" >Queens</td>\n",
       "                        <td id=\"T_2c479e3a_be17_11eb_9d16_3c15c2c778aerow15_col2\" class=\"data row15 col2\" >True</td>\n",
       "            </tr>\n",
       "            <tr>\n",
       "                        <th id=\"T_2c479e3a_be17_11eb_9d16_3c15c2c778aelevel0_row16\" class=\"row_heading level0 row16\" >20963</th>\n",
       "                        <td id=\"T_2c479e3a_be17_11eb_9d16_3c15c2c778aerow16_col0\" class=\"data row16 col0\" >Brooklyn</td>\n",
       "                        <td id=\"T_2c479e3a_be17_11eb_9d16_3c15c2c778aerow16_col1\" class=\"data row16 col1\" >Brooklyn</td>\n",
       "                        <td id=\"T_2c479e3a_be17_11eb_9d16_3c15c2c778aerow16_col2\" class=\"data row16 col2\" >True</td>\n",
       "            </tr>\n",
       "            <tr>\n",
       "                        <th id=\"T_2c479e3a_be17_11eb_9d16_3c15c2c778aelevel0_row17\" class=\"row_heading level0 row17\" >30406</th>\n",
       "                        <td id=\"T_2c479e3a_be17_11eb_9d16_3c15c2c778aerow17_col0\" class=\"data row17 col0\" >Bronx</td>\n",
       "                        <td id=\"T_2c479e3a_be17_11eb_9d16_3c15c2c778aerow17_col1\" class=\"data row17 col1\" >Brooklyn</td>\n",
       "                        <td id=\"T_2c479e3a_be17_11eb_9d16_3c15c2c778aerow17_col2\" class=\"data row17 col2\" >False</td>\n",
       "            </tr>\n",
       "            <tr>\n",
       "                        <th id=\"T_2c479e3a_be17_11eb_9d16_3c15c2c778aelevel0_row18\" class=\"row_heading level0 row18\" >31041</th>\n",
       "                        <td id=\"T_2c479e3a_be17_11eb_9d16_3c15c2c778aerow18_col0\" class=\"data row18 col0\" >Manhattan</td>\n",
       "                        <td id=\"T_2c479e3a_be17_11eb_9d16_3c15c2c778aerow18_col1\" class=\"data row18 col1\" >Manhattan</td>\n",
       "                        <td id=\"T_2c479e3a_be17_11eb_9d16_3c15c2c778aerow18_col2\" class=\"data row18 col2\" >True</td>\n",
       "            </tr>\n",
       "            <tr>\n",
       "                        <th id=\"T_2c479e3a_be17_11eb_9d16_3c15c2c778aelevel0_row19\" class=\"row_heading level0 row19\" >41714</th>\n",
       "                        <td id=\"T_2c479e3a_be17_11eb_9d16_3c15c2c778aerow19_col0\" class=\"data row19 col0\" >Brooklyn</td>\n",
       "                        <td id=\"T_2c479e3a_be17_11eb_9d16_3c15c2c778aerow19_col1\" class=\"data row19 col1\" >Brooklyn</td>\n",
       "                        <td id=\"T_2c479e3a_be17_11eb_9d16_3c15c2c778aerow19_col2\" class=\"data row19 col2\" >True</td>\n",
       "            </tr>\n",
       "            <tr>\n",
       "                        <th id=\"T_2c479e3a_be17_11eb_9d16_3c15c2c778aelevel0_row20\" class=\"row_heading level0 row20\" >11682</th>\n",
       "                        <td id=\"T_2c479e3a_be17_11eb_9d16_3c15c2c778aerow20_col0\" class=\"data row20 col0\" >Manhattan</td>\n",
       "                        <td id=\"T_2c479e3a_be17_11eb_9d16_3c15c2c778aerow20_col1\" class=\"data row20 col1\" >Manhattan</td>\n",
       "                        <td id=\"T_2c479e3a_be17_11eb_9d16_3c15c2c778aerow20_col2\" class=\"data row20 col2\" >True</td>\n",
       "            </tr>\n",
       "            <tr>\n",
       "                        <th id=\"T_2c479e3a_be17_11eb_9d16_3c15c2c778aelevel0_row21\" class=\"row_heading level0 row21\" >28679</th>\n",
       "                        <td id=\"T_2c479e3a_be17_11eb_9d16_3c15c2c778aerow21_col0\" class=\"data row21 col0\" >Brooklyn</td>\n",
       "                        <td id=\"T_2c479e3a_be17_11eb_9d16_3c15c2c778aerow21_col1\" class=\"data row21 col1\" >Manhattan</td>\n",
       "                        <td id=\"T_2c479e3a_be17_11eb_9d16_3c15c2c778aerow21_col2\" class=\"data row21 col2\" >False</td>\n",
       "            </tr>\n",
       "            <tr>\n",
       "                        <th id=\"T_2c479e3a_be17_11eb_9d16_3c15c2c778aelevel0_row22\" class=\"row_heading level0 row22\" >47675</th>\n",
       "                        <td id=\"T_2c479e3a_be17_11eb_9d16_3c15c2c778aerow22_col0\" class=\"data row22 col0\" >Queens</td>\n",
       "                        <td id=\"T_2c479e3a_be17_11eb_9d16_3c15c2c778aerow22_col1\" class=\"data row22 col1\" >Brooklyn</td>\n",
       "                        <td id=\"T_2c479e3a_be17_11eb_9d16_3c15c2c778aerow22_col2\" class=\"data row22 col2\" >False</td>\n",
       "            </tr>\n",
       "            <tr>\n",
       "                        <th id=\"T_2c479e3a_be17_11eb_9d16_3c15c2c778aelevel0_row23\" class=\"row_heading level0 row23\" >28898</th>\n",
       "                        <td id=\"T_2c479e3a_be17_11eb_9d16_3c15c2c778aerow23_col0\" class=\"data row23 col0\" >Brooklyn</td>\n",
       "                        <td id=\"T_2c479e3a_be17_11eb_9d16_3c15c2c778aerow23_col1\" class=\"data row23 col1\" >Manhattan</td>\n",
       "                        <td id=\"T_2c479e3a_be17_11eb_9d16_3c15c2c778aerow23_col2\" class=\"data row23 col2\" >False</td>\n",
       "            </tr>\n",
       "            <tr>\n",
       "                        <th id=\"T_2c479e3a_be17_11eb_9d16_3c15c2c778aelevel0_row24\" class=\"row_heading level0 row24\" >47888</th>\n",
       "                        <td id=\"T_2c479e3a_be17_11eb_9d16_3c15c2c778aerow24_col0\" class=\"data row24 col0\" >Brooklyn</td>\n",
       "                        <td id=\"T_2c479e3a_be17_11eb_9d16_3c15c2c778aerow24_col1\" class=\"data row24 col1\" >Brooklyn</td>\n",
       "                        <td id=\"T_2c479e3a_be17_11eb_9d16_3c15c2c778aerow24_col2\" class=\"data row24 col2\" >True</td>\n",
       "            </tr>\n",
       "            <tr>\n",
       "                        <th id=\"T_2c479e3a_be17_11eb_9d16_3c15c2c778aelevel0_row25\" class=\"row_heading level0 row25\" >46277</th>\n",
       "                        <td id=\"T_2c479e3a_be17_11eb_9d16_3c15c2c778aerow25_col0\" class=\"data row25 col0\" >Brooklyn</td>\n",
       "                        <td id=\"T_2c479e3a_be17_11eb_9d16_3c15c2c778aerow25_col1\" class=\"data row25 col1\" >Brooklyn</td>\n",
       "                        <td id=\"T_2c479e3a_be17_11eb_9d16_3c15c2c778aerow25_col2\" class=\"data row25 col2\" >True</td>\n",
       "            </tr>\n",
       "            <tr>\n",
       "                        <th id=\"T_2c479e3a_be17_11eb_9d16_3c15c2c778aelevel0_row26\" class=\"row_heading level0 row26\" >30391</th>\n",
       "                        <td id=\"T_2c479e3a_be17_11eb_9d16_3c15c2c778aerow26_col0\" class=\"data row26 col0\" >Queens</td>\n",
       "                        <td id=\"T_2c479e3a_be17_11eb_9d16_3c15c2c778aerow26_col1\" class=\"data row26 col1\" >Queens</td>\n",
       "                        <td id=\"T_2c479e3a_be17_11eb_9d16_3c15c2c778aerow26_col2\" class=\"data row26 col2\" >True</td>\n",
       "            </tr>\n",
       "            <tr>\n",
       "                        <th id=\"T_2c479e3a_be17_11eb_9d16_3c15c2c778aelevel0_row27\" class=\"row_heading level0 row27\" >15916</th>\n",
       "                        <td id=\"T_2c479e3a_be17_11eb_9d16_3c15c2c778aerow27_col0\" class=\"data row27 col0\" >Brooklyn</td>\n",
       "                        <td id=\"T_2c479e3a_be17_11eb_9d16_3c15c2c778aerow27_col1\" class=\"data row27 col1\" >Brooklyn</td>\n",
       "                        <td id=\"T_2c479e3a_be17_11eb_9d16_3c15c2c778aerow27_col2\" class=\"data row27 col2\" >True</td>\n",
       "            </tr>\n",
       "            <tr>\n",
       "                        <th id=\"T_2c479e3a_be17_11eb_9d16_3c15c2c778aelevel0_row28\" class=\"row_heading level0 row28\" >38443</th>\n",
       "                        <td id=\"T_2c479e3a_be17_11eb_9d16_3c15c2c778aerow28_col0\" class=\"data row28 col0\" >Queens</td>\n",
       "                        <td id=\"T_2c479e3a_be17_11eb_9d16_3c15c2c778aerow28_col1\" class=\"data row28 col1\" >Queens</td>\n",
       "                        <td id=\"T_2c479e3a_be17_11eb_9d16_3c15c2c778aerow28_col2\" class=\"data row28 col2\" >True</td>\n",
       "            </tr>\n",
       "            <tr>\n",
       "                        <th id=\"T_2c479e3a_be17_11eb_9d16_3c15c2c778aelevel0_row29\" class=\"row_heading level0 row29\" >8219</th>\n",
       "                        <td id=\"T_2c479e3a_be17_11eb_9d16_3c15c2c778aerow29_col0\" class=\"data row29 col0\" >Brooklyn</td>\n",
       "                        <td id=\"T_2c479e3a_be17_11eb_9d16_3c15c2c778aerow29_col1\" class=\"data row29 col1\" >Brooklyn</td>\n",
       "                        <td id=\"T_2c479e3a_be17_11eb_9d16_3c15c2c778aerow29_col2\" class=\"data row29 col2\" >True</td>\n",
       "            </tr>\n",
       "    </tbody></table>"
      ],
      "text/plain": [
       "<pandas.io.formats.style.Styler at 0x7feba21b7f40>"
      ]
     },
     "execution_count": 29,
     "metadata": {},
     "output_type": "execute_result"
    }
   ],
   "source": [
    "score_df = pd.DataFrame({'Actual neighbourhood_group':y_test, 'Predicted neighbourhood_group':preds})\n",
    "\n",
    "comparison_column = np.where(score_df[\"Actual neighbourhood_group\"] == score_df[\"Predicted neighbourhood_group\"], True, False)\n",
    "\n",
    "score_df['Comparison'] = comparison_column.tolist()\n",
    "new_score = score_df.head(30).copy()\n",
    "\n",
    "\n",
    "def color_rows(val):\n",
    "    color = 'lightGreen' if val == True else ''\n",
    "    return 'background-color: %s' % color\n",
    "\n",
    "new_score.style.applymap(color_rows)"
   ]
  },
  {
   "cell_type": "markdown",
   "metadata": {},
   "source": [
    "This show us that approximately two thirds of the predictions were correct. If the data set that were shown were larger, it would match the F1 score's results."
   ]
  },
  {
   "cell_type": "markdown",
   "metadata": {},
   "source": [
    "## Revise hypothesis\n",
    "\n",
    "As we have gotten a F1-score of 0.48 with the use of these features: [\"price\", \"number_of_reviews\", \"reviews_per_month\", \"availability_365\"], I will try to encode the categorical values of room_type to see if they provide a better score for the model."
   ]
  },
  {
   "cell_type": "markdown",
   "metadata": {},
   "source": [
    "### OneHotEncoder\n",
    "To encode the categorical value, I have chosen the method of OneHotEncode. This method is used when encoding values that are unordered, like room_type, where we have “Shared room”, “Private Room” and “Entire apt/home”. Perhaps one could argue that there is some order in these, as they go from complexly private to shared, but for this report, this argument will not be made. Instead, these values will be treated as unordered. This is done because the machine learning algorithm will assume that there is a hierarchy to the values, if they are simply label 1,2, and 3 and not OneHotEncoded. \n",
    "\n",
    "The OneHotEncoder create a new column for each room_type and notes if the row contains that particular room type or not. This leads us with three new columns, ohe_apt, ohe_private, and ohe_shared, where the row will be filled with a 1.0 if it belongs to the room type labeled in the column. This way, there will be no hierarchy between the room_types and they can be used for a random forest classifier."
   ]
  },
  {
   "cell_type": "code",
   "execution_count": 30,
   "metadata": {},
   "outputs": [
    {
     "name": "stdout",
     "output_type": "stream",
     "text": [
      "[array(['Entire home/apt', 'Private room', 'Shared room'], dtype=object)]\n"
     ]
    },
    {
     "data": {
      "text/html": [
       "<div>\n",
       "<style scoped>\n",
       "    .dataframe tbody tr th:only-of-type {\n",
       "        vertical-align: middle;\n",
       "    }\n",
       "\n",
       "    .dataframe tbody tr th {\n",
       "        vertical-align: top;\n",
       "    }\n",
       "\n",
       "    .dataframe thead th {\n",
       "        text-align: right;\n",
       "    }\n",
       "</style>\n",
       "<table border=\"1\" class=\"dataframe\">\n",
       "  <thead>\n",
       "    <tr style=\"text-align: right;\">\n",
       "      <th></th>\n",
       "      <th>ohe_apt</th>\n",
       "      <th>ohe_private</th>\n",
       "      <th>ohe_shared</th>\n",
       "    </tr>\n",
       "  </thead>\n",
       "  <tbody>\n",
       "    <tr>\n",
       "      <th>0</th>\n",
       "      <td>0.0</td>\n",
       "      <td>1.0</td>\n",
       "      <td>0.0</td>\n",
       "    </tr>\n",
       "    <tr>\n",
       "      <th>1</th>\n",
       "      <td>1.0</td>\n",
       "      <td>0.0</td>\n",
       "      <td>0.0</td>\n",
       "    </tr>\n",
       "    <tr>\n",
       "      <th>2</th>\n",
       "      <td>0.0</td>\n",
       "      <td>1.0</td>\n",
       "      <td>0.0</td>\n",
       "    </tr>\n",
       "    <tr>\n",
       "      <th>3</th>\n",
       "      <td>1.0</td>\n",
       "      <td>0.0</td>\n",
       "      <td>0.0</td>\n",
       "    </tr>\n",
       "    <tr>\n",
       "      <th>4</th>\n",
       "      <td>1.0</td>\n",
       "      <td>0.0</td>\n",
       "      <td>0.0</td>\n",
       "    </tr>\n",
       "    <tr>\n",
       "      <th>...</th>\n",
       "      <td>...</td>\n",
       "      <td>...</td>\n",
       "      <td>...</td>\n",
       "    </tr>\n",
       "    <tr>\n",
       "      <th>38939</th>\n",
       "      <td>0.0</td>\n",
       "      <td>1.0</td>\n",
       "      <td>0.0</td>\n",
       "    </tr>\n",
       "    <tr>\n",
       "      <th>38940</th>\n",
       "      <td>0.0</td>\n",
       "      <td>1.0</td>\n",
       "      <td>0.0</td>\n",
       "    </tr>\n",
       "    <tr>\n",
       "      <th>38941</th>\n",
       "      <td>1.0</td>\n",
       "      <td>0.0</td>\n",
       "      <td>0.0</td>\n",
       "    </tr>\n",
       "    <tr>\n",
       "      <th>38942</th>\n",
       "      <td>0.0</td>\n",
       "      <td>0.0</td>\n",
       "      <td>1.0</td>\n",
       "    </tr>\n",
       "    <tr>\n",
       "      <th>38943</th>\n",
       "      <td>0.0</td>\n",
       "      <td>1.0</td>\n",
       "      <td>0.0</td>\n",
       "    </tr>\n",
       "  </tbody>\n",
       "</table>\n",
       "<p>38944 rows × 3 columns</p>\n",
       "</div>"
      ],
      "text/plain": [
       "       ohe_apt  ohe_private  ohe_shared\n",
       "0          0.0          1.0         0.0\n",
       "1          1.0          0.0         0.0\n",
       "2          0.0          1.0         0.0\n",
       "3          1.0          0.0         0.0\n",
       "4          1.0          0.0         0.0\n",
       "...        ...          ...         ...\n",
       "38939      0.0          1.0         0.0\n",
       "38940      0.0          1.0         0.0\n",
       "38941      1.0          0.0         0.0\n",
       "38942      0.0          0.0         1.0\n",
       "38943      0.0          1.0         0.0\n",
       "\n",
       "[38944 rows x 3 columns]"
      ]
     },
     "execution_count": 30,
     "metadata": {},
     "output_type": "execute_result"
    }
   ],
   "source": [
    "from sklearn.preprocessing import OneHotEncoder\n",
    "ohe = OneHotEncoder(sparse=False)\n",
    "\n",
    "room_type_df = df[[\"room_type\"]].copy()\n",
    "\n",
    "result = ohe.fit_transform(room_type_df)\n",
    "\n",
    "room_type_df = pd.DataFrame(result)\n",
    "\n",
    "print(ohe.categories_)\n",
    "room_type_df.columns =['ohe_apt', 'ohe_private', 'ohe_shared']\n",
    "room_type_df"
   ]
  },
  {
   "cell_type": "markdown",
   "metadata": {},
   "source": [
    "Next, the DataFrame, to which we want to add the newly encoded room types, have gotten a reset index, so it will match the indexes from the room_type_df. Then the two are combined into one extended DataFrame. "
   ]
  },
  {
   "cell_type": "code",
   "execution_count": 31,
   "metadata": {},
   "outputs": [
    {
     "data": {
      "text/html": [
       "<div>\n",
       "<style scoped>\n",
       "    .dataframe tbody tr th:only-of-type {\n",
       "        vertical-align: middle;\n",
       "    }\n",
       "\n",
       "    .dataframe tbody tr th {\n",
       "        vertical-align: top;\n",
       "    }\n",
       "\n",
       "    .dataframe thead th {\n",
       "        text-align: right;\n",
       "    }\n",
       "</style>\n",
       "<table border=\"1\" class=\"dataframe\">\n",
       "  <thead>\n",
       "    <tr style=\"text-align: right;\">\n",
       "      <th></th>\n",
       "      <th>neighbourhood_group</th>\n",
       "      <th>neighbourhood</th>\n",
       "      <th>latitude</th>\n",
       "      <th>longitude</th>\n",
       "      <th>room_type</th>\n",
       "      <th>price</th>\n",
       "      <th>minimum_nights</th>\n",
       "      <th>number_of_reviews</th>\n",
       "      <th>last_review</th>\n",
       "      <th>reviews_per_month</th>\n",
       "      <th>calculated_host_listings_count</th>\n",
       "      <th>availability_365</th>\n",
       "      <th>ohe_apt</th>\n",
       "      <th>ohe_private</th>\n",
       "      <th>ohe_shared</th>\n",
       "    </tr>\n",
       "  </thead>\n",
       "  <tbody>\n",
       "    <tr>\n",
       "      <th>0</th>\n",
       "      <td>Brooklyn</td>\n",
       "      <td>Kensington</td>\n",
       "      <td>40.64749</td>\n",
       "      <td>-73.97237</td>\n",
       "      <td>Private room</td>\n",
       "      <td>149</td>\n",
       "      <td>1</td>\n",
       "      <td>9</td>\n",
       "      <td>2018-10-19</td>\n",
       "      <td>0.210000</td>\n",
       "      <td>6</td>\n",
       "      <td>365</td>\n",
       "      <td>0.0</td>\n",
       "      <td>1.0</td>\n",
       "      <td>0.0</td>\n",
       "    </tr>\n",
       "    <tr>\n",
       "      <th>1</th>\n",
       "      <td>Manhattan</td>\n",
       "      <td>Midtown</td>\n",
       "      <td>40.75362</td>\n",
       "      <td>-73.98377</td>\n",
       "      <td>Entire home/apt</td>\n",
       "      <td>225</td>\n",
       "      <td>1</td>\n",
       "      <td>45</td>\n",
       "      <td>2019-05-21</td>\n",
       "      <td>0.380000</td>\n",
       "      <td>2</td>\n",
       "      <td>355</td>\n",
       "      <td>1.0</td>\n",
       "      <td>0.0</td>\n",
       "      <td>0.0</td>\n",
       "    </tr>\n",
       "    <tr>\n",
       "      <th>2</th>\n",
       "      <td>Manhattan</td>\n",
       "      <td>Harlem</td>\n",
       "      <td>40.80902</td>\n",
       "      <td>-73.94190</td>\n",
       "      <td>Private room</td>\n",
       "      <td>150</td>\n",
       "      <td>3</td>\n",
       "      <td>0</td>\n",
       "      <td>2019-06-23</td>\n",
       "      <td>1.371751</td>\n",
       "      <td>1</td>\n",
       "      <td>365</td>\n",
       "      <td>0.0</td>\n",
       "      <td>1.0</td>\n",
       "      <td>0.0</td>\n",
       "    </tr>\n",
       "    <tr>\n",
       "      <th>3</th>\n",
       "      <td>Brooklyn</td>\n",
       "      <td>Clinton Hill</td>\n",
       "      <td>40.68514</td>\n",
       "      <td>-73.95976</td>\n",
       "      <td>Entire home/apt</td>\n",
       "      <td>89</td>\n",
       "      <td>1</td>\n",
       "      <td>270</td>\n",
       "      <td>2019-07-05</td>\n",
       "      <td>4.640000</td>\n",
       "      <td>1</td>\n",
       "      <td>194</td>\n",
       "      <td>1.0</td>\n",
       "      <td>0.0</td>\n",
       "      <td>0.0</td>\n",
       "    </tr>\n",
       "    <tr>\n",
       "      <th>4</th>\n",
       "      <td>Manhattan</td>\n",
       "      <td>East Harlem</td>\n",
       "      <td>40.79851</td>\n",
       "      <td>-73.94399</td>\n",
       "      <td>Entire home/apt</td>\n",
       "      <td>80</td>\n",
       "      <td>10</td>\n",
       "      <td>9</td>\n",
       "      <td>2018-11-19</td>\n",
       "      <td>0.100000</td>\n",
       "      <td>1</td>\n",
       "      <td>0</td>\n",
       "      <td>1.0</td>\n",
       "      <td>0.0</td>\n",
       "      <td>0.0</td>\n",
       "    </tr>\n",
       "    <tr>\n",
       "      <th>...</th>\n",
       "      <td>...</td>\n",
       "      <td>...</td>\n",
       "      <td>...</td>\n",
       "      <td>...</td>\n",
       "      <td>...</td>\n",
       "      <td>...</td>\n",
       "      <td>...</td>\n",
       "      <td>...</td>\n",
       "      <td>...</td>\n",
       "      <td>...</td>\n",
       "      <td>...</td>\n",
       "      <td>...</td>\n",
       "      <td>...</td>\n",
       "      <td>...</td>\n",
       "      <td>...</td>\n",
       "    </tr>\n",
       "    <tr>\n",
       "      <th>38939</th>\n",
       "      <td>Queens</td>\n",
       "      <td>Jamaica</td>\n",
       "      <td>40.69137</td>\n",
       "      <td>-73.80844</td>\n",
       "      <td>Private room</td>\n",
       "      <td>65</td>\n",
       "      <td>1</td>\n",
       "      <td>0</td>\n",
       "      <td>2019-06-23</td>\n",
       "      <td>1.371751</td>\n",
       "      <td>2</td>\n",
       "      <td>163</td>\n",
       "      <td>0.0</td>\n",
       "      <td>1.0</td>\n",
       "      <td>0.0</td>\n",
       "    </tr>\n",
       "    <tr>\n",
       "      <th>38940</th>\n",
       "      <td>Brooklyn</td>\n",
       "      <td>Bedford-Stuyvesant</td>\n",
       "      <td>40.67853</td>\n",
       "      <td>-73.94995</td>\n",
       "      <td>Private room</td>\n",
       "      <td>70</td>\n",
       "      <td>2</td>\n",
       "      <td>0</td>\n",
       "      <td>2019-06-23</td>\n",
       "      <td>1.371751</td>\n",
       "      <td>2</td>\n",
       "      <td>9</td>\n",
       "      <td>0.0</td>\n",
       "      <td>1.0</td>\n",
       "      <td>0.0</td>\n",
       "    </tr>\n",
       "    <tr>\n",
       "      <th>38941</th>\n",
       "      <td>Manhattan</td>\n",
       "      <td>Harlem</td>\n",
       "      <td>40.81475</td>\n",
       "      <td>-73.94867</td>\n",
       "      <td>Entire home/apt</td>\n",
       "      <td>115</td>\n",
       "      <td>10</td>\n",
       "      <td>0</td>\n",
       "      <td>2019-06-23</td>\n",
       "      <td>1.371751</td>\n",
       "      <td>1</td>\n",
       "      <td>27</td>\n",
       "      <td>1.0</td>\n",
       "      <td>0.0</td>\n",
       "      <td>0.0</td>\n",
       "    </tr>\n",
       "    <tr>\n",
       "      <th>38942</th>\n",
       "      <td>Manhattan</td>\n",
       "      <td>Hell's Kitchen</td>\n",
       "      <td>40.75751</td>\n",
       "      <td>-73.99112</td>\n",
       "      <td>Shared room</td>\n",
       "      <td>55</td>\n",
       "      <td>1</td>\n",
       "      <td>0</td>\n",
       "      <td>2019-06-23</td>\n",
       "      <td>1.371751</td>\n",
       "      <td>6</td>\n",
       "      <td>2</td>\n",
       "      <td>0.0</td>\n",
       "      <td>0.0</td>\n",
       "      <td>1.0</td>\n",
       "    </tr>\n",
       "    <tr>\n",
       "      <th>38943</th>\n",
       "      <td>Manhattan</td>\n",
       "      <td>Hell's Kitchen</td>\n",
       "      <td>40.76404</td>\n",
       "      <td>-73.98933</td>\n",
       "      <td>Private room</td>\n",
       "      <td>90</td>\n",
       "      <td>7</td>\n",
       "      <td>0</td>\n",
       "      <td>2019-06-23</td>\n",
       "      <td>1.371751</td>\n",
       "      <td>1</td>\n",
       "      <td>23</td>\n",
       "      <td>0.0</td>\n",
       "      <td>1.0</td>\n",
       "      <td>0.0</td>\n",
       "    </tr>\n",
       "  </tbody>\n",
       "</table>\n",
       "<p>38944 rows × 15 columns</p>\n",
       "</div>"
      ],
      "text/plain": [
       "      neighbourhood_group       neighbourhood  latitude  longitude  \\\n",
       "0                Brooklyn          Kensington  40.64749  -73.97237   \n",
       "1               Manhattan             Midtown  40.75362  -73.98377   \n",
       "2               Manhattan              Harlem  40.80902  -73.94190   \n",
       "3                Brooklyn        Clinton Hill  40.68514  -73.95976   \n",
       "4               Manhattan         East Harlem  40.79851  -73.94399   \n",
       "...                   ...                 ...       ...        ...   \n",
       "38939              Queens             Jamaica  40.69137  -73.80844   \n",
       "38940            Brooklyn  Bedford-Stuyvesant  40.67853  -73.94995   \n",
       "38941           Manhattan              Harlem  40.81475  -73.94867   \n",
       "38942           Manhattan      Hell's Kitchen  40.75751  -73.99112   \n",
       "38943           Manhattan      Hell's Kitchen  40.76404  -73.98933   \n",
       "\n",
       "             room_type  price  minimum_nights  number_of_reviews last_review  \\\n",
       "0         Private room    149               1                  9  2018-10-19   \n",
       "1      Entire home/apt    225               1                 45  2019-05-21   \n",
       "2         Private room    150               3                  0  2019-06-23   \n",
       "3      Entire home/apt     89               1                270  2019-07-05   \n",
       "4      Entire home/apt     80              10                  9  2018-11-19   \n",
       "...                ...    ...             ...                ...         ...   \n",
       "38939     Private room     65               1                  0  2019-06-23   \n",
       "38940     Private room     70               2                  0  2019-06-23   \n",
       "38941  Entire home/apt    115              10                  0  2019-06-23   \n",
       "38942      Shared room     55               1                  0  2019-06-23   \n",
       "38943     Private room     90               7                  0  2019-06-23   \n",
       "\n",
       "       reviews_per_month  calculated_host_listings_count  availability_365  \\\n",
       "0               0.210000                               6               365   \n",
       "1               0.380000                               2               355   \n",
       "2               1.371751                               1               365   \n",
       "3               4.640000                               1               194   \n",
       "4               0.100000                               1                 0   \n",
       "...                  ...                             ...               ...   \n",
       "38939           1.371751                               2               163   \n",
       "38940           1.371751                               2                 9   \n",
       "38941           1.371751                               1                27   \n",
       "38942           1.371751                               6                 2   \n",
       "38943           1.371751                               1                23   \n",
       "\n",
       "       ohe_apt  ohe_private  ohe_shared  \n",
       "0          0.0          1.0         0.0  \n",
       "1          1.0          0.0         0.0  \n",
       "2          0.0          1.0         0.0  \n",
       "3          1.0          0.0         0.0  \n",
       "4          1.0          0.0         0.0  \n",
       "...        ...          ...         ...  \n",
       "38939      0.0          1.0         0.0  \n",
       "38940      0.0          1.0         0.0  \n",
       "38941      1.0          0.0         0.0  \n",
       "38942      0.0          0.0         1.0  \n",
       "38943      0.0          1.0         0.0  \n",
       "\n",
       "[38944 rows x 15 columns]"
      ]
     },
     "execution_count": 31,
     "metadata": {},
     "output_type": "execute_result"
    }
   ],
   "source": [
    "df = df.reset_index()\n",
    "del df['index']\n",
    "\n",
    "extended_df = pd.concat([df, room_type_df], axis=1)\n",
    "extended_df"
   ]
  },
  {
   "cell_type": "markdown",
   "metadata": {},
   "source": [
    "### Random Forest Classification #2\n",
    "A new Random Forest Classification will be created based on the newly encoded values."
   ]
  },
  {
   "cell_type": "code",
   "execution_count": 32,
   "metadata": {},
   "outputs": [
    {
     "name": "stdout",
     "output_type": "stream",
     "text": [
      "               precision    recall  f1-score   support\n",
      "\n",
      "        Bronx       0.00      0.00      0.00       145\n",
      "     Brooklyn       0.44      0.48      0.46      3235\n",
      "    Manhattan       0.49      0.60      0.54      3484\n",
      "       Queens       0.00      0.00      0.00       867\n",
      "Staten Island       0.00      0.00      0.00        58\n",
      "\n",
      "     accuracy                           0.47      7789\n",
      "    macro avg       0.19      0.22      0.20      7789\n",
      " weighted avg       0.40      0.47      0.43      7789\n",
      "\n",
      "Feature importances:\n",
      "\tohe_apt: 0.30\n",
      "\tohe_private: 0.48\n",
      "\tohe_shared: 0.23\n"
     ]
    },
    {
     "name": "stderr",
     "output_type": "stream",
     "text": [
      "/opt/anaconda3/lib/python3.8/site-packages/sklearn/metrics/_classification.py:1221: UndefinedMetricWarning: Precision and F-score are ill-defined and being set to 0.0 in labels with no predicted samples. Use `zero_division` parameter to control this behavior.\n",
      "  _warn_prf(average, modifier, msg_start, len(result))\n"
     ]
    },
    {
     "data": {
      "text/plain": [
       "(RandomForestClassifier(random_state=RandomState(MT19937) at 0x7FEB95DBEC40),\n",
       " array(['Manhattan', 'Brooklyn', 'Manhattan', ..., 'Manhattan',\n",
       "        'Manhattan', 'Manhattan'], dtype=object),\n",
       " 24713     Brooklyn\n",
       " 2749     Manhattan\n",
       " 37649    Manhattan\n",
       " 33805     Brooklyn\n",
       " 38626     Brooklyn\n",
       "            ...    \n",
       " 32306     Brooklyn\n",
       " 27735     Brooklyn\n",
       " 11980    Manhattan\n",
       " 3760     Manhattan\n",
       " 6384     Manhattan\n",
       " Name: neighbourhood_group, Length: 7789, dtype: object)"
      ]
     },
     "execution_count": 32,
     "metadata": {},
     "output_type": "execute_result"
    }
   ],
   "source": [
    "random_forest_classification(extended_df, [\"ohe_apt\", \"ohe_private\", \"ohe_shared\"])"
   ]
  },
  {
   "cell_type": "markdown",
   "metadata": {},
   "source": [
    "### New results\n",
    "It can be seen from the test_report, that using these new values did not improve the model’s score. In fact, these values created a model with worse overall scores. Besides a weighted average score on precision at 0.40, recall at 0.47 and F1 at 0.43, we see that the only boroughs that impacted the model were Brooklyn and Manhattan. In comparison, the model before took every boroughs into account besides Staten Island."
   ]
  },
  {
   "cell_type": "markdown",
   "metadata": {},
   "source": [
    "# Discussion\n",
    "#### Ethics\n",
    "First off, with data surrounding the names and identities of people, it might have some ethical implications attached. As was mentioned in the cleaning, these data were removed, since they would not be used to further elaborate the analysis and to keep some anonymity. Even though the names and ids are already baked into the data set, the removable of them set an example of ethical use of data. Because of this, the “name” of the place has also been removed, since that could also be used to figure out the identity of the person renting out the place. A leak of this data would be troublesome, since the exact coordination, showed by “longitude” and “latitude”, of the homes they live in also are a part of the data set. Furthermore, there is a record on how often the home is “available” or in other words, when the owner is not a home, and it is occupied by other residents. People renting out a place for a week in New York might not be at the place most times of the day, since they could be on a vacation. Because of this, one should be mindful of how the data set is being treated and shared. \n",
    "\n",
    "#### Another usage of the data set\n",
    "If the names of the apartment were not removed due to the explanations above, these could have been used, in relation to reviews, to see if there were a correlation between a popular place and its name. The popularity could have been calculated by looking at the average number of reviews per month, the total number of review and when the last review was placed. Then a model could be built to see if there were a correlation to the most used words in the names of the places. For example, “Clean & quiet apt home by the park” was the first listing, here it could be interesting to see if it made the place more popular based on having words such as “clean” and “by the park” in the title, when looking at places in the same price range and in the same neighborhood. This analysis could have been interesting to look at, if there were given more time."
   ]
  },
  {
   "cell_type": "markdown",
   "metadata": {},
   "source": [
    "# Conclusion"
   ]
  },
  {
   "cell_type": "markdown",
   "metadata": {},
   "source": [
    "The hypothesis: *The borough, an apartment is placed within, can be predicted based on its price, availability and reviews* were to some extend seen to be true. By seeing that a Random Forest Model with the inputs of price, availability and reviews were able to predict with more accuracy than random chance, it can be said that the model was successful. However, the F1 score of 0.48 was not the desired result, as I had hoped for a greater result. My initial expectation was that there would have been a greater correlation between the price, availability and reviews to predict the boroughs, since differ somewhat in popularity.\n",
    "\n",
    "A greater result was tried to be achieved by changing the input values for the model but using the room_types to predict the boroughs did not improve the results.\n",
    "\n",
    "If one wanted to improve these results, it might be a good idea to think more about the unevenness of the data set and perhaps look into oversampling the data, so it will fit better to a machine learning model."
   ]
  },
  {
   "cell_type": "markdown",
   "metadata": {},
   "source": [
    "## References\n",
    "Advani, V. (2020, September 11). 34 Open-Source Python Libraries You Should Know About. GreatLearning Blog: Free Resources what Matters to shape your Career! https://www.mygreatlearning.com/blog/open-source-python-libraries/. (Accessed 25th of May 2020)\n",
    "\n",
    "Kreiger, J. R. (2020, January 27). Evaluating a Random Forest model. Medium. https://medium.com/analytics-vidhya/evaluating-a-random-forest-model-9d165595ad56. (Accessed 25th of May 2020)\n",
    "\n",
    "McKinney, W. (2012). Python for Data Analysis: Data Wrangling with Pandas, NumPy, and IPython, O'Reilly Media Inc. ProQuest Ebook Central\n",
    "\n",
    "Singh, D. (2019, October 22). Deepika Singh. Pluralsight. https://www.pluralsight.com/guides/cleaning-up-data-from-outliers. (Accessed 25th of May 2020)\n",
    "\n",
    "sklearn.metrics.f1_score. scikit. (n.d.). https://scikit-learn.org/stable/modules/generated/sklearn.metrics.f1_score.html (Accessed 25th of May 2020)\n",
    "\n",
    "VanderPlas (2016). Python Data Science Handbook. O'Reilly Media, Inc. Available from (https://jakevdp.github.io/PythonDataScienceHandbook/)\n",
    "\n",
    "Yiu, T. (2019, August 14). Understanding Random Forest. from https://towardsdatascience.com/understanding-random-forest-58381e0602d2 (Accessed 25th of May 2020)"
   ]
  }
 ],
 "metadata": {
  "kernelspec": {
   "display_name": "Python 3",
   "language": "python",
   "name": "python3"
  },
  "language_info": {
   "codemirror_mode": {
    "name": "ipython",
    "version": 3
   },
   "file_extension": ".py",
   "mimetype": "text/x-python",
   "name": "python",
   "nbconvert_exporter": "python",
   "pygments_lexer": "ipython3",
   "version": "3.8.3"
  }
 },
 "nbformat": 4,
 "nbformat_minor": 2
}
