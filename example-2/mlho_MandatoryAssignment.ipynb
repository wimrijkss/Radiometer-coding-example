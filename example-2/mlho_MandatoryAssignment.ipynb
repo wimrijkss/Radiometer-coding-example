{
 "cells": [
  {
   "cell_type": "markdown",
   "id": "1a28faa0",
   "metadata": {},
   "source": [
    "## Maria Louise Hougesen - mlho@itu.dk\n",
    "### Mandatory assignment - 27/10-2022"
   ]
  },
  {
   "cell_type": "code",
   "execution_count": 1,
   "id": "45894c2c",
   "metadata": {},
   "outputs": [],
   "source": [
    "#importing the necessary libraries needed for my further work\n",
    "import pandas as pd\n",
    "import matplotlib.pyplot as plt\n",
    "import numpy as np\n",
    "from collections import Counter\n",
    "import random"
   ]
  },
  {
   "cell_type": "code",
   "execution_count": 2,
   "id": "3ab8d391",
   "metadata": {},
   "outputs": [],
   "source": [
    "#loading and displaying the data in a pandas DataFrame\n",
    "df = pd.read_csv('Data miners 2022 (answers).csv', delimiter=',')"
   ]
  },
  {
   "cell_type": "code",
   "execution_count": 3,
   "id": "0ba26252",
   "metadata": {
    "scrolled": false
   },
   "outputs": [
    {
     "name": "stdout",
     "output_type": "stream",
     "text": [
      "Rows: 53\n",
      "Columns: 12\n"
     ]
    },
    {
     "data": {
      "text/html": [
       "<div>\n",
       "<style scoped>\n",
       "    .dataframe tbody tr th:only-of-type {\n",
       "        vertical-align: middle;\n",
       "    }\n",
       "\n",
       "    .dataframe tbody tr th {\n",
       "        vertical-align: top;\n",
       "    }\n",
       "\n",
       "    .dataframe thead th {\n",
       "        text-align: right;\n",
       "    }\n",
       "</style>\n",
       "<table border=\"1\" class=\"dataframe\">\n",
       "  <thead>\n",
       "    <tr style=\"text-align: right;\">\n",
       "      <th></th>\n",
       "      <th>Tidsstempel</th>\n",
       "      <th>What are you hoping to get out of the data mining course?</th>\n",
       "      <th>What topic are you most interested in the data mining course?</th>\n",
       "      <th>Which programme are you studying?</th>\n",
       "      <th>Why are you taking this course?</th>\n",
       "      <th>What was your first programming language?</th>\n",
       "      <th>How long time have you been programming?</th>\n",
       "      <th>How are your Python skills?</th>\n",
       "      <th>Which of the following mathematical formulas do you find understandable?\\n(meaning that you are familiar with the notation used and can infer what is meant by the formula)</th>\n",
       "      <th>Your mean shoe size (In European Continental system)</th>\n",
       "      <th>Your height (in International inches)\\nAlready, an awkward data storage format. It's good to be fluent in multiple systems!</th>\n",
       "      <th>How would you describe your gender?</th>\n",
       "    </tr>\n",
       "  </thead>\n",
       "  <tbody>\n",
       "    <tr>\n",
       "      <th>0</th>\n",
       "      <td>29/08/2022 08.38.05</td>\n",
       "      <td>To learn how to independently, or with groups,...</td>\n",
       "      <td>Classification</td>\n",
       "      <td>MSc Digitial Innovation and Management, ITU</td>\n",
       "      <td>It is the most exciting</td>\n",
       "      <td>Python</td>\n",
       "      <td>6 months</td>\n",
       "      <td>I have tried to write simple scripts in Python</td>\n",
       "      <td>Valgmulighed 1</td>\n",
       "      <td>47.0</td>\n",
       "      <td>6.20</td>\n",
       "      <td>Male</td>\n",
       "    </tr>\n",
       "    <tr>\n",
       "      <th>1</th>\n",
       "      <td>29/08/2022 08.38.43</td>\n",
       "      <td>Bedre forståelse for områder at arbejde med data</td>\n",
       "      <td>Regression</td>\n",
       "      <td>MSc Software Design, ITU</td>\n",
       "      <td>This was mandatory for me</td>\n",
       "      <td>Java</td>\n",
       "      <td>1 år</td>\n",
       "      <td>I have heard about it and have an idea about w...</td>\n",
       "      <td>Valgmulighed 1</td>\n",
       "      <td>39.0</td>\n",
       "      <td>167.00</td>\n",
       "      <td>Female</td>\n",
       "    </tr>\n",
       "    <tr>\n",
       "      <th>2</th>\n",
       "      <td>29/08/2022 08.38.53</td>\n",
       "      <td>Be able to apply the techniques in a professio...</td>\n",
       "      <td>Classification</td>\n",
       "      <td>MSc Software Design, ITU</td>\n",
       "      <td>It is the most exciting, It'll give me busines...</td>\n",
       "      <td>Java</td>\n",
       "      <td>1 Year</td>\n",
       "      <td>I have tried to write simple scripts in Python</td>\n",
       "      <td>Valgmulighed 1, Valgmulighed 5</td>\n",
       "      <td>42.0</td>\n",
       "      <td>68.00</td>\n",
       "      <td>Male</td>\n",
       "    </tr>\n",
       "    <tr>\n",
       "      <th>3</th>\n",
       "      <td>29/08/2022 08.38.56</td>\n",
       "      <td>Tools to work with real-life data</td>\n",
       "      <td>Regression</td>\n",
       "      <td>MSc Software Design, ITU</td>\n",
       "      <td>It is the most exciting, This was mandatory fo...</td>\n",
       "      <td>Stata/R</td>\n",
       "      <td>5  years</td>\n",
       "      <td>I am quite capable of programming in Python</td>\n",
       "      <td>Valgmulighed 1, Valgmulighed 2, Valgmulighed 3...</td>\n",
       "      <td>38.0</td>\n",
       "      <td>66.50</td>\n",
       "      <td>Female</td>\n",
       "    </tr>\n",
       "    <tr>\n",
       "      <th>4</th>\n",
       "      <td>29/08/2022 08.39.09</td>\n",
       "      <td>To get a thorough understanding of how to crea...</td>\n",
       "      <td>Classification</td>\n",
       "      <td>MSc Digitial Innovation and Management, ITU</td>\n",
       "      <td>It is the most exciting, It'll give me busines...</td>\n",
       "      <td>Python</td>\n",
       "      <td>5-ish years</td>\n",
       "      <td>I have tried to write simple scripts in Python</td>\n",
       "      <td>Valgmulighed 1, Valgmulighed 2</td>\n",
       "      <td>40.0</td>\n",
       "      <td>65.74</td>\n",
       "      <td>Female</td>\n",
       "    </tr>\n",
       "  </tbody>\n",
       "</table>\n",
       "</div>"
      ],
      "text/plain": [
       "           Tidsstempel  \\\n",
       "0  29/08/2022 08.38.05   \n",
       "1  29/08/2022 08.38.43   \n",
       "2  29/08/2022 08.38.53   \n",
       "3  29/08/2022 08.38.56   \n",
       "4  29/08/2022 08.39.09   \n",
       "\n",
       "  What are you hoping to get out of the data mining course?  \\\n",
       "0  To learn how to independently, or with groups,...          \n",
       "1   Bedre forståelse for områder at arbejde med data          \n",
       "2  Be able to apply the techniques in a professio...          \n",
       "3                  Tools to work with real-life data          \n",
       "4  To get a thorough understanding of how to crea...          \n",
       "\n",
       "  What topic are you most interested in the data mining course?  \\\n",
       "0                                     Classification              \n",
       "1                                         Regression              \n",
       "2                                     Classification              \n",
       "3                                         Regression              \n",
       "4                                     Classification              \n",
       "\n",
       "            Which programme are you studying?   \\\n",
       "0  MSc Digitial Innovation and Management, ITU   \n",
       "1                     MSc Software Design, ITU   \n",
       "2                     MSc Software Design, ITU   \n",
       "3                     MSc Software Design, ITU   \n",
       "4  MSc Digitial Innovation and Management, ITU   \n",
       "\n",
       "                    Why are you taking this course?   \\\n",
       "0                            It is the most exciting   \n",
       "1                          This was mandatory for me   \n",
       "2  It is the most exciting, It'll give me busines...   \n",
       "3  It is the most exciting, This was mandatory fo...   \n",
       "4  It is the most exciting, It'll give me busines...   \n",
       "\n",
       "  What was your first programming language?  \\\n",
       "0                                    Python   \n",
       "1                                      Java   \n",
       "2                                      Java   \n",
       "3                                   Stata/R   \n",
       "4                                    Python   \n",
       "\n",
       "  How long time have you been programming?  \\\n",
       "0                                 6 months   \n",
       "1                                     1 år   \n",
       "2                                   1 Year   \n",
       "3                                 5  years   \n",
       "4                              5-ish years   \n",
       "\n",
       "                         How are your Python skills?  \\\n",
       "0     I have tried to write simple scripts in Python   \n",
       "1  I have heard about it and have an idea about w...   \n",
       "2     I have tried to write simple scripts in Python   \n",
       "3        I am quite capable of programming in Python   \n",
       "4     I have tried to write simple scripts in Python   \n",
       "\n",
       "  Which of the following mathematical formulas do you find understandable?\\n(meaning that you are familiar with the notation used and can infer what is meant by the formula)  \\\n",
       "0                                     Valgmulighed 1                                                                                                                            \n",
       "1                                     Valgmulighed 1                                                                                                                            \n",
       "2                     Valgmulighed 1, Valgmulighed 5                                                                                                                            \n",
       "3  Valgmulighed 1, Valgmulighed 2, Valgmulighed 3...                                                                                                                            \n",
       "4                     Valgmulighed 1, Valgmulighed 2                                                                                                                            \n",
       "\n",
       "   Your mean shoe size (In European Continental system)  \\\n",
       "0                                               47.0      \n",
       "1                                               39.0      \n",
       "2                                               42.0      \n",
       "3                                               38.0      \n",
       "4                                               40.0      \n",
       "\n",
       "   Your height (in International inches)\\nAlready, an awkward data storage format. It's good to be fluent in multiple systems!  \\\n",
       "0                                               6.20                                                                             \n",
       "1                                             167.00                                                                             \n",
       "2                                              68.00                                                                             \n",
       "3                                              66.50                                                                             \n",
       "4                                              65.74                                                                             \n",
       "\n",
       "  How would you describe your gender?  \n",
       "0                                Male  \n",
       "1                              Female  \n",
       "2                                Male  \n",
       "3                              Female  \n",
       "4                              Female  "
      ]
     },
     "execution_count": 3,
     "metadata": {},
     "output_type": "execute_result"
    }
   ],
   "source": [
    "print(f'Rows: {len(df)}')\n",
    "print(f'Columns: {len(df.columns)}')\n",
    "df.head()"
   ]
  },
  {
   "cell_type": "markdown",
   "id": "a88e643c",
   "metadata": {},
   "source": [
    "### Cleaning for kmeans"
   ]
  },
  {
   "cell_type": "code",
   "execution_count": 4,
   "id": "65957f1e",
   "metadata": {},
   "outputs": [],
   "source": [
    "#changing all column headers for better readability \n",
    "df.columns = ['tidsstempel', 'hoping_to_gain', 'interesting_topic', 'program', 'why_this_course', 'first_language', 'programming_years', 'python_skills', 'math_formulas', 'shoe_size_eu', 'height_in', 'gender']"
   ]
  },
  {
   "cell_type": "code",
   "execution_count": 5,
   "id": "37878986",
   "metadata": {},
   "outputs": [
    {
     "name": "stdout",
     "output_type": "stream",
     "text": [
      "<class 'pandas.core.frame.DataFrame'>\n",
      "RangeIndex: 53 entries, 0 to 52\n",
      "Data columns (total 12 columns):\n",
      " #   Column             Non-Null Count  Dtype  \n",
      "---  ------             --------------  -----  \n",
      " 0   tidsstempel        53 non-null     object \n",
      " 1   hoping_to_gain     49 non-null     object \n",
      " 2   interesting_topic  53 non-null     object \n",
      " 3   program            53 non-null     object \n",
      " 4   why_this_course    53 non-null     object \n",
      " 5   first_language     53 non-null     object \n",
      " 6   programming_years  53 non-null     object \n",
      " 7   python_skills      53 non-null     object \n",
      " 8   math_formulas      53 non-null     object \n",
      " 9   shoe_size_eu       53 non-null     float64\n",
      " 10  height_in          53 non-null     float64\n",
      " 11  gender             53 non-null     object \n",
      "dtypes: float64(2), object(10)\n",
      "memory usage: 5.1+ KB\n"
     ]
    }
   ],
   "source": [
    "#getting an overview of the columns\n",
    "df.info()"
   ]
  },
  {
   "cell_type": "markdown",
   "id": "0197aa51",
   "metadata": {},
   "source": [
    "We see here that there is only missing values in the hoping_to_gain column. At this point in time I will not employ this column for any further analysis, so for now I will leave it be. \n",
    "\n",
    "So I will start my cleaning by looking at the two columns which are populated by floats as I will be employing these for my kmeans. For this section I will fix the shoe_size_eu column so that it is unison. First things first I will look for outliers"
   ]
  },
  {
   "cell_type": "code",
   "execution_count": 6,
   "id": "4d7a59ad",
   "metadata": {},
   "outputs": [
    {
     "data": {
      "text/plain": [
       "<AxesSubplot:>"
      ]
     },
     "execution_count": 6,
     "metadata": {},
     "output_type": "execute_result"
    },
    {
     "data": {
      "image/png": "[encoded data removed]",
      "text/plain": [
       "<Figure size 432x288 with 1 Axes>"
      ]
     },
     "metadata": {
      "needs_background": "light"
     },
     "output_type": "display_data"
    }
   ],
   "source": [
    "df.boxplot(column='shoe_size_eu') #starting off visually so gage at outliers."
   ]
  },
  {
   "cell_type": "code",
   "execution_count": 7,
   "id": "8cfff19c",
   "metadata": {},
   "outputs": [
    {
     "data": {
      "text/plain": [
       "count    53.000000\n",
       "mean     40.207547\n",
       "std       6.192764\n",
       "min       1.000000\n",
       "25%      38.000000\n",
       "50%      41.000000\n",
       "75%      43.000000\n",
       "max      47.000000\n",
       "Name: shoe_size_eu, dtype: float64"
      ]
     },
     "execution_count": 7,
     "metadata": {},
     "output_type": "execute_result"
    }
   ],
   "source": [
    "df['shoe_size_eu'].describe()"
   ]
  },
  {
   "cell_type": "markdown",
   "id": "265d5593",
   "metadata": {},
   "source": [
    "Here I can see that the min is 1, which in this instance, seeing that I am looking at shoesize, is quite unlikely. As I can now label this as a error outlier, I will fill it with the median, as seen above in the boxplot, seeing as this data set is already rather small, and I would like to keep as many datapoints as possible."
   ]
  },
  {
   "cell_type": "code",
   "execution_count": 8,
   "id": "208ba299",
   "metadata": {},
   "outputs": [],
   "source": [
    "df['shoe_size_eu'] = df['shoe_size_eu'].replace(1, df['shoe_size_eu'].median())"
   ]
  },
  {
   "cell_type": "code",
   "execution_count": 9,
   "id": "6041d155",
   "metadata": {},
   "outputs": [
    {
     "data": {
      "text/plain": [
       "array([47. , 39. , 42. , 38. , 40. , 42. , 44. , 43. , 42. , 40. , 41. ,\n",
       "       37. , 43. , 42. , 39. , 37. , 40. , 42. , 38. , 45. , 38.5, 38. ,\n",
       "       45. , 39. , 43. , 46. , 38. , 39. , 39. , 41. , 38. , 37. , 38. ,\n",
       "       45. , 42. , 39. , 43. , 45. , 42. , 36. , 37. , 42.5, 38. , 44. ,\n",
       "       36. , 42. , 39. , 44. , 42. , 44. , 44. , 41. , 45. ])"
      ]
     },
     "execution_count": 9,
     "metadata": {},
     "output_type": "execute_result"
    }
   ],
   "source": [
    "df['shoe_size_eu'].values #checking to see if its gone - and it is"
   ]
  },
  {
   "cell_type": "code",
   "execution_count": 10,
   "id": "e8fc9890",
   "metadata": {},
   "outputs": [
    {
     "data": {
      "text/plain": [
       "<AxesSubplot:>"
      ]
     },
     "execution_count": 10,
     "metadata": {},
     "output_type": "execute_result"
    },
    {
     "data": {
      "image/png": "[encoded data removed]",
      "text/plain": [
       "<Figure size 432x288 with 1 Axes>"
      ]
     },
     "metadata": {
      "needs_background": "light"
     },
     "output_type": "display_data"
    }
   ],
   "source": [
    "df.boxplot(column='shoe_size_eu') #now we have a better distribution of the data"
   ]
  },
  {
   "cell_type": "markdown",
   "id": "988e4818",
   "metadata": {},
   "source": [
    "For this section I will fix the height_in column so that it is unison. First things first I will look for outliers"
   ]
  },
  {
   "cell_type": "code",
   "execution_count": 11,
   "id": "9ec231fe",
   "metadata": {},
   "outputs": [
    {
     "data": {
      "text/plain": [
       "<AxesSubplot:>"
      ]
     },
     "execution_count": 11,
     "metadata": {},
     "output_type": "execute_result"
    },
    {
     "data": {
      "image/png": "[encoded data removed]",
      "text/plain": [
       "<Figure size 432x288 with 1 Axes>"
      ]
     },
     "metadata": {
      "needs_background": "light"
     },
     "output_type": "display_data"
    }
   ],
   "source": [
    "df.boxplot(column='height_in') #starting off visually so gage at outliers, which there clearly are"
   ]
  },
  {
   "cell_type": "code",
   "execution_count": 12,
   "id": "bb7acf09",
   "metadata": {},
   "outputs": [
    {
     "data": {
      "text/plain": [
       "count      53.000000\n",
       "mean      206.893038\n",
       "std       969.351791\n",
       "min         1.000000\n",
       "25%        64.900000\n",
       "50%        69.000000\n",
       "75%        73.000000\n",
       "max      7125.984252\n",
       "Name: height_in, dtype: float64"
      ]
     },
     "execution_count": 12,
     "metadata": {},
     "output_type": "execute_result"
    }
   ],
   "source": [
    "df['height_in'].describe()"
   ]
  },
  {
   "cell_type": "markdown",
   "id": "c48fd13e",
   "metadata": {},
   "source": [
    "Some things appear sus...lets fix...looking at the different values in the dataset"
   ]
  },
  {
   "cell_type": "code",
   "execution_count": 13,
   "id": "69d11a01",
   "metadata": {},
   "outputs": [
    {
     "data": {
      "text/plain": [
       "72.000000      4\n",
       "74.000000      3\n",
       "71.000000      2\n",
       "69.000000      2\n",
       "64.900000      2\n",
       "64.000000      2\n",
       "63.000000      2\n",
       "1.000000       1\n",
       "64.600000      1\n",
       "66.140000      1\n",
       "64.960000      1\n",
       "66.900000      1\n",
       "75.200000      1\n",
       "68.500000      1\n",
       "73.000000      1\n",
       "15.580000      1\n",
       "70.078740      1\n",
       "61.500000      1\n",
       "177.000000     1\n",
       "63.780000      1\n",
       "62.000000      1\n",
       "70.000000      1\n",
       "73.620000      1\n",
       "72.830000      1\n",
       "6.200000       1\n",
       "65.700000      1\n",
       "169.000000     1\n",
       "68.000000      1\n",
       "66.500000      1\n",
       "65.740000      1\n",
       "76.000000      1\n",
       "70.900000      1\n",
       "7125.984252    1\n",
       "70.800000      1\n",
       "6.000000       1\n",
       "68.900000      1\n",
       "65.748031      1\n",
       "172.000000     1\n",
       "170.000000     1\n",
       "70.870000      1\n",
       "64.500000      1\n",
       "167.000000     1\n",
       "75.000000      1\n",
       "Name: height_in, dtype: int64"
      ]
     },
     "execution_count": 13,
     "metadata": {},
     "output_type": "execute_result"
    }
   ],
   "source": [
    "df['height_in'].value_counts()"
   ]
  },
  {
   "cell_type": "markdown",
   "id": "987bbc54",
   "metadata": {},
   "source": [
    "Looking at the original column question, it becomes apparent how there have been different interpretations of the question. Some have written their height in cm, others in feet and inches, and other just in inches. This I need to fix. To fix this, I will convert the different metric types into inches, as the original question demands"
   ]
  },
  {
   "cell_type": "code",
   "execution_count": 14,
   "id": "b3e601f7",
   "metadata": {},
   "outputs": [],
   "source": [
    "#I have found the convertion ratio's through google\n",
    "cm_to_inch_ratio = 0.393700787\n",
    "feet_to_inch_ratio = 12\n",
    "\n",
    "df.loc[df['height_in'] >= 100, 'height_in'] = df['height_in'] * cm_to_inch_ratio\n",
    "df.loc[df['height_in'] <= 10, 'height_in'] = df['height_in'] * feet_to_inch_ratio"
   ]
  },
  {
   "cell_type": "code",
   "execution_count": 15,
   "id": "b39648a3",
   "metadata": {},
   "outputs": [
    {
     "data": {
      "text/plain": [
       "<AxesSubplot:>"
      ]
     },
     "execution_count": 15,
     "metadata": {},
     "output_type": "execute_result"
    },
    {
     "data": {
      "image/png": "[encoded data removed]",
      "text/plain": [
       "<Figure size 432x288 with 1 Axes>"
      ]
     },
     "metadata": {
      "needs_background": "light"
     },
     "output_type": "display_data"
    }
   ],
   "source": [
    "#checking - and seeing that there are still outliers, but this time in the form of error outliers\n",
    "df.boxplot(column='height_in')"
   ]
  },
  {
   "cell_type": "code",
   "execution_count": 16,
   "id": "2bf73b27",
   "metadata": {
    "scrolled": false
   },
   "outputs": [
    {
     "data": {
      "text/html": [
       "<div>\n",
       "<style scoped>\n",
       "    .dataframe tbody tr th:only-of-type {\n",
       "        vertical-align: middle;\n",
       "    }\n",
       "\n",
       "    .dataframe tbody tr th {\n",
       "        vertical-align: top;\n",
       "    }\n",
       "\n",
       "    .dataframe thead th {\n",
       "        text-align: right;\n",
       "    }\n",
       "</style>\n",
       "<table border=\"1\" class=\"dataframe\">\n",
       "  <thead>\n",
       "    <tr style=\"text-align: right;\">\n",
       "      <th></th>\n",
       "      <th>tidsstempel</th>\n",
       "      <th>hoping_to_gain</th>\n",
       "      <th>interesting_topic</th>\n",
       "      <th>program</th>\n",
       "      <th>why_this_course</th>\n",
       "      <th>first_language</th>\n",
       "      <th>programming_years</th>\n",
       "      <th>python_skills</th>\n",
       "      <th>math_formulas</th>\n",
       "      <th>shoe_size_eu</th>\n",
       "      <th>height_in</th>\n",
       "      <th>gender</th>\n",
       "    </tr>\n",
       "  </thead>\n",
       "  <tbody>\n",
       "    <tr>\n",
       "      <th>7</th>\n",
       "      <td>29/08/2022 08.39.23</td>\n",
       "      <td>Hands-on experience with data mining algorithms.</td>\n",
       "      <td>Visualization</td>\n",
       "      <td>MSc elsewhere</td>\n",
       "      <td>It is the most exciting</td>\n",
       "      <td>Java</td>\n",
       "      <td>8 years</td>\n",
       "      <td>I am a Python wizard</td>\n",
       "      <td>Valgmulighed 1, Valgmulighed 2, Valgmulighed 3...</td>\n",
       "      <td>43.0</td>\n",
       "      <td>2805.505608</td>\n",
       "      <td>Male</td>\n",
       "    </tr>\n",
       "  </tbody>\n",
       "</table>\n",
       "</div>"
      ],
      "text/plain": [
       "           tidsstempel                                    hoping_to_gain  \\\n",
       "7  29/08/2022 08.39.23  Hands-on experience with data mining algorithms.   \n",
       "\n",
       "  interesting_topic        program          why_this_course first_language  \\\n",
       "7     Visualization  MSc elsewhere  It is the most exciting           Java   \n",
       "\n",
       "  programming_years         python_skills  \\\n",
       "7           8 years  I am a Python wizard   \n",
       "\n",
       "                                       math_formulas  shoe_size_eu  \\\n",
       "7  Valgmulighed 1, Valgmulighed 2, Valgmulighed 3...          43.0   \n",
       "\n",
       "     height_in gender  \n",
       "7  2805.505608   Male  "
      ]
     },
     "execution_count": 16,
     "metadata": {},
     "output_type": "execute_result"
    }
   ],
   "source": [
    "#I scope the outliers\n",
    "df.loc[df['height_in'] >= 100]"
   ]
  },
  {
   "cell_type": "code",
   "execution_count": 17,
   "id": "9b51e7e5",
   "metadata": {},
   "outputs": [
    {
     "data": {
      "text/html": [
       "<div>\n",
       "<style scoped>\n",
       "    .dataframe tbody tr th:only-of-type {\n",
       "        vertical-align: middle;\n",
       "    }\n",
       "\n",
       "    .dataframe tbody tr th {\n",
       "        vertical-align: top;\n",
       "    }\n",
       "\n",
       "    .dataframe thead th {\n",
       "        text-align: right;\n",
       "    }\n",
       "</style>\n",
       "<table border=\"1\" class=\"dataframe\">\n",
       "  <thead>\n",
       "    <tr style=\"text-align: right;\">\n",
       "      <th></th>\n",
       "      <th>tidsstempel</th>\n",
       "      <th>hoping_to_gain</th>\n",
       "      <th>interesting_topic</th>\n",
       "      <th>program</th>\n",
       "      <th>why_this_course</th>\n",
       "      <th>first_language</th>\n",
       "      <th>programming_years</th>\n",
       "      <th>python_skills</th>\n",
       "      <th>math_formulas</th>\n",
       "      <th>shoe_size_eu</th>\n",
       "      <th>height_in</th>\n",
       "      <th>gender</th>\n",
       "    </tr>\n",
       "  </thead>\n",
       "  <tbody>\n",
       "    <tr>\n",
       "      <th>50</th>\n",
       "      <td>29/08/2022 15.01.41</td>\n",
       "      <td>Proficiency in Python and data oriented librar...</td>\n",
       "      <td>Clustering</td>\n",
       "      <td>MSc Software Design, ITU</td>\n",
       "      <td>It is the most exciting, It'll give me busines...</td>\n",
       "      <td>C</td>\n",
       "      <td>2 years</td>\n",
       "      <td>I have tried to write simple scripts in Python</td>\n",
       "      <td>Valgmulighed 1, Valgmulighed 2, Valgmulighed 3...</td>\n",
       "      <td>44.0</td>\n",
       "      <td>15.58</td>\n",
       "      <td>Male</td>\n",
       "    </tr>\n",
       "    <tr>\n",
       "      <th>51</th>\n",
       "      <td>29/08/2022 15.38.37</td>\n",
       "      <td>I hope to learn the concepts and how the conce...</td>\n",
       "      <td>Data wrangling</td>\n",
       "      <td>Non-Masters</td>\n",
       "      <td>I teach python courses at the university libra...</td>\n",
       "      <td>Python</td>\n",
       "      <td>3-4 years</td>\n",
       "      <td>I am quite capable of programming in Python</td>\n",
       "      <td>Valgmulighed 1</td>\n",
       "      <td>41.0</td>\n",
       "      <td>12.00</td>\n",
       "      <td>Male</td>\n",
       "    </tr>\n",
       "  </tbody>\n",
       "</table>\n",
       "</div>"
      ],
      "text/plain": [
       "            tidsstempel                                     hoping_to_gain  \\\n",
       "50  29/08/2022 15.01.41  Proficiency in Python and data oriented librar...   \n",
       "51  29/08/2022 15.38.37  I hope to learn the concepts and how the conce...   \n",
       "\n",
       "   interesting_topic                   program  \\\n",
       "50        Clustering  MSc Software Design, ITU   \n",
       "51    Data wrangling               Non-Masters   \n",
       "\n",
       "                                      why_this_course first_language  \\\n",
       "50  It is the most exciting, It'll give me busines...              C   \n",
       "51  I teach python courses at the university libra...        Python    \n",
       "\n",
       "   programming_years                                   python_skills  \\\n",
       "50           2 years  I have tried to write simple scripts in Python   \n",
       "51        3-4 years      I am quite capable of programming in Python   \n",
       "\n",
       "                                        math_formulas  shoe_size_eu  \\\n",
       "50  Valgmulighed 1, Valgmulighed 2, Valgmulighed 3...          44.0   \n",
       "51                                     Valgmulighed 1          41.0   \n",
       "\n",
       "    height_in gender  \n",
       "50      15.58   Male  \n",
       "51      12.00   Male  "
      ]
     },
     "execution_count": 17,
     "metadata": {},
     "output_type": "execute_result"
    }
   ],
   "source": [
    "df.loc[df['height_in'] <= 50]"
   ]
  },
  {
   "cell_type": "markdown",
   "id": "722cf441",
   "metadata": {},
   "source": [
    "After fixing the values, there still appears to be some discrepency, which can be attributed to the outliers, which are still outliers even though they have been multiplied with the correct values. There are three who has a height of 2805.505608, 15.580000 and 12.000000, which does not correspond to a normal human height in inches. In this case I will here identify them as error outliers and replace them with the median value, as with the shoe size."
   ]
  },
  {
   "cell_type": "code",
   "execution_count": 18,
   "id": "a0afad1d",
   "metadata": {},
   "outputs": [
    {
     "data": {
      "text/plain": [
       "68.9"
      ]
     },
     "execution_count": 18,
     "metadata": {},
     "output_type": "execute_result"
    }
   ],
   "source": [
    "df['height_in'].median() #check the median"
   ]
  },
  {
   "cell_type": "code",
   "execution_count": 19,
   "id": "a841da4e",
   "metadata": {},
   "outputs": [],
   "source": [
    "#replacing their values after normalizing to inches as I then have a more representative median\n",
    "df['height_in'] = df['height_in'].replace(df['height_in'].max(), df['height_in'].median())\n",
    "df['height_in'] = df['height_in'].replace(15.580000, df['height_in'].median())\n",
    "df['height_in'] = df['height_in'].replace(12.000000, df['height_in'].median())"
   ]
  },
  {
   "cell_type": "code",
   "execution_count": 20,
   "id": "0c99f772",
   "metadata": {},
   "outputs": [
    {
     "data": {
      "text/plain": [
       "<AxesSubplot:>"
      ]
     },
     "execution_count": 20,
     "metadata": {},
     "output_type": "execute_result"
    },
    {
     "data": {
      "image/png": "[encoded data removed]",
      "text/plain": [
       "<Figure size 432x288 with 1 Axes>"
      ]
     },
     "metadata": {
      "needs_background": "light"
     },
     "output_type": "display_data"
    }
   ],
   "source": [
    "#looking visually again\n",
    "df.boxplot(column='height_in')"
   ]
  },
  {
   "cell_type": "markdown",
   "id": "7ec52f7c",
   "metadata": {},
   "source": [
    "Having cleaned the two float columns, I will get an overview of them, in correlation with one another"
   ]
  },
  {
   "cell_type": "code",
   "execution_count": 21,
   "id": "f36b3442",
   "metadata": {},
   "outputs": [
    {
     "data": {
      "image/png": "[encoded data removed]",
      "text/plain": [
       "<Figure size 432x288 with 1 Axes>"
      ]
     },
     "metadata": {
      "needs_background": "light"
     },
     "output_type": "display_data"
    }
   ],
   "source": [
    "plt.title('Scatter plot of the Distribution of data')\n",
    "plt.scatter(df['height_in'],df['shoe_size_eu'])\n",
    "plt.show() "
   ]
  },
  {
   "cell_type": "markdown",
   "id": "55e80aea",
   "metadata": {},
   "source": [
    "After having finished my first cleaning, I am left with a dataframe of the following size"
   ]
  },
  {
   "cell_type": "code",
   "execution_count": 22,
   "id": "ed795453",
   "metadata": {},
   "outputs": [
    {
     "name": "stdout",
     "output_type": "stream",
     "text": [
      "Rows: 53\n",
      "Columns: 12\n"
     ]
    },
    {
     "data": {
      "text/html": [
       "<div>\n",
       "<style scoped>\n",
       "    .dataframe tbody tr th:only-of-type {\n",
       "        vertical-align: middle;\n",
       "    }\n",
       "\n",
       "    .dataframe tbody tr th {\n",
       "        vertical-align: top;\n",
       "    }\n",
       "\n",
       "    .dataframe thead th {\n",
       "        text-align: right;\n",
       "    }\n",
       "</style>\n",
       "<table border=\"1\" class=\"dataframe\">\n",
       "  <thead>\n",
       "    <tr style=\"text-align: right;\">\n",
       "      <th></th>\n",
       "      <th>tidsstempel</th>\n",
       "      <th>hoping_to_gain</th>\n",
       "      <th>interesting_topic</th>\n",
       "      <th>program</th>\n",
       "      <th>why_this_course</th>\n",
       "      <th>first_language</th>\n",
       "      <th>programming_years</th>\n",
       "      <th>python_skills</th>\n",
       "      <th>math_formulas</th>\n",
       "      <th>shoe_size_eu</th>\n",
       "      <th>height_in</th>\n",
       "      <th>gender</th>\n",
       "    </tr>\n",
       "  </thead>\n",
       "  <tbody>\n",
       "    <tr>\n",
       "      <th>0</th>\n",
       "      <td>29/08/2022 08.38.05</td>\n",
       "      <td>To learn how to independently, or with groups,...</td>\n",
       "      <td>Classification</td>\n",
       "      <td>MSc Digitial Innovation and Management, ITU</td>\n",
       "      <td>It is the most exciting</td>\n",
       "      <td>Python</td>\n",
       "      <td>6 months</td>\n",
       "      <td>I have tried to write simple scripts in Python</td>\n",
       "      <td>Valgmulighed 1</td>\n",
       "      <td>47.0</td>\n",
       "      <td>74.400000</td>\n",
       "      <td>Male</td>\n",
       "    </tr>\n",
       "    <tr>\n",
       "      <th>1</th>\n",
       "      <td>29/08/2022 08.38.43</td>\n",
       "      <td>Bedre forståelse for områder at arbejde med data</td>\n",
       "      <td>Regression</td>\n",
       "      <td>MSc Software Design, ITU</td>\n",
       "      <td>This was mandatory for me</td>\n",
       "      <td>Java</td>\n",
       "      <td>1 år</td>\n",
       "      <td>I have heard about it and have an idea about w...</td>\n",
       "      <td>Valgmulighed 1</td>\n",
       "      <td>39.0</td>\n",
       "      <td>65.748031</td>\n",
       "      <td>Female</td>\n",
       "    </tr>\n",
       "    <tr>\n",
       "      <th>2</th>\n",
       "      <td>29/08/2022 08.38.53</td>\n",
       "      <td>Be able to apply the techniques in a professio...</td>\n",
       "      <td>Classification</td>\n",
       "      <td>MSc Software Design, ITU</td>\n",
       "      <td>It is the most exciting, It'll give me busines...</td>\n",
       "      <td>Java</td>\n",
       "      <td>1 Year</td>\n",
       "      <td>I have tried to write simple scripts in Python</td>\n",
       "      <td>Valgmulighed 1, Valgmulighed 5</td>\n",
       "      <td>42.0</td>\n",
       "      <td>68.000000</td>\n",
       "      <td>Male</td>\n",
       "    </tr>\n",
       "    <tr>\n",
       "      <th>3</th>\n",
       "      <td>29/08/2022 08.38.56</td>\n",
       "      <td>Tools to work with real-life data</td>\n",
       "      <td>Regression</td>\n",
       "      <td>MSc Software Design, ITU</td>\n",
       "      <td>It is the most exciting, This was mandatory fo...</td>\n",
       "      <td>Stata/R</td>\n",
       "      <td>5  years</td>\n",
       "      <td>I am quite capable of programming in Python</td>\n",
       "      <td>Valgmulighed 1, Valgmulighed 2, Valgmulighed 3...</td>\n",
       "      <td>38.0</td>\n",
       "      <td>66.500000</td>\n",
       "      <td>Female</td>\n",
       "    </tr>\n",
       "    <tr>\n",
       "      <th>4</th>\n",
       "      <td>29/08/2022 08.39.09</td>\n",
       "      <td>To get a thorough understanding of how to crea...</td>\n",
       "      <td>Classification</td>\n",
       "      <td>MSc Digitial Innovation and Management, ITU</td>\n",
       "      <td>It is the most exciting, It'll give me busines...</td>\n",
       "      <td>Python</td>\n",
       "      <td>5-ish years</td>\n",
       "      <td>I have tried to write simple scripts in Python</td>\n",
       "      <td>Valgmulighed 1, Valgmulighed 2</td>\n",
       "      <td>40.0</td>\n",
       "      <td>65.740000</td>\n",
       "      <td>Female</td>\n",
       "    </tr>\n",
       "  </tbody>\n",
       "</table>\n",
       "</div>"
      ],
      "text/plain": [
       "           tidsstempel                                     hoping_to_gain  \\\n",
       "0  29/08/2022 08.38.05  To learn how to independently, or with groups,...   \n",
       "1  29/08/2022 08.38.43   Bedre forståelse for områder at arbejde med data   \n",
       "2  29/08/2022 08.38.53  Be able to apply the techniques in a professio...   \n",
       "3  29/08/2022 08.38.56                  Tools to work with real-life data   \n",
       "4  29/08/2022 08.39.09  To get a thorough understanding of how to crea...   \n",
       "\n",
       "  interesting_topic                                      program  \\\n",
       "0    Classification  MSc Digitial Innovation and Management, ITU   \n",
       "1        Regression                     MSc Software Design, ITU   \n",
       "2    Classification                     MSc Software Design, ITU   \n",
       "3        Regression                     MSc Software Design, ITU   \n",
       "4    Classification  MSc Digitial Innovation and Management, ITU   \n",
       "\n",
       "                                     why_this_course first_language  \\\n",
       "0                            It is the most exciting         Python   \n",
       "1                          This was mandatory for me           Java   \n",
       "2  It is the most exciting, It'll give me busines...           Java   \n",
       "3  It is the most exciting, This was mandatory fo...        Stata/R   \n",
       "4  It is the most exciting, It'll give me busines...         Python   \n",
       "\n",
       "  programming_years                                      python_skills  \\\n",
       "0          6 months     I have tried to write simple scripts in Python   \n",
       "1              1 år  I have heard about it and have an idea about w...   \n",
       "2            1 Year     I have tried to write simple scripts in Python   \n",
       "3          5  years        I am quite capable of programming in Python   \n",
       "4       5-ish years     I have tried to write simple scripts in Python   \n",
       "\n",
       "                                       math_formulas  shoe_size_eu  height_in  \\\n",
       "0                                     Valgmulighed 1          47.0  74.400000   \n",
       "1                                     Valgmulighed 1          39.0  65.748031   \n",
       "2                     Valgmulighed 1, Valgmulighed 5          42.0  68.000000   \n",
       "3  Valgmulighed 1, Valgmulighed 2, Valgmulighed 3...          38.0  66.500000   \n",
       "4                     Valgmulighed 1, Valgmulighed 2          40.0  65.740000   \n",
       "\n",
       "   gender  \n",
       "0    Male  \n",
       "1  Female  \n",
       "2    Male  \n",
       "3  Female  \n",
       "4  Female  "
      ]
     },
     "execution_count": 22,
     "metadata": {},
     "output_type": "execute_result"
    }
   ],
   "source": [
    "print(f'Rows: {len(df)}')\n",
    "print(f'Columns: {len(df.columns)}')\n",
    "df.head()"
   ]
  },
  {
   "cell_type": "markdown",
   "id": "789dd5dc",
   "metadata": {},
   "source": [
    "I will now apply the kmeans algorithm to cluster the individuals from the survey as based on their height in inches and shoe size in eu "
   ]
  },
  {
   "cell_type": "markdown",
   "id": "64b2179e",
   "metadata": {},
   "source": [
    "### Kmeans\n",
    "\n",
    "The question I am investigating: Is it possible to find clusters based upon the individuals shoe size and height? If yes, what is the connection?\n",
    "\n",
    "To start my clustering method, I will create a new DataFrame that only contains the variables that I need and assign them all to class 1"
   ]
  },
  {
   "cell_type": "code",
   "execution_count": 45,
   "id": "c1bf8017",
   "metadata": {},
   "outputs": [
    {
     "data": {
      "text/html": [
       "<div>\n",
       "<style scoped>\n",
       "    .dataframe tbody tr th:only-of-type {\n",
       "        vertical-align: middle;\n",
       "    }\n",
       "\n",
       "    .dataframe tbody tr th {\n",
       "        vertical-align: top;\n",
       "    }\n",
       "\n",
       "    .dataframe thead th {\n",
       "        text-align: right;\n",
       "    }\n",
       "</style>\n",
       "<table border=\"1\" class=\"dataframe\">\n",
       "  <thead>\n",
       "    <tr style=\"text-align: right;\">\n",
       "      <th></th>\n",
       "      <th>shoe_size_eu</th>\n",
       "      <th>height_in</th>\n",
       "      <th>class</th>\n",
       "    </tr>\n",
       "  </thead>\n",
       "  <tbody>\n",
       "    <tr>\n",
       "      <th>0</th>\n",
       "      <td>47.0</td>\n",
       "      <td>74.400000</td>\n",
       "      <td>1</td>\n",
       "    </tr>\n",
       "    <tr>\n",
       "      <th>1</th>\n",
       "      <td>39.0</td>\n",
       "      <td>65.748031</td>\n",
       "      <td>1</td>\n",
       "    </tr>\n",
       "    <tr>\n",
       "      <th>2</th>\n",
       "      <td>42.0</td>\n",
       "      <td>68.000000</td>\n",
       "      <td>1</td>\n",
       "    </tr>\n",
       "    <tr>\n",
       "      <th>3</th>\n",
       "      <td>38.0</td>\n",
       "      <td>66.500000</td>\n",
       "      <td>1</td>\n",
       "    </tr>\n",
       "    <tr>\n",
       "      <th>4</th>\n",
       "      <td>40.0</td>\n",
       "      <td>65.740000</td>\n",
       "      <td>1</td>\n",
       "    </tr>\n",
       "  </tbody>\n",
       "</table>\n",
       "</div>"
      ],
      "text/plain": [
       "   shoe_size_eu  height_in  class\n",
       "0          47.0  74.400000      1\n",
       "1          39.0  65.748031      1\n",
       "2          42.0  68.000000      1\n",
       "3          38.0  66.500000      1\n",
       "4          40.0  65.740000      1"
      ]
     },
     "execution_count": 45,
     "metadata": {},
     "output_type": "execute_result"
    }
   ],
   "source": [
    "kmeans_df = df[['shoe_size_eu','height_in']].copy().reset_index(drop=True) #create new dataset, only containing shoe size and height\n",
    "kmeans_df['class'] = 1 #setting the class column, which will be used for the clusterings\n",
    "kmeans_df.head()"
   ]
  },
  {
   "cell_type": "code",
   "execution_count": 59,
   "id": "be89845e",
   "metadata": {},
   "outputs": [],
   "source": [
    "#initializes the centroids\n",
    "def initialCentroids(kmeans_df):\n",
    "    mean1 = kmeans_df.iloc[random.randint(1, len(kmeans_df))][:2] #taking two random points to initialize, but only from the first two columns, being shoe size and height\n",
    "    mean2 = kmeans_df.iloc[random.randint(1, len(kmeans_df))][:2]\n",
    "    return mean1, mean2"
   ]
  },
  {
   "cell_type": "code",
   "execution_count": 60,
   "id": "0b37e611",
   "metadata": {},
   "outputs": [],
   "source": [
    "#calculating the euclidean distance\n",
    "def calculateEuclidean(kmeans_df,pointIDX,mean1,mean2):\n",
    "    point = kmeans_df.loc[[pointIDX]] #a row from the dataframe\n",
    "    \n",
    "    p = np.array(point)[:,:2] #takes the two first columns from the row from the dataframe, so shoe size and height, and turns them into an array\n",
    "    m1 = np.array(mean1) #the coordinates for mean1 in an array\n",
    "    m2 = np.array(mean2) #the coordinates for mean2 in an array\n",
    "    \n",
    "    #calculates the distance from the two column values and the two means\n",
    "    dist_m1 = np.linalg.norm(p-m1) #we take the values from the two columns as defined in m1 and m2 and measures the distance from the first mean...\n",
    "    dist_m2 = np.linalg.norm(p-m2) #...and the second mean using np.linalg.norm\n",
    "    \n",
    "    #assigns a class value of the mean that is the closest to the column values\n",
    "    if dist_m1 < dist_m2: #so if the distance to mean 1 is shorter than the distance to mean 2, then\n",
    "        kmeans_df.loc[pointIDX, 'class'] = 1 #assign class 1\n",
    "    else:\n",
    "        kmeans_df.loc[pointIDX, 'class'] = 2 #if not, assign class 2\n",
    "        \n",
    "    return kmeans_df #returns a dataframe with the closest mean assigned to the column 'class'"
   ]
  },
  {
   "cell_type": "code",
   "execution_count": 61,
   "id": "9a1b52b8",
   "metadata": {},
   "outputs": [],
   "source": [
    "#updating the mean (the position of the centroids)\n",
    "def updateCentroids(kmeans_df):\n",
    "    mean1_updated = kmeans_df[kmeans_df['class'] == 1].mean()[:2] #updates the position of the centroids based on the two first columns (shoe size and height)\n",
    "    mean2_updated = kmeans_df[kmeans_df['class'] == 2].mean()[:2]\n",
    "\n",
    "    return mean1_updated, mean2_updated"
   ]
  },
  {
   "cell_type": "code",
   "execution_count": 62,
   "id": "d9f51d44",
   "metadata": {},
   "outputs": [],
   "source": [
    "#runs the k-means algorithm in given iterations\n",
    "#this part of the code was created with inspiration from the exercise template, which I have then used, described and changed to fit my case\n",
    "def Kmeans(kmeans_df,iterations):\n",
    "    mean1,mean2 = initialCentroids(kmeans_df) #initializes the position of the centroids for the algorithm to work off of\n",
    "\n",
    "    for iteration in range(iterations): #starts the first iteration\n",
    "\n",
    "        print(\"Iteration {}/{}\".format(iteration+1,iterations)) #prints and displays the amount of iterations\n",
    "        \n",
    "        for i in range(len(kmeans_df)): #for loop that runs the length of the dataframe kmeans_df\n",
    "            kmeans_df = calculateEuclidean(kmeans_df,i,mean1,mean2) #calculates the euclidean distance and assigns each row to a class based on the closest mean/centroid\n",
    "            \n",
    "        mean1,mean2 = updateCentroids(kmeans_df) #updates the position of the centroids\n",
    "\n",
    "    return kmeans_df,mean1,mean2 #returns the dataframe and the final centroids"
   ]
  },
  {
   "cell_type": "code",
   "execution_count": 63,
   "id": "3106a534",
   "metadata": {},
   "outputs": [
    {
     "name": "stdout",
     "output_type": "stream",
     "text": [
      "Iteration 1/5\n",
      "Iteration 2/5\n",
      "Iteration 3/5\n",
      "Iteration 4/5\n",
      "Iteration 5/5\n"
     ]
    },
    {
     "data": {
      "text/plain": [
       "<Figure size 432x288 with 0 Axes>"
      ]
     },
     "metadata": {},
     "output_type": "display_data"
    },
    {
     "data": {
      "image/png": "[encoded data removed]",
      "text/plain": [
       "<Figure size 720x360 with 1 Axes>"
      ]
     },
     "metadata": {
      "needs_background": "light"
     },
     "output_type": "display_data"
    }
   ],
   "source": [
    "kmeans_df,mean1,mean2 = Kmeans(kmeans_df,5) #tells the function to do 5 iterations\n",
    "\n",
    "class1 = kmeans_df.loc[kmeans_df['class'] == 1] #appoints the given clusters/classes to variables\n",
    "class2 = kmeans_df.loc[kmeans_df['class'] == 2]\n",
    "\n",
    "#visualizing the scatterplot with the kmeans clustering and the final mean/centroids\n",
    "plt.clf()\n",
    "plt.figure(figsize=(10,5))\n",
    "\n",
    "#class visualizing\n",
    "plt.scatter(class1['height_in'],class1['shoe_size_eu'],color='purple',label='Class 1')  \n",
    "plt.scatter(class2['height_in'],class2['shoe_size_eu'],color='hotpink',label='Class 2')\n",
    "\n",
    "#mean visualizing\n",
    "plt.scatter(mean1['height_in'],mean1['shoe_size_eu'],s=80,label='Mean 1',marker='s',color='darkgreen')\n",
    "plt.scatter(mean2['height_in'],mean2['shoe_size_eu'],s=80,label='Mean 2',marker='s',color='darkblue')\n",
    "\n",
    "plt.legend()\n",
    "plt.show()"
   ]
  },
  {
   "cell_type": "markdown",
   "id": "901dc595",
   "metadata": {},
   "source": [
    "Note to the visualization: given that the k-means algorithm is nondeterministic given its random initialization steps and beginning centroid positions, the scatterplot will potentially look different when you (TA's) run it, compared to the screenshot in the written paper."
   ]
  },
  {
   "cell_type": "markdown",
   "id": "a91efdd3",
   "metadata": {},
   "source": [
    "What we here see is that there are two clusters within the dataset, as based on these two features of height and shoe size, where the data points in each cluster are comparable and similar to each other based on a similarity measure of the euclidean distance. Meaning that as a result, each cluster will have data points with similar features. So applying this to these clusterings, in a generalization cluster 1 clustered individuals that may be considered tall and with a larger show size, and cluster 2 may be considered short and with a lower shoe size (aside of the outlier at the 44 shoe size mark)"
   ]
  },
  {
   "cell_type": "code",
   "execution_count": 64,
   "id": "4eb4c6ab",
   "metadata": {},
   "outputs": [],
   "source": [
    "#predicts the position of a new point in one of the two identified clusters\n",
    "def predictKMeans(shoe_size, height, mean1=mean1, mean2=mean2):\n",
    "    mean1 = np.array(mean1) #the final first mean to an array\n",
    "    mean2 = np.array(mean2) #the final second mean to an array\n",
    "    p = [shoe_size,height] #the two values\n",
    "    \n",
    "    dist_m1 = np.linalg.norm(p-mean1) #calculate the distance again\n",
    "    dist_m2 = np.linalg.norm(p-mean2)\n",
    "    \n",
    "    if dist_m1 < dist_m2: #if the distance from the first mean is shorter than the distance to the second mean\n",
    "        predicted_class = 1 #class 1\n",
    "    else:\n",
    "        predicted_class = 2 #otherwise class 2\n",
    "        \n",
    "    print(f\"This person is in class {predicted_class}\")"
   ]
  },
  {
   "cell_type": "code",
   "execution_count": 65,
   "id": "1c0d1c40",
   "metadata": {},
   "outputs": [
    {
     "name": "stdout",
     "output_type": "stream",
     "text": [
      "This person is in class 2\n"
     ]
    }
   ],
   "source": [
    "predictKMeans(shoe_size=44, height=70)"
   ]
  },
  {
   "cell_type": "code",
   "execution_count": 66,
   "id": "03e7fa73",
   "metadata": {},
   "outputs": [
    {
     "name": "stdout",
     "output_type": "stream",
     "text": [
      "This person is in class 1\n"
     ]
    }
   ],
   "source": [
    "predictKMeans(height=44, shoe_size=70)"
   ]
  },
  {
   "cell_type": "markdown",
   "id": "98757bc8",
   "metadata": {},
   "source": [
    "### Feature engineering for naïve bayes"
   ]
  },
  {
   "cell_type": "markdown",
   "id": "ac03c0ba",
   "metadata": {},
   "source": [
    "I will start by looking into the 'first_language' column, to see if I need to do any cleaning or feature engineering"
   ]
  },
  {
   "cell_type": "code",
   "execution_count": 32,
   "id": "caaa2b38",
   "metadata": {},
   "outputs": [
    {
     "data": {
      "text/plain": [
       "Java                                                                                                                         21\n",
       "Python                                                                                                                       10\n",
       "java                                                                                                                          3\n",
       "Python                                                                                                                        3\n",
       "Javascript                                                                                                                    3\n",
       "C++                                                                                                                           2\n",
       "JavaScript                                                                                                                    2\n",
       "R                                                                                                                             2\n",
       "Stata/R                                                                                                                       1\n",
       "python                                                                                                                        1\n",
       "F#                                                                                                                            1\n",
       "Python will be my first programming language, because this semester im also doing the Introcuction to Programming course.     1\n",
       "Explored Python first, but learned with Java                                                                                  1\n",
       "Java, then Python                                                                                                             1\n",
       "C                                                                                                                             1\n",
       "Name: first_language, dtype: int64"
      ]
     },
     "execution_count": 32,
     "metadata": {},
     "output_type": "execute_result"
    }
   ],
   "source": [
    "df['first_language'].value_counts()"
   ]
  },
  {
   "cell_type": "markdown",
   "id": "f465805c",
   "metadata": {},
   "source": [
    "By looking at this I see there are some instances where the values are counted multiple times given its case sensitivity - I will fix"
   ]
  },
  {
   "cell_type": "code",
   "execution_count": 33,
   "id": "1fd0abd3",
   "metadata": {},
   "outputs": [],
   "source": [
    "#setting both lower case and removing leading and trailing white spaces\n",
    "df.first_language = df.first_language.apply(lambda x: x.lower().strip())"
   ]
  },
  {
   "cell_type": "code",
   "execution_count": 34,
   "id": "0a355352",
   "metadata": {},
   "outputs": [
    {
     "data": {
      "text/plain": [
       "java                                                                                                                         24\n",
       "python                                                                                                                       14\n",
       "javascript                                                                                                                    5\n",
       "c++                                                                                                                           2\n",
       "r                                                                                                                             2\n",
       "stata/r                                                                                                                       1\n",
       "f#                                                                                                                            1\n",
       "python will be my first programming language, because this semester im also doing the introcuction to programming course.     1\n",
       "explored python first, but learned with java                                                                                  1\n",
       "java, then python                                                                                                             1\n",
       "c                                                                                                                             1\n",
       "Name: first_language, dtype: int64"
      ]
     },
     "execution_count": 34,
     "metadata": {},
     "output_type": "execute_result"
    }
   ],
   "source": [
    "df['first_language'].value_counts() #check again"
   ]
  },
  {
   "cell_type": "code",
   "execution_count": 35,
   "id": "32e4ae1c",
   "metadata": {},
   "outputs": [],
   "source": [
    "#further engineering to remove elaborate sentences exceeding 1 language\n",
    "df.loc[3,\"first_language\"] = 'stata'\n",
    "df.loc[33,\"first_language\"] = 'python'\n",
    "df.loc[35,\"first_language\"] = 'python'\n",
    "df.loc[45,\"first_language\"] = 'java'"
   ]
  },
  {
   "cell_type": "code",
   "execution_count": 36,
   "id": "86c65405",
   "metadata": {},
   "outputs": [
    {
     "data": {
      "text/plain": [
       "java          25\n",
       "python        16\n",
       "javascript     5\n",
       "c++            2\n",
       "r              2\n",
       "stata          1\n",
       "f#             1\n",
       "c              1\n",
       "Name: first_language, dtype: int64"
      ]
     },
     "execution_count": 36,
     "metadata": {},
     "output_type": "execute_result"
    }
   ],
   "source": [
    "df['first_language'].value_counts() #check again"
   ]
  },
  {
   "cell_type": "markdown",
   "id": "ef00c9f8",
   "metadata": {},
   "source": [
    "Moving on to my y = gender"
   ]
  },
  {
   "cell_type": "code",
   "execution_count": 37,
   "id": "cecb65f8",
   "metadata": {},
   "outputs": [
    {
     "data": {
      "text/plain": [
       "Male          27\n",
       "Female        25\n",
       "Non binary     1\n",
       "Name: gender, dtype: int64"
      ]
     },
     "execution_count": 37,
     "metadata": {},
     "output_type": "execute_result"
    }
   ],
   "source": [
    "df['gender'].value_counts()"
   ]
  },
  {
   "cell_type": "markdown",
   "id": "b03b3ceb",
   "metadata": {},
   "source": [
    "Seeing as this prediction or assignment is not concerning anything regarding gender normaties, and as to not misclassify this individuel, I will drop this person from the dataframe"
   ]
  },
  {
   "cell_type": "code",
   "execution_count": 38,
   "id": "9589e415",
   "metadata": {},
   "outputs": [
    {
     "data": {
      "text/plain": [
       "Male      27\n",
       "Female    25\n",
       "Name: gender, dtype: int64"
      ]
     },
     "execution_count": 38,
     "metadata": {},
     "output_type": "execute_result"
    }
   ],
   "source": [
    "df = df[df.gender != 'Non binary']\n",
    "df['gender'].value_counts()"
   ]
  },
  {
   "cell_type": "markdown",
   "id": "4b6f13d4",
   "metadata": {},
   "source": [
    "### Naïve bayes\n",
    "\n",
    "The question I am investigating: Is it possible to predict gender based on the first programming language? If yes, what is the likelihood of being a man if your first programming language is python?"
   ]
  },
  {
   "cell_type": "code",
   "execution_count": 39,
   "id": "be5442a4",
   "metadata": {},
   "outputs": [
    {
     "data": {
      "text/html": [
       "<div>\n",
       "<style scoped>\n",
       "    .dataframe tbody tr th:only-of-type {\n",
       "        vertical-align: middle;\n",
       "    }\n",
       "\n",
       "    .dataframe tbody tr th {\n",
       "        vertical-align: top;\n",
       "    }\n",
       "\n",
       "    .dataframe thead th {\n",
       "        text-align: right;\n",
       "    }\n",
       "</style>\n",
       "<table border=\"1\" class=\"dataframe\">\n",
       "  <thead>\n",
       "    <tr style=\"text-align: right;\">\n",
       "      <th></th>\n",
       "      <th>first_language</th>\n",
       "      <th>gender</th>\n",
       "    </tr>\n",
       "  </thead>\n",
       "  <tbody>\n",
       "    <tr>\n",
       "      <th>0</th>\n",
       "      <td>python</td>\n",
       "      <td>Male</td>\n",
       "    </tr>\n",
       "    <tr>\n",
       "      <th>1</th>\n",
       "      <td>java</td>\n",
       "      <td>Female</td>\n",
       "    </tr>\n",
       "    <tr>\n",
       "      <th>2</th>\n",
       "      <td>java</td>\n",
       "      <td>Male</td>\n",
       "    </tr>\n",
       "    <tr>\n",
       "      <th>3</th>\n",
       "      <td>stata</td>\n",
       "      <td>Female</td>\n",
       "    </tr>\n",
       "    <tr>\n",
       "      <th>4</th>\n",
       "      <td>python</td>\n",
       "      <td>Female</td>\n",
       "    </tr>\n",
       "  </tbody>\n",
       "</table>\n",
       "</div>"
      ],
      "text/plain": [
       "  first_language  gender\n",
       "0         python    Male\n",
       "1           java  Female\n",
       "2           java    Male\n",
       "3          stata  Female\n",
       "4         python  Female"
      ]
     },
     "execution_count": 39,
     "metadata": {},
     "output_type": "execute_result"
    }
   ],
   "source": [
    "#create df only containing the two columns of interest\n",
    "naive_df = df[['first_language', 'gender']]\n",
    "naive_df.head()"
   ]
  },
  {
   "cell_type": "code",
   "execution_count": 40,
   "id": "f6a16b69",
   "metadata": {},
   "outputs": [
    {
     "name": "stdout",
     "output_type": "stream",
     "text": [
      "[('python', 'Male'), ('java', 'Female'), ('java', 'Male'), ('stata', 'Female'), ('python', 'Female'), ('python', 'Male'), ('python', 'Male'), ('java', 'Male'), ('python', 'Male'), ('python', 'Female'), ('java', 'Male'), ('python', 'Male'), ('java', 'Male'), ('java', 'Female'), ('f#', 'Female'), ('python', 'Female'), ('c++', 'Male'), ('javascript', 'Female'), ('python', 'Male'), ('r', 'Female'), ('javascript', 'Female'), ('javascript', 'Male'), ('java', 'Female'), ('python', 'Male'), ('java', 'Male'), ('python', 'Female'), ('java', 'Female'), ('java', 'Female'), ('java', 'Female'), ('java', 'Female'), ('javascript', 'Female'), ('java', 'Female'), ('python', 'Male'), ('java', 'Male'), ('python', 'Female'), ('java', 'Female'), ('java', 'Male'), ('c++', 'Male'), ('java', 'Female'), ('javascript', 'Female'), ('r', 'Male'), ('python', 'Female'), ('java', 'Male'), ('python', 'Female'), ('java', 'Male'), ('java', 'Female'), ('java', 'Male'), ('java', 'Male'), ('java', 'Male'), ('c', 'Male'), ('python', 'Male'), ('java', 'Male')]\n"
     ]
    }
   ],
   "source": [
    "#To work with the data, I will convert the pandas dataframe to a list of tuples\n",
    "naives_list = naive_df.to_records(index=False)\n",
    "naives_list = list(naives_list)\n",
    "print(naives_list)"
   ]
  },
  {
   "cell_type": "code",
   "execution_count": 41,
   "id": "b418715d",
   "metadata": {},
   "outputs": [],
   "source": [
    "#this part of the code was created with inspiration from the exercise template, which I have then used, described and changed to fit my case\n",
    "def train(naives_list):\n",
    "    model = {} #dictionary that are going to store the counts\n",
    "    for first_language, gender in naives_list: #iterates over each instance from the above created naive_list\n",
    "        if gender not in model: #if the gender is not in the dictionary\n",
    "            model[gender] = {} #create gender key and initialize in sub dictionary\n",
    "        if first_language not in model[gender]: #if the first_language is not in the model dictionary given gender\n",
    "            model[gender][first_language] = 0 #initialize as 0\n",
    "            \n",
    "        model[gender][first_language] += 1 #add 1\n",
    "\n",
    "        #keep track of how many times each gender is observed\n",
    "        if 'observed' not in model[gender]: #if not counted yet\n",
    "            model[gender]['observed'] = 0 #create key and give value 0\n",
    "\n",
    "        model[gender]['observed'] += 1 #iterates counter\n",
    "    return model    "
   ]
  },
  {
   "cell_type": "code",
   "execution_count": 42,
   "id": "b264a3d6",
   "metadata": {},
   "outputs": [
    {
     "name": "stdout",
     "output_type": "stream",
     "text": [
      "{'Male': {'python': 9, 'observed': 27, 'java': 13, 'c++': 2, 'javascript': 1, 'r': 1, 'c': 1}, 'Female': {'java': 11, 'observed': 25, 'stata': 1, 'python': 7, 'f#': 1, 'javascript': 4, 'r': 1}}\n"
     ]
    }
   ],
   "source": [
    "#the above function creates the following dictionary storing the counts and keys\n",
    "parameters = train(naives_list)\n",
    "print(parameters)"
   ]
  },
  {
   "cell_type": "code",
   "execution_count": 43,
   "id": "3039604f",
   "metadata": {},
   "outputs": [],
   "source": [
    "#this function runs the naive bayes algorithm\n",
    "def predict(parameters, language):\n",
    "    mle = {} #create a dictionary for the maximum likelihood\n",
    "\n",
    "    total_observed = 0 #gender\n",
    "    total_language = 0 #first_language\n",
    "    for gender in parameters: #looking for gender in dictionary with 2 iterations given the 2 genders\n",
    "        if language not in parameters[gender]: #if the language is not in the gender key\n",
    "            parameters[gender][language] = 0 #then create language key and give value 0\n",
    "            \n",
    "        total_observed += parameters[gender]['observed'] #summarizes the amount of observations across genders\n",
    "        total_language += parameters[gender][language] #summarizes the amount of observations with a given first_language across genders\n",
    "\n",
    "    for gender in parameters: #for each gender in the dictionary\n",
    "        mle[gender] = 0 #initialize maximum likelihood as 0\n",
    "\n",
    "        gender_prob = parameters[gender]['observed']/total_observed #P(A) - probability for each gender/prior probability - the count of each gender divided by the total amount of rows\n",
    "        language_prob = total_language/total_observed               #P(B) - probability for first_language/marginal likelihood - the count of a coding language divided by the total amount of rows\n",
    "        conditional_prob = (parameters[gender][language]/parameters[gender]['observed']) #P(B|A) - conditional probability/likelihood - the probability of first_language given gender, so fx python = 9 and male = 27 --> 9/27 = likelihood\n",
    "        try:\n",
    "            if language in parameters[gender]: #if this first_language was seen within the observed gender\n",
    "                mle[gender] = (conditional_prob*gender_prob)/language_prob #P(A|B) = (P(B|A) * P(A)) / P(B) --> Get the maximum likelihood for that gender based on bayes theroum\n",
    "        except:\n",
    "            mle[gender] = 0 #set as 0 if the first_language is not known\n",
    "            \n",
    "    print(\"Likelihood for each gender:\", mle) #print the maximum likelihood of each gender\n",
    "\n",
    "    best_estimate = ['', 0] #a container that is getting the gender and maximum likelihood\n",
    "    for gender in mle: #for genders we have calculated mle on\n",
    "        if mle[gender] > best_estimate[1]: #if the mle for this gender is higher than the one before\n",
    "            best_estimate = [gender, mle[gender]] #set both gender and likelihood in the container\n",
    "\n",
    "    return best_estimate"
   ]
  },
  {
   "cell_type": "code",
   "execution_count": 44,
   "id": "da75a8e0",
   "metadata": {},
   "outputs": [
    {
     "name": "stdout",
     "output_type": "stream",
     "text": [
      "Likelihood for each gender: {'Male': 0.5625, 'Female': 0.43750000000000006}\n",
      "If your first programming language is python then you are most likely a Male\n"
     ]
    }
   ],
   "source": [
    "language = 'python'\n",
    "\n",
    "prediction = predict(parameters, language)\n",
    "\n",
    "if prediction[0]:\n",
    "    print('If your first programming language is', language, 'then you are most likely a', prediction[0])\n",
    "else:\n",
    "    print('If your first programming language is', language, 'you are most likely an alien, or outside of my supervised knowledge')\n"
   ]
  },
  {
   "cell_type": "code",
   "execution_count": null,
   "id": "4d438534",
   "metadata": {},
   "outputs": [],
   "source": []
  }
 ],
 "metadata": {
  "kernelspec": {
   "display_name": "Python 3",
   "language": "python",
   "name": "python3"
  },
  "language_info": {
   "codemirror_mode": {
    "name": "ipython",
    "version": 3
   },
   "file_extension": ".py",
   "mimetype": "text/x-python",
   "name": "python",
   "nbconvert_exporter": "python",
   "pygments_lexer": "ipython3",
   "version": "3.8.5"
  }
 },
 "nbformat": 4,
 "nbformat_minor": 5
}
